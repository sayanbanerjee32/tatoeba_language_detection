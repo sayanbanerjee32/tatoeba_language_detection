{
  "nbformat": 4,
  "nbformat_minor": 0,
  "metadata": {
    "colab": {
      "name": "local_explanation_fastai_133_langs.ipynb",
      "provenance": [],
      "authorship_tag": "ABX9TyN1s7RTtl6PmLqiIX41ZegY",
      "include_colab_link": true
    },
    "kernelspec": {
      "name": "python3",
      "display_name": "Python 3"
    },
    "language_info": {
      "name": "python"
    }
  },
  "cells": [
    {
      "cell_type": "markdown",
      "metadata": {
        "id": "view-in-github",
        "colab_type": "text"
      },
      "source": [
        "<a href=\"https://colab.research.google.com/github/sayanbanerjee32/lang_detect/blob/main/local_explanation_fastai_133_langs.ipynb\" target=\"_parent\"><img src=\"https://colab.research.google.com/assets/colab-badge.svg\" alt=\"Open In Colab\"/></a>"
      ]
    },
    {
      "cell_type": "code",
      "metadata": {
        "id": "D27wqqbnHO9i"
      },
      "source": [
        "%%capture\n",
        "!pip install fastai -Uq\n",
        "!pip install captum\n",
        "!pip install ipyvuetify "
      ],
      "execution_count": null,
      "outputs": []
    },
    {
      "cell_type": "code",
      "metadata": {
        "colab": {
          "base_uri": "https://localhost:8080/"
        },
        "id": "NosqgaQgGhQs",
        "outputId": "4f6071c6-d575-4bde-cde2-9f9c2bf9e479"
      },
      "source": [
        "# mount gdrive for data and model\n",
        "from google.colab import drive\n",
        "drive.mount('/content/drive')"
      ],
      "execution_count": null,
      "outputs": [
        {
          "output_type": "stream",
          "name": "stdout",
          "text": [
            "Drive already mounted at /content/drive; to attempt to forcibly remount, call drive.mount(\"/content/drive\", force_remount=True).\n"
          ]
        }
      ]
    },
    {
      "cell_type": "code",
      "metadata": {
        "id": "XFa4UptTG3Yu"
      },
      "source": [
        "# model file location\n",
        "saved_model_path = '/content/drive/MyDrive/lang_detection/models/fastai_133_langs_v3'"
      ],
      "execution_count": null,
      "outputs": []
    },
    {
      "cell_type": "code",
      "metadata": {
        "id": "Dm8EVmMhHGnJ"
      },
      "source": [
        "# support functiosn to load fast ai model\n",
        "from collections.abc import Iterable\n",
        "\n",
        "def flatten(l):\n",
        "    for el in l:\n",
        "        if isinstance(el, Iterable) and not isinstance(el, (str, bytes)):\n",
        "            yield from flatten(el)\n",
        "        else:\n",
        "            yield el\n",
        "class CharTokenizer():\n",
        "        \n",
        "    def __call__(self, items):\n",
        "        \n",
        "        # List where I temporarly store the tokens ['xxbos', 'h', 'e', 'l', 'l', 'o', 'xxeos'] as \n",
        "        # they are being parsed.\n",
        "        final_list = []\n",
        "        \n",
        "        # We don't want to mess with the special fastai tokens\n",
        "        special_chars = ['xxunk','xxpad','xxbos','xxeos','xxfld','xxrep','xxwrep','xxup','xxmaj']\n",
        "        \n",
        "        # Break up string into words, if word in special_chars dont touch it. Otherwise break up each\n",
        "        # word into each character.\n",
        "        for words in items:\n",
        "            tmp = list(flatten([list(word) if word not in special_chars else word \n",
        "                                                for word in words.split()]))\n",
        "            # tmp has each token 'xxbos', 'xxmaj', 'h', 'e', 'l', 'l', 'o', ',', 'w', 'h', ....]\n",
        "            # We need to put the tmp list into another list to generate a generator below\n",
        "            final_list.append(tmp)\n",
        "        \n",
        "        # Returns a generator\n",
        "        return (t for t in final_list)\n"
      ],
      "execution_count": null,
      "outputs": []
    },
    {
      "cell_type": "code",
      "metadata": {
        "id": "5jcHoinyHLpY"
      },
      "source": [
        "# load fastai model\n",
        "from fastai.text.all import *\n",
        "from fastai.callback.fp16 import *\n",
        "learner = load_learner(saved_model_path)"
      ],
      "execution_count": null,
      "outputs": []
    },
    {
      "cell_type": "code",
      "metadata": {
        "id": "9-43lgLqHS4O"
      },
      "source": [
        "# getting to the actual layer that holds embeddings\n",
        "embedding_layer = learner.model[0]._modules['module']._modules['encoder_dp']\n",
        "\n",
        "# working around the model prediction - first output only, apply softmax\n",
        "forward_func = lambda x: torch.softmax(learner.model(x)[0], dim=-1)"
      ],
      "execution_count": null,
      "outputs": []
    },
    {
      "cell_type": "code",
      "metadata": {
        "id": "rtM2DIcvIRs6"
      },
      "source": [
        "from captum.attr import LayerIntegratedGradients\n",
        "# make integrated gradients instance\n",
        "lig = LayerIntegratedGradients(\n",
        "    forward_func, \n",
        "    embedding_layer\n",
        ")"
      ],
      "execution_count": null,
      "outputs": []
    },
    {
      "cell_type": "code",
      "metadata": {
        "id": "w6zFUwAbIzrv"
      },
      "source": [
        "# function to get attribution\n",
        "def get_attributions_for_sentence(sentence, \n",
        "                                  awd_model=learner, \n",
        "                                  lig_instance=lig,\n",
        "                                  target = None, \n",
        "                                  lig_n_steps = 200,\n",
        "                                  baseline_token='xxunk'):\n",
        "    awd = awd_model\n",
        "    lig = lig_instance\n",
        "    vocab = awd.dls.vocab[0]\n",
        "    num_sentence_tokens = awd.dls.numericalize(sentence).view(1, -1) \n",
        "    sentence_tokens = [vocab[i] for i in num_sentence_tokens[0]]\n",
        "    baseline = torch.ones_like(torch.tensor(num_sentence_tokens)) * vocab.index(baseline_token) # see \"how to choose a good baseline\"\n",
        "    baseline[0,0] = vocab.index('xxbos') # beginning of sentence is always #1\n",
        "    y = awd.predict(sentence)\n",
        "    if target is None:\n",
        "        target = y[1].item()\n",
        "    attrs = lig.attribute(num_sentence_tokens, baseline, target, n_steps=lig_n_steps)\n",
        "    a = attrs.sum(-1)\n",
        "    a = a / torch.norm(a)\n",
        "    return (\n",
        "        pd.Series(a.numpy()[0], index=sentence_tokens),\n",
        "        y\n",
        "    )"
      ],
      "execution_count": null,
      "outputs": []
    },
    {
      "cell_type": "code",
      "metadata": {
        "colab": {
          "base_uri": "https://localhost:8080/",
          "height": 89
        },
        "id": "XOBxVYQVJZzZ",
        "outputId": "e2fdedf5-4860-4d44-fe11-265b8f291b26"
      },
      "source": [
        "# generate attribution\n",
        "attributions, prediction = get_attributions_for_sentence('Hi, i am sayan')\n",
        "len(attributions)"
      ],
      "execution_count": null,
      "outputs": [
        {
          "output_type": "stream",
          "name": "stderr",
          "text": [
            "/usr/local/lib/python3.7/dist-packages/ipykernel_launcher.py:12: UserWarning: To copy construct from a tensor, it is recommended to use sourceTensor.clone().detach() or sourceTensor.clone().detach().requires_grad_(True), rather than torch.tensor(sourceTensor).\n",
            "  if sys.path[0] == '':\n"
          ]
        },
        {
          "output_type": "display_data",
          "data": {
            "text/html": [
              ""
            ],
            "text/plain": [
              "<IPython.core.display.HTML object>"
            ]
          },
          "metadata": {}
        },
        {
          "output_type": "execute_result",
          "data": {
            "text/plain": [
              "14"
            ]
          },
          "metadata": {},
          "execution_count": 19
        }
      ]
    },
    {
      "cell_type": "markdown",
      "metadata": {
        "id": "sFjUt7VpeycI"
      },
      "source": [
        "## Create visualization"
      ]
    },
    {
      "cell_type": "code",
      "metadata": {
        "id": "_I7V3gUZJiOd"
      },
      "source": [
        "import ipyvuetify as v"
      ],
      "execution_count": null,
      "outputs": []
    },
    {
      "cell_type": "code",
      "metadata": {
        "id": "8liiJRVKXnvV"
      },
      "source": [
        "class Chip(v.Chip):\n",
        "    positive = '0, 255, 0'\n",
        "    negative = '255, 0, 0'\n",
        "    def __init__(self, word, attribution):\n",
        "        direction = self.positive if attribution >= 0 else self.negative\n",
        "        color = f'rgba({direction}, {abs(attribution):.2f})'\n",
        "        super().__init__(class_='mx-0 px-1', \n",
        "                         children=[word], color=color, \n",
        "                         value=attribution,\n",
        "                         label=True, small=True)\n",
        "        \n",
        "def saliency_chips(attributions:pd.Series) -> v.ChipGroup:\n",
        "    children = [Chip(w, a)\n",
        "           for w, a in attributions.iteritems()]\n",
        "    return v.ChipGroup(column=True, children=children)"
      ],
      "execution_count": null,
      "outputs": []
    },
    {
      "cell_type": "code",
      "metadata": {
        "colab": {
          "base_uri": "https://localhost:8080/",
          "height": 55
        },
        "id": "9juvMQWnX0qM",
        "outputId": "56043815-fd6a-400a-9837-2e97cfd896e4"
      },
      "source": [
        "print(saliency_chips(attributions))"
      ],
      "execution_count": null,
      "outputs": [
        {
          "output_type": "stream",
          "name": "stdout",
          "text": [
            "ChipGroup(children=[Chip(children=['xxunk'], class_='mx-0 px-1', color='rgba(255, 0, 0, 0.36)', label=True, small=True, value=-0.3613611783949776), Chip(children=['i'], class_='mx-0 px-1', color='rgba(255, 0, 0, 0.40)', label=True, small=True, value=-0.4001495007636005), Chip(children=[','], class_='mx-0 px-1', color='rgba(255, 0, 0, 0.13)', label=True, small=True, value=-0.12803193578127017), Chip(children=['xxunk'], class_='mx-0 px-1', color='rgba(0, 255, 0, 0.00)', label=True, small=True, value=0.0), Chip(children=['i'], class_='mx-0 px-1', color='rgba(255, 0, 0, 0.19)', label=True, small=True, value=-0.1946031303840096), Chip(children=['xxunk'], class_='mx-0 px-1', color='rgba(0, 255, 0, 0.00)', label=True, small=True, value=0.0), Chip(children=['a'], class_='mx-0 px-1', color='rgba(0, 255, 0, 0.07)', label=True, small=True, value=0.06619349642576927), Chip(children=['m'], class_='mx-0 px-1', color='rgba(0, 255, 0, 0.07)', label=True, small=True, value=0.06560877550930631), Chip(children=['xxunk'], class_='mx-0 px-1', color='rgba(0, 255, 0, 0.00)', label=True, small=True, value=0.0), Chip(children=['s'], class_='mx-0 px-1', color='rgba(0, 255, 0, 0.02)', label=True, small=True, value=0.021792684523719432), Chip(children=['a'], class_='mx-0 px-1', color='rgba(255, 0, 0, 0.18)', label=True, small=True, value=-0.18173124278148256), Chip(children=['y'], class_='mx-0 px-1', color='rgba(0, 255, 0, 0.50)', label=True, small=True, value=0.5042544049676217), Chip(children=['a'], class_='mx-0 px-1', color='rgba(0, 255, 0, 0.60)', label=True, small=True, value=0.5984759845404458), Chip(children=['n'], class_='mx-0 px-1', color='rgba(255, 0, 0, 0.02)', label=True, small=True, value=-0.02006628408604299)], column=True)\n"
          ]
        }
      ]
    },
    {
      "cell_type": "code",
      "metadata": {
        "colab": {
          "base_uri": "https://localhost:8080/",
          "height": 303
        },
        "id": "B8wURi3gX1v-",
        "outputId": "981dce22-ef73-436c-d454-ed5317c46f58"
      },
      "source": [
        "# visualize as bar plot for each character\n",
        "attributions.plot.bar()"
      ],
      "execution_count": null,
      "outputs": [
        {
          "output_type": "execute_result",
          "data": {
            "text/plain": [
              "<matplotlib.axes._subplots.AxesSubplot at 0x7f47c9341690>"
            ]
          },
          "metadata": {},
          "execution_count": 17
        },
        {
          "output_type": "display_data",
          "data": {
            "image/png": "[encoded data removed]",
            "text/plain": [
              "<Figure size 432x288 with 1 Axes>"
            ]
          },
          "metadata": {
            "needs_background": "light"
          }
        }
      ]
    },
    {
      "cell_type": "code",
      "metadata": {
        "id": "mWb3wsjzYz_t"
      },
      "source": [
        ""
      ],
      "execution_count": null,
      "outputs": []
    }
  ]
}