{
  "nbformat": 4,
  "nbformat_minor": 0,
  "metadata": {
    "colab": {
      "name": "Data_exploration.ipynb",
      "provenance": [],
      "authorship_tag": "ABX9TyMlLWo6I7oW+3k4Q08IS7nE",
      "include_colab_link": true
    },
    "kernelspec": {
      "name": "python3",
      "display_name": "Python 3"
    },
    "language_info": {
      "name": "python"
    }
  },
  "cells": [
    {
      "cell_type": "markdown",
      "metadata": {
        "id": "view-in-github",
        "colab_type": "text"
      },
      "source": [
        "<a href=\"https://colab.research.google.com/github/sayanbanerjee32/lang_detect/blob/main/Data_exploration.ipynb\" target=\"_parent\"><img src=\"https://colab.research.google.com/assets/colab-badge.svg\" alt=\"Open In Colab\"/></a>"
      ]
    },
    {
      "cell_type": "code",
      "metadata": {
        "colab": {
          "base_uri": "https://localhost:8080/"
        },
        "id": "STXPZNU_tkPi",
        "outputId": "bf257457-33ab-4ac3-b1cb-285d37a605a8"
      },
      "source": [
        "# mount gdrive for data\n",
        "from google.colab import drive\n",
        "drive.mount('/content/drive')"
      ],
      "execution_count": 1,
      "outputs": [
        {
          "output_type": "stream",
          "name": "stdout",
          "text": [
            "Mounted at /content/drive\n"
          ]
        }
      ]
    },
    {
      "cell_type": "code",
      "metadata": {
        "id": "UP0V7xWIw3K1"
      },
      "source": [
        "# file locations\n",
        "tar_file_loc = '/content/drive/MyDrive/lang_detection/data/sentences.tar.bz2'\n",
        "dest_loc = '/tmp'\n",
        "file_name = 'sentences.csv'\n",
        "data_save_path = '/content/drive/MyDrive/lang_detection/models/'"
      ],
      "execution_count": 2,
      "outputs": []
    },
    {
      "cell_type": "code",
      "metadata": {
        "id": "C87Q1eLF7tJI"
      },
      "source": [
        "import pandas as pd\n",
        "import tarfile\n",
        "import numpy as np\n",
        "from sklearn.model_selection import StratifiedKFold"
      ],
      "execution_count": 3,
      "outputs": []
    },
    {
      "cell_type": "code",
      "metadata": {
        "id": "XuIFu8erusqb"
      },
      "source": [
        "# extract tar file\n",
        "tar = tarfile.open(tar_file_loc, \"r:bz2\")  \n",
        "tar.extractall(path = dest_loc)\n",
        "tar.close()"
      ],
      "execution_count": 4,
      "outputs": []
    },
    {
      "cell_type": "code",
      "metadata": {
        "id": "i_RR2MaKw1aJ"
      },
      "source": [
        "# read lines to understand structure\n",
        "with open(dest_loc +'/' + file_name) as file:\n",
        "    lines = file.readlines()\n",
        "    lines = [line.strip() for line in lines]"
      ],
      "execution_count": 5,
      "outputs": []
    },
    {
      "cell_type": "code",
      "metadata": {
        "colab": {
          "base_uri": "https://localhost:8080/"
        },
        "id": "2hA2fiKxxbO6",
        "outputId": "c14265ea-5850-4820-c7f6-0df49289444d"
      },
      "source": [
        "# see few samples\n",
        "lines[0:10]"
      ],
      "execution_count": 6,
      "outputs": [
        {
          "output_type": "execute_result",
          "data": {
            "text/plain": [
              "['1\\tcmn\\t我們試試看！',\n",
              " '2\\tcmn\\t我该去睡觉了。',\n",
              " '3\\tcmn\\t你在干什麼啊？',\n",
              " '4\\tcmn\\t這是什麼啊？',\n",
              " '5\\tcmn\\t今天是６月１８号，也是Muiriel的生日！',\n",
              " '6\\tcmn\\t生日快乐，Muiriel！',\n",
              " '7\\tcmn\\tMuiriel现在20岁了。',\n",
              " '8\\tcmn\\t密码是\"Muiriel\"。',\n",
              " '9\\tcmn\\t我很快就會回來。',\n",
              " '10\\tcmn\\t我不知道。']"
            ]
          },
          "metadata": {},
          "execution_count": 6
        }
      ]
    },
    {
      "cell_type": "code",
      "metadata": {
        "colab": {
          "base_uri": "https://localhost:8080/",
          "height": 206
        },
        "id": "4k5hqpW_zPew",
        "outputId": "3df3f559-c274-4b98-b97c-fca01be09df1"
      },
      "source": [
        "# read data in pandas\n",
        "sent_df = pd.read_csv(dest_loc +'/' + file_name, sep = '\\t', names = ['id','label','text'])\n",
        "sent_df.head()"
      ],
      "execution_count": 7,
      "outputs": [
        {
          "output_type": "execute_result",
          "data": {
            "text/html": [
              "<div>\n",
              "<style scoped>\n",
              "    .dataframe tbody tr th:only-of-type {\n",
              "        vertical-align: middle;\n",
              "    }\n",
              "\n",
              "    .dataframe tbody tr th {\n",
              "        vertical-align: top;\n",
              "    }\n",
              "\n",
              "    .dataframe thead th {\n",
              "        text-align: right;\n",
              "    }\n",
              "</style>\n",
              "<table border=\"1\" class=\"dataframe\">\n",
              "  <thead>\n",
              "    <tr style=\"text-align: right;\">\n",
              "      <th></th>\n",
              "      <th>id</th>\n",
              "      <th>label</th>\n",
              "      <th>text</th>\n",
              "    </tr>\n",
              "  </thead>\n",
              "  <tbody>\n",
              "    <tr>\n",
              "      <th>0</th>\n",
              "      <td>1</td>\n",
              "      <td>cmn</td>\n",
              "      <td>我們試試看！</td>\n",
              "    </tr>\n",
              "    <tr>\n",
              "      <th>1</th>\n",
              "      <td>2</td>\n",
              "      <td>cmn</td>\n",
              "      <td>我该去睡觉了。</td>\n",
              "    </tr>\n",
              "    <tr>\n",
              "      <th>2</th>\n",
              "      <td>3</td>\n",
              "      <td>cmn</td>\n",
              "      <td>你在干什麼啊？</td>\n",
              "    </tr>\n",
              "    <tr>\n",
              "      <th>3</th>\n",
              "      <td>4</td>\n",
              "      <td>cmn</td>\n",
              "      <td>這是什麼啊？</td>\n",
              "    </tr>\n",
              "    <tr>\n",
              "      <th>4</th>\n",
              "      <td>5</td>\n",
              "      <td>cmn</td>\n",
              "      <td>今天是６月１８号，也是Muiriel的生日！</td>\n",
              "    </tr>\n",
              "  </tbody>\n",
              "</table>\n",
              "</div>"
            ],
            "text/plain": [
              "   id label                    text\n",
              "0   1   cmn                  我們試試看！\n",
              "1   2   cmn                 我该去睡觉了。\n",
              "2   3   cmn                 你在干什麼啊？\n",
              "3   4   cmn                  這是什麼啊？\n",
              "4   5   cmn  今天是６月１８号，也是Muiriel的生日！"
            ]
          },
          "metadata": {},
          "execution_count": 7
        }
      ]
    },
    {
      "cell_type": "code",
      "metadata": {
        "id": "-bxnbDpZrEL2",
        "outputId": "9325d6aa-834c-4b94-a67e-d4ac3d4f7236",
        "colab": {
          "base_uri": "https://localhost:8080/"
        }
      },
      "source": [
        "# number of total observations\n",
        "sent_df.shape"
      ],
      "execution_count": 8,
      "outputs": [
        {
          "output_type": "execute_result",
          "data": {
            "text/plain": [
              "(9887134, 3)"
            ]
          },
          "metadata": {},
          "execution_count": 8
        }
      ]
    },
    {
      "cell_type": "code",
      "metadata": {
        "colab": {
          "base_uri": "https://localhost:8080/",
          "height": 519
        },
        "id": "3wQOsH8YuDkW",
        "outputId": "33bed378-aa49-4339-9a44-99fba1baff45"
      },
      "source": [
        "# is there blank label\n",
        "sent_df['label'].fillna('unk',inplace  = True)\n",
        "sent_df.loc[sent_df['label'] == 'unk',:]"
      ],
      "execution_count": 9,
      "outputs": [
        {
          "output_type": "execute_result",
          "data": {
            "text/html": [
              "<div>\n",
              "<style scoped>\n",
              "    .dataframe tbody tr th:only-of-type {\n",
              "        vertical-align: middle;\n",
              "    }\n",
              "\n",
              "    .dataframe tbody tr th {\n",
              "        vertical-align: top;\n",
              "    }\n",
              "\n",
              "    .dataframe thead th {\n",
              "        text-align: right;\n",
              "    }\n",
              "</style>\n",
              "<table border=\"1\" class=\"dataframe\">\n",
              "  <thead>\n",
              "    <tr style=\"text-align: right;\">\n",
              "      <th></th>\n",
              "      <th>id</th>\n",
              "      <th>label</th>\n",
              "      <th>text</th>\n",
              "    </tr>\n",
              "  </thead>\n",
              "  <tbody>\n",
              "    <tr>\n",
              "      <th>387366</th>\n",
              "      <td>404564</td>\n",
              "      <td>unk</td>\n",
              "      <td>Lèu gāi dịdiang?</td>\n",
              "    </tr>\n",
              "    <tr>\n",
              "      <th>387368</th>\n",
              "      <td>404566</td>\n",
              "      <td>unk</td>\n",
              "      <td>Kuăilāk sí mitgāi?</td>\n",
              "    </tr>\n",
              "    <tr>\n",
              "      <th>387372</th>\n",
              "      <td>404570</td>\n",
              "      <td>unk</td>\n",
              "      <td>Dó Hānggok nạng dăn mitgāi uẹ?</td>\n",
              "    </tr>\n",
              "    <tr>\n",
              "      <th>388306</th>\n",
              "      <td>405522</td>\n",
              "      <td>unk</td>\n",
              "      <td>Lèu kiá dịgŏ?</td>\n",
              "    </tr>\n",
              "    <tr>\n",
              "      <th>388307</th>\n",
              "      <td>405523</td>\n",
              "      <td>unk</td>\n",
              "      <td>Lèu miān mitgāi?</td>\n",
              "    </tr>\n",
              "    <tr>\n",
              "      <th>388308</th>\n",
              "      <td>405524</td>\n",
              "      <td>unk</td>\n",
              "      <td>Uà sí Diōjiunāng.</td>\n",
              "    </tr>\n",
              "    <tr>\n",
              "      <th>4655179</th>\n",
              "      <td>4962310</td>\n",
              "      <td>unk</td>\n",
              "      <td>厝漏閣抵著透暝雨。</td>\n",
              "    </tr>\n",
              "    <tr>\n",
              "      <th>5786464</th>\n",
              "      <td>6142175</td>\n",
              "      <td>unk</td>\n",
              "      <td>我昨暗睏十一點鐘久。</td>\n",
              "    </tr>\n",
              "    <tr>\n",
              "      <th>5786465</th>\n",
              "      <td>6142176</td>\n",
              "      <td>unk</td>\n",
              "      <td>阮阿叔有去過芬蘭。</td>\n",
              "    </tr>\n",
              "    <tr>\n",
              "      <th>5786466</th>\n",
              "      <td>6142177</td>\n",
              "      <td>unk</td>\n",
              "      <td>阮佇厝裡攏講台語。</td>\n",
              "    </tr>\n",
              "    <tr>\n",
              "      <th>5786467</th>\n",
              "      <td>6142178</td>\n",
              "      <td>unk</td>\n",
              "      <td>歇熱時，我拍算⼀⾯上課⼀⾯⾷頭路。</td>\n",
              "    </tr>\n",
              "    <tr>\n",
              "      <th>5786469</th>\n",
              "      <td>6142180</td>\n",
              "      <td>unk</td>\n",
              "      <td>恁阿媽佮阿⺟做好遐爾濟菜。</td>\n",
              "    </tr>\n",
              "    <tr>\n",
              "      <th>6023168</th>\n",
              "      <td>6401580</td>\n",
              "      <td>unk</td>\n",
              "      <td>阮昨昏共文章寫完。</td>\n",
              "    </tr>\n",
              "    <tr>\n",
              "      <th>6023171</th>\n",
              "      <td>6401584</td>\n",
              "      <td>unk</td>\n",
              "      <td>你有食飯無？</td>\n",
              "    </tr>\n",
              "    <tr>\n",
              "      <th>6023173</th>\n",
              "      <td>6401586</td>\n",
              "      <td>unk</td>\n",
              "      <td>伊有來。</td>\n",
              "    </tr>\n",
              "  </tbody>\n",
              "</table>\n",
              "</div>"
            ],
            "text/plain": [
              "              id label                            text\n",
              "387366    404564   unk                Lèu gāi dịdiang?\n",
              "387368    404566   unk              Kuăilāk sí mitgāi?\n",
              "387372    404570   unk  Dó Hānggok nạng dăn mitgāi uẹ?\n",
              "388306    405522   unk                   Lèu kiá dịgŏ?\n",
              "388307    405523   unk                Lèu miān mitgāi?\n",
              "388308    405524   unk               Uà sí Diōjiunāng.\n",
              "4655179  4962310   unk                       厝漏閣抵著透暝雨。\n",
              "5786464  6142175   unk                      我昨暗睏十一點鐘久。\n",
              "5786465  6142176   unk                       阮阿叔有去過芬蘭。\n",
              "5786466  6142177   unk                       阮佇厝裡攏講台語。\n",
              "5786467  6142178   unk               歇熱時，我拍算⼀⾯上課⼀⾯⾷頭路。\n",
              "5786469  6142180   unk                   恁阿媽佮阿⺟做好遐爾濟菜。\n",
              "6023168  6401580   unk                       阮昨昏共文章寫完。\n",
              "6023171  6401584   unk                          你有食飯無？\n",
              "6023173  6401586   unk                            伊有來。"
            ]
          },
          "metadata": {},
          "execution_count": 9
        }
      ]
    },
    {
      "cell_type": "code",
      "metadata": {
        "id": "PCVpBQulrLK_",
        "outputId": "e4be5c8b-8163-4d0a-f8f6-b0073c85bcbd",
        "colab": {
          "base_uri": "https://localhost:8080/"
        }
      },
      "source": [
        "# num observations without label\n",
        "sent_df.loc[sent_df['label'] == 'unk',:].shape"
      ],
      "execution_count": 10,
      "outputs": [
        {
          "output_type": "execute_result",
          "data": {
            "text/plain": [
              "(15, 3)"
            ]
          },
          "metadata": {},
          "execution_count": 10
        }
      ]
    },
    {
      "cell_type": "code",
      "metadata": {
        "colab": {
          "base_uri": "https://localhost:8080/"
        },
        "id": "yGIAp5nKuhnV",
        "outputId": "ad57a5b1-8141-4d70-aee0-38b407a3beae"
      },
      "source": [
        "# is there blank texts\n",
        "sent_df.loc[sent_df['text'].isnull(),:].shape, sent_df.loc[sent_df['text'] == '',:].shape"
      ],
      "execution_count": null,
      "outputs": [
        {
          "output_type": "execute_result",
          "data": {
            "text/plain": [
              "((0, 3), (0, 3))"
            ]
          },
          "metadata": {},
          "execution_count": 9
        }
      ]
    },
    {
      "cell_type": "code",
      "metadata": {
        "colab": {
          "base_uri": "https://localhost:8080/"
        },
        "id": "8Qc85kcAu4yd",
        "outputId": "e1db8f62-114f-4b8a-950b-a60bc1053a61"
      },
      "source": [
        "# remove records where label not known\n",
        "sent_df = sent_df.loc[sent_df['label'] != 'unk',:]\n",
        "len(sent_df['label'].unique())"
      ],
      "execution_count": null,
      "outputs": [
        {
          "output_type": "execute_result",
          "data": {
            "text/plain": [
              "402"
            ]
          },
          "metadata": {},
          "execution_count": 10
        }
      ]
    },
    {
      "cell_type": "code",
      "metadata": {
        "id": "G5nO6YnV_GSG"
      },
      "source": [
        "# create test split\n",
        "def get_train_test_split(df):\n",
        "    train_ids, test_ids = next(StratifiedKFold(n_splits=5,random_state=1).split(df.id, df.label))\n",
        "    print(f\"Test: {len(test_ids)}, Train: {len(train_ids)}, Total: {len(df)}\")\n",
        "    dummy = [False] * len(df)\n",
        "    com_list = dummy[:]\n",
        "    for index in test_ids: com_list[index] = True\n",
        "    return com_list"
      ],
      "execution_count": null,
      "outputs": []
    },
    {
      "cell_type": "code",
      "metadata": {
        "colab": {
          "base_uri": "https://localhost:8080/"
        },
        "id": "tWjZc0Yitt_l",
        "outputId": "48b93122-e849-453e-c925-83d5ee6fb127"
      },
      "source": [
        "train_test_bool = get_train_test_split(sent_df)\n",
        "sum(train_test_bool)"
      ],
      "execution_count": null,
      "outputs": [
        {
          "output_type": "stream",
          "name": "stderr",
          "text": [
            "/usr/local/lib/python3.7/dist-packages/sklearn/model_selection/_split.py:296: FutureWarning: Setting a random_state has no effect since shuffle is False. This will raise an error in 0.24. You should leave random_state to its default (None), or set shuffle=True.\n",
            "  FutureWarning\n",
            "/usr/local/lib/python3.7/dist-packages/sklearn/model_selection/_split.py:667: UserWarning: The least populated class in y has only 1 members, which is less than n_splits=5.\n",
            "  % (min_groups, self.n_splits)), UserWarning)\n"
          ]
        },
        {
          "output_type": "stream",
          "name": "stdout",
          "text": [
            "Test: 1977424, Train: 7909695, Total: 9887119\n"
          ]
        },
        {
          "output_type": "execute_result",
          "data": {
            "text/plain": [
              "1977424"
            ]
          },
          "metadata": {},
          "execution_count": 12
        }
      ]
    },
    {
      "cell_type": "code",
      "metadata": {
        "colab": {
          "base_uri": "https://localhost:8080/"
        },
        "id": "N1pp9F5mt4_i",
        "outputId": "d01a9991-fb28-4a4d-ea0a-e561951a3aaf"
      },
      "source": [
        "# keep test separate\n",
        "test_df = sent_df.loc[train_test_bool,:]\n",
        "test_df.shape"
      ],
      "execution_count": null,
      "outputs": [
        {
          "output_type": "execute_result",
          "data": {
            "text/plain": [
              "(1977424, 3)"
            ]
          },
          "metadata": {},
          "execution_count": 13
        }
      ]
    },
    {
      "cell_type": "code",
      "metadata": {
        "colab": {
          "base_uri": "https://localhost:8080/"
        },
        "id": "T2XQ68_xyStw",
        "outputId": "9de552e6-4c47-40e6-fcbc-f0d290048487"
      },
      "source": [
        "# Training df\n",
        "train_df = sent_df.loc[list(~np.array(train_test_bool)),:]\n",
        "train_df.shape"
      ],
      "execution_count": null,
      "outputs": [
        {
          "output_type": "execute_result",
          "data": {
            "text/plain": [
              "(7909695, 3)"
            ]
          },
          "metadata": {},
          "execution_count": 14
        }
      ]
    },
    {
      "cell_type": "code",
      "metadata": {
        "colab": {
          "base_uri": "https://localhost:8080/",
          "height": 417
        },
        "id": "T1-IpJiQyyGw",
        "outputId": "1f305849-7526-486f-99b9-797b3bba478c"
      },
      "source": [
        "# is validation identified\n",
        "train_df['is_valid'] = get_train_test_split(train_df)\n",
        "train_df.head()"
      ],
      "execution_count": null,
      "outputs": [
        {
          "output_type": "stream",
          "name": "stderr",
          "text": [
            "/usr/local/lib/python3.7/dist-packages/sklearn/model_selection/_split.py:296: FutureWarning: Setting a random_state has no effect since shuffle is False. This will raise an error in 0.24. You should leave random_state to its default (None), or set shuffle=True.\n",
            "  FutureWarning\n",
            "/usr/local/lib/python3.7/dist-packages/sklearn/model_selection/_split.py:667: UserWarning: The least populated class in y has only 1 members, which is less than n_splits=5.\n",
            "  % (min_groups, self.n_splits)), UserWarning)\n"
          ]
        },
        {
          "output_type": "stream",
          "name": "stdout",
          "text": [
            "Test: 1581939, Train: 6327756, Total: 7909695\n"
          ]
        },
        {
          "output_type": "stream",
          "name": "stderr",
          "text": [
            "/usr/local/lib/python3.7/dist-packages/ipykernel_launcher.py:2: SettingWithCopyWarning: \n",
            "A value is trying to be set on a copy of a slice from a DataFrame.\n",
            "Try using .loc[row_indexer,col_indexer] = value instead\n",
            "\n",
            "See the caveats in the documentation: https://pandas.pydata.org/pandas-docs/stable/user_guide/indexing.html#returning-a-view-versus-a-copy\n",
            "  \n"
          ]
        },
        {
          "output_type": "execute_result",
          "data": {
            "text/html": [
              "<div>\n",
              "<style scoped>\n",
              "    .dataframe tbody tr th:only-of-type {\n",
              "        vertical-align: middle;\n",
              "    }\n",
              "\n",
              "    .dataframe tbody tr th {\n",
              "        vertical-align: top;\n",
              "    }\n",
              "\n",
              "    .dataframe thead th {\n",
              "        text-align: right;\n",
              "    }\n",
              "</style>\n",
              "<table border=\"1\" class=\"dataframe\">\n",
              "  <thead>\n",
              "    <tr style=\"text-align: right;\">\n",
              "      <th></th>\n",
              "      <th>id</th>\n",
              "      <th>label</th>\n",
              "      <th>text</th>\n",
              "      <th>is_valid</th>\n",
              "    </tr>\n",
              "  </thead>\n",
              "  <tbody>\n",
              "    <tr>\n",
              "      <th>111285</th>\n",
              "      <td>116355</td>\n",
              "      <td>jpn</td>\n",
              "      <td>彼の発言で私の希望は失われた。</td>\n",
              "      <td>True</td>\n",
              "    </tr>\n",
              "    <tr>\n",
              "      <th>111286</th>\n",
              "      <td>116356</td>\n",
              "      <td>jpn</td>\n",
              "      <td>彼の発言が舌戦の火蓋を切った。</td>\n",
              "      <td>True</td>\n",
              "    </tr>\n",
              "    <tr>\n",
              "      <th>111287</th>\n",
              "      <td>116357</td>\n",
              "      <td>jpn</td>\n",
              "      <td>彼の発言がゴタゴタを起こした。</td>\n",
              "      <td>True</td>\n",
              "    </tr>\n",
              "    <tr>\n",
              "      <th>111288</th>\n",
              "      <td>116358</td>\n",
              "      <td>jpn</td>\n",
              "      <td>彼の発言が舌戦の火蓋をきったことになった。</td>\n",
              "      <td>True</td>\n",
              "    </tr>\n",
              "    <tr>\n",
              "      <th>111289</th>\n",
              "      <td>116359</td>\n",
              "      <td>jpn</td>\n",
              "      <td>彼の発見は輸送における革命をもたらした。</td>\n",
              "      <td>True</td>\n",
              "    </tr>\n",
              "  </tbody>\n",
              "</table>\n",
              "</div>"
            ],
            "text/plain": [
              "            id label                   text  is_valid\n",
              "111285  116355   jpn        彼の発言で私の希望は失われた。      True\n",
              "111286  116356   jpn        彼の発言が舌戦の火蓋を切った。      True\n",
              "111287  116357   jpn        彼の発言がゴタゴタを起こした。      True\n",
              "111288  116358   jpn  彼の発言が舌戦の火蓋をきったことになった。      True\n",
              "111289  116359   jpn   彼の発見は輸送における革命をもたらした。      True"
            ]
          },
          "metadata": {},
          "execution_count": 15
        }
      ]
    },
    {
      "cell_type": "code",
      "metadata": {
        "colab": {
          "base_uri": "https://localhost:8080/",
          "height": 361
        },
        "id": "LGTJ_Mlm7lAv",
        "outputId": "917f4189-7663-4151-cb93-22c3c7a60321"
      },
      "source": [
        "# create a subsample\n",
        "cound_df = train_df['label'].value_counts()\n",
        "sample_labels = cound_df[:100].index.tolist()\n",
        "\n",
        "train_csv_sample = train_df.loc[train_df['label'].isin(sample_labels),:]\n",
        "train_csv_sample['label'].value_counts().plot.bar(figsize = [20,5])\n",
        "len(train_df), len(train_csv_sample), len(train_df['label'].unique())"
      ],
      "execution_count": null,
      "outputs": [
        {
          "output_type": "execute_result",
          "data": {
            "text/plain": [
              "(7909695, 7863171, 400)"
            ]
          },
          "metadata": {},
          "execution_count": 16
        },
        {
          "output_type": "display_data",
          "data": {
            "image/png": "[encoded data removed]",
            "text/plain": [
              "<Figure size 1440x360 with 1 Axes>"
            ]
          },
          "metadata": {
            "needs_background": "light"
          }
        }
      ]
    },
    {
      "cell_type": "code",
      "metadata": {
        "id": "LQ9XYR9KObL-",
        "colab": {
          "base_uri": "https://localhost:8080/"
        },
        "outputId": "4599b3e5-151e-4fea-a7c6-7c54bee883f8"
      },
      "source": [
        "# to get an idea how many observations should be kept to deal with the large volume\n",
        "train_csv_sample['label'].value_counts().median()"
      ],
      "execution_count": null,
      "outputs": [
        {
          "output_type": "execute_result",
          "data": {
            "text/plain": [
              "6261.5"
            ]
          },
          "metadata": {},
          "execution_count": 17
        }
      ]
    },
    {
      "cell_type": "code",
      "metadata": {
        "colab": {
          "base_uri": "https://localhost:8080/",
          "height": 351
        },
        "id": "mlgwCq3T95XX",
        "outputId": "2c3e126f-11e3-440e-db24-5084863c9395"
      },
      "source": [
        "# see less frequent languages\n",
        "infreq_lang = cound_df[100:].index.tolist()\n",
        "train_infreq_sample = train_df.loc[train_df['label'].isin(infreq_lang),:]\n",
        "train_infreq_sample['label'].value_counts().plot.bar(figsize = [20,5])\n",
        "len(train_df), len(train_infreq_sample), len(train_infreq_sample['label'].unique())"
      ],
      "execution_count": null,
      "outputs": [
        {
          "output_type": "execute_result",
          "data": {
            "text/plain": [
              "(7909695, 46524, 300)"
            ]
          },
          "metadata": {},
          "execution_count": 18
        },
        {
          "output_type": "display_data",
          "data": {
            "image/png": "[encoded data removed]",
            "text/plain": [
              "<Figure size 1440x360 with 1 Axes>"
            ]
          },
          "metadata": {
            "needs_background": "light"
          }
        }
      ]
    },
    {
      "cell_type": "code",
      "metadata": {
        "colab": {
          "base_uri": "https://localhost:8080/"
        },
        "id": "YOFvo_T_-C77",
        "outputId": "a5dfd5df-fa98-4f8f-c6dd-c38902e9acd8"
      },
      "source": [
        "# distribution of languages\n",
        "cound_df.describe()"
      ],
      "execution_count": null,
      "outputs": [
        {
          "output_type": "execute_result",
          "data": {
            "text/plain": [
              "count    4.000000e+02\n",
              "mean     1.977424e+04\n",
              "std      9.872701e+04\n",
              "min      1.000000e+00\n",
              "25%      2.200000e+01\n",
              "50%      7.650000e+01\n",
              "75%      1.239500e+03\n",
              "max      1.223235e+06\n",
              "Name: label, dtype: float64"
            ]
          },
          "metadata": {},
          "execution_count": 19
        }
      ]
    },
    {
      "cell_type": "code",
      "metadata": {
        "colab": {
          "base_uri": "https://localhost:8080/"
        },
        "id": "zyhDLo9JA_5r",
        "outputId": "083f0030-a24b-42c9-b0b8-22e6521c5d84"
      },
      "source": [
        "# consider all languages more than or equal to 500 observations\n",
        "grt500_obs = cound_df[cound_df >= 500].index.tolist()\n",
        "len(grt500_obs)"
      ],
      "execution_count": null,
      "outputs": [
        {
          "output_type": "execute_result",
          "data": {
            "text/plain": [
              "133"
            ]
          },
          "metadata": {},
          "execution_count": 20
        }
      ]
    },
    {
      "cell_type": "code",
      "metadata": {
        "colab": {
          "base_uri": "https://localhost:8080/",
          "height": 361
        },
        "id": "uY4vHENlCgYf",
        "outputId": "41231c26-d6b8-4c16-9983-a455537e07b0"
      },
      "source": [
        "train_csv_500obs = train_df.loc[train_df['label'].isin(grt500_obs),:]\n",
        "train_csv_500obs['label'].value_counts().plot.bar(figsize = [20,5])\n",
        "len(train_df), len(train_csv_500obs), len(train_df['label'].unique()), len(train_csv_500obs['label'].unique())"
      ],
      "execution_count": null,
      "outputs": [
        {
          "output_type": "execute_result",
          "data": {
            "text/plain": [
              "(7909695, 7890587, 400, 133)"
            ]
          },
          "metadata": {},
          "execution_count": 21
        },
        {
          "output_type": "display_data",
          "data": {
            "image/png": "[encoded data removed]",
            "text/plain": [
              "<Figure size 1440x360 with 1 Axes>"
            ]
          },
          "metadata": {
            "needs_background": "light"
          }
        }
      ]
    },
    {
      "cell_type": "code",
      "metadata": {
        "colab": {
          "base_uri": "https://localhost:8080/",
          "height": 543
        },
        "id": "bcpQbE1gEcoB",
        "outputId": "46c31b60-ca91-486a-a698-be3edc764a99"
      },
      "source": [
        "# text length - num characters\n",
        "train_csv_500obs['num_chars'] = train_csv_500obs['text'].apply(lambda x: len(list(x)))\n",
        "train_csv_500obs['num_chars'].describe(), train_csv_500obs['num_chars'].plot.box()"
      ],
      "execution_count": null,
      "outputs": [
        {
          "output_type": "stream",
          "name": "stderr",
          "text": [
            "/usr/local/lib/python3.7/dist-packages/ipykernel_launcher.py:2: SettingWithCopyWarning: \n",
            "A value is trying to be set on a copy of a slice from a DataFrame.\n",
            "Try using .loc[row_indexer,col_indexer] = value instead\n",
            "\n",
            "See the caveats in the documentation: https://pandas.pydata.org/pandas-docs/stable/user_guide/indexing.html#returning-a-view-versus-a-copy\n",
            "  \n"
          ]
        },
        {
          "output_type": "execute_result",
          "data": {
            "text/plain": [
              "(count    7.890587e+06\n",
              " mean     3.532629e+01\n",
              " std      5.577729e+01\n",
              " min      1.000000e+00\n",
              " 25%      2.300000e+01\n",
              " 50%      3.100000e+01\n",
              " 75%      4.100000e+01\n",
              " max      5.642300e+04\n",
              " Name: num_chars, dtype: float64,\n",
              " <matplotlib.axes._subplots.AxesSubplot at 0x7f7b204ab4d0>)"
            ]
          },
          "metadata": {},
          "execution_count": 22
        },
        {
          "output_type": "display_data",
          "data": {
            "image/png": "[encoded data removed]",
            "text/plain": [
              "<Figure size 432x288 with 1 Axes>"
            ]
          },
          "metadata": {
            "needs_background": "light"
          }
        }
      ]
    },
    {
      "cell_type": "code",
      "metadata": {
        "colab": {
          "base_uri": "https://localhost:8080/"
        },
        "id": "sUFHXJFbE7FY",
        "outputId": "1dc0cfd4-038d-4aa3-cb59-0ed4152da776"
      },
      "source": [
        "# reduce outliers in terms of number of characters\n",
        "max_length = 256\n",
        "num_obs_trunc = train_csv_500obs.loc[train_csv_500obs.num_chars > max_length,:].shape[0]\n",
        "num_obs_trunc, (num_obs_trunc/train_csv_500obs.shape[0]) * 100"
      ],
      "execution_count": null,
      "outputs": [
        {
          "output_type": "execute_result",
          "data": {
            "text/plain": [
              "(8758, 0.11099300977227677)"
            ]
          },
          "metadata": {},
          "execution_count": 23
        }
      ]
    },
    {
      "cell_type": "code",
      "metadata": {
        "id": "_PTokxRPGBJq",
        "colab": {
          "base_uri": "https://localhost:8080/"
        },
        "outputId": "d81a07a3-8e37-4f43-8a98-541e9cc2d394"
      },
      "source": [
        "grt500_obs.sort()\n",
        "grt500_obs[:10]"
      ],
      "execution_count": null,
      "outputs": [
        {
          "output_type": "execute_result",
          "data": {
            "text/plain": [
              "['afr', 'ara', 'arq', 'arz', 'asm', 'avk', 'aze', 'bel', 'ben', 'ber']"
            ]
          },
          "metadata": {},
          "execution_count": 24
        }
      ]
    },
    {
      "cell_type": "code",
      "metadata": {
        "id": "4gKj5h5wBgK7",
        "colab": {
          "base_uri": "https://localhost:8080/"
        },
        "outputId": "dd62de57-5601-4a0e-9a78-ee56d0330812"
      },
      "source": [
        "# Save the list of 133 languages for model building and inference\n",
        "from sklearn.externals import joblib\n",
        "joblib.dump(grt500_obs, data_save_path + 'supported_languages.pkl')"
      ],
      "execution_count": null,
      "outputs": [
        {
          "output_type": "stream",
          "name": "stderr",
          "text": [
            "/usr/local/lib/python3.7/dist-packages/sklearn/externals/joblib/__init__.py:15: FutureWarning: sklearn.externals.joblib is deprecated in 0.21 and will be removed in 0.23. Please import this functionality directly from joblib, which can be installed with: pip install joblib. If this warning is raised when loading pickled models, you may need to re-serialize those models with scikit-learn 0.21+.\n",
            "  warnings.warn(msg, category=FutureWarning)\n"
          ]
        },
        {
          "output_type": "execute_result",
          "data": {
            "text/plain": [
              "['/content/drive/MyDrive/lang_detection/models/supported_languages.pkl']"
            ]
          },
          "metadata": {},
          "execution_count": 25
        }
      ]
    },
    {
      "cell_type": "code",
      "metadata": {
        "id": "mIKKgagjCJMY"
      },
      "source": [
        ""
      ],
      "execution_count": null,
      "outputs": []
    }
  ]
}