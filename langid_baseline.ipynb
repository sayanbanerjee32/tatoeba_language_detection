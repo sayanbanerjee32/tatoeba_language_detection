{
  "nbformat": 4,
  "nbformat_minor": 0,
  "metadata": {
    "colab": {
      "name": "lang_detect_nonML_baseline.ipynb",
      "provenance": [],
      "authorship_tag": "ABX9TyOYTncnubn1HgJh28UwGJyx",
      "include_colab_link": true
    },
    "kernelspec": {
      "name": "python3",
      "display_name": "Python 3"
    },
    "language_info": {
      "name": "python"
    }
  },
  "cells": [
    {
      "cell_type": "markdown",
      "metadata": {
        "id": "view-in-github",
        "colab_type": "text"
      },
      "source": [
        "<a href=\"https://colab.research.google.com/github/sayanbanerjee32/lang_detect/blob/main/langid_baseline.ipynb\" target=\"_parent\"><img src=\"https://colab.research.google.com/assets/colab-badge.svg\" alt=\"Open In Colab\"/></a>"
      ]
    },
    {
      "cell_type": "code",
      "metadata": {
        "colab": {
          "base_uri": "https://localhost:8080/"
        },
        "id": "Ofjh9mTZt_lV",
        "outputId": "f4595137-4777-4b0c-b8b2-f1e8f9096ff2"
      },
      "source": [
        "# mount gdrive for data.\n",
        "from google.colab import drive\n",
        "drive.mount('/content/drive')"
      ],
      "execution_count": 4,
      "outputs": [
        {
          "output_type": "stream",
          "name": "stdout",
          "text": [
            "Mounted at /content/drive\n"
          ]
        }
      ]
    },
    {
      "cell_type": "code",
      "metadata": {
        "id": "UP0V7xWIw3K1"
      },
      "source": [
        "# file locations\n",
        "tar_file_loc = '/content/drive/MyDrive/lang_detection/data/sentences.tar.bz2'\n",
        "dest_loc = '/tmp'\n",
        "file_name = 'sentences.csv'\n",
        "num_languages = 100"
      ],
      "execution_count": 5,
      "outputs": []
    },
    {
      "cell_type": "code",
      "metadata": {
        "id": "C87Q1eLF7tJI"
      },
      "source": [
        "import pandas as pd\n",
        "import tarfile\n",
        "import numpy as np\n",
        "from sklearn.model_selection import StratifiedKFold"
      ],
      "execution_count": 6,
      "outputs": []
    },
    {
      "cell_type": "code",
      "metadata": {
        "id": "XuIFu8erusqb"
      },
      "source": [
        "# extrtract tar file\n",
        "tar = tarfile.open(tar_file_loc, \"r:bz2\")  \n",
        "tar.extractall(path = dest_loc)\n",
        "tar.close()"
      ],
      "execution_count": 7,
      "outputs": []
    },
    {
      "cell_type": "code",
      "metadata": {
        "id": "i_RR2MaKw1aJ"
      },
      "source": [
        "# read lines to understand structure\n",
        "with open(dest_loc +'/' + file_name) as file:\n",
        "    lines = file.readlines()\n",
        "    lines = [line.strip() for line in lines]"
      ],
      "execution_count": 8,
      "outputs": []
    },
    {
      "cell_type": "code",
      "metadata": {
        "colab": {
          "base_uri": "https://localhost:8080/"
        },
        "id": "2hA2fiKxxbO6",
        "outputId": "e0440572-b69e-4214-cd06-0716455c3907"
      },
      "source": [
        "# see few samples\n",
        "lines[0:10]"
      ],
      "execution_count": null,
      "outputs": [
        {
          "output_type": "execute_result",
          "data": {
            "text/plain": [
              "['1\\tcmn\\t我們試試看！',\n",
              " '2\\tcmn\\t我该去睡觉了。',\n",
              " '3\\tcmn\\t你在干什麼啊？',\n",
              " '4\\tcmn\\t這是什麼啊？',\n",
              " '5\\tcmn\\t今天是６月１８号，也是Muiriel的生日！',\n",
              " '6\\tcmn\\t生日快乐，Muiriel！',\n",
              " '7\\tcmn\\tMuiriel现在20岁了。',\n",
              " '8\\tcmn\\t密码是\"Muiriel\"。',\n",
              " '9\\tcmn\\t我很快就會回來。',\n",
              " '10\\tcmn\\t我不知道。']"
            ]
          },
          "metadata": {},
          "execution_count": 6
        }
      ]
    },
    {
      "cell_type": "code",
      "metadata": {
        "colab": {
          "base_uri": "https://localhost:8080/",
          "height": 206
        },
        "id": "4k5hqpW_zPew",
        "outputId": "67a3a683-17b9-4bb7-aa2d-52b72b3c8927"
      },
      "source": [
        "# read data in pandas\n",
        "sent_df = pd.read_csv(dest_loc +'/' + file_name, sep = '\\t', names = ['id','label','text'])\n",
        "sent_df.head()"
      ],
      "execution_count": 9,
      "outputs": [
        {
          "output_type": "execute_result",
          "data": {
            "text/html": [
              "<div>\n",
              "<style scoped>\n",
              "    .dataframe tbody tr th:only-of-type {\n",
              "        vertical-align: middle;\n",
              "    }\n",
              "\n",
              "    .dataframe tbody tr th {\n",
              "        vertical-align: top;\n",
              "    }\n",
              "\n",
              "    .dataframe thead th {\n",
              "        text-align: right;\n",
              "    }\n",
              "</style>\n",
              "<table border=\"1\" class=\"dataframe\">\n",
              "  <thead>\n",
              "    <tr style=\"text-align: right;\">\n",
              "      <th></th>\n",
              "      <th>id</th>\n",
              "      <th>label</th>\n",
              "      <th>text</th>\n",
              "    </tr>\n",
              "  </thead>\n",
              "  <tbody>\n",
              "    <tr>\n",
              "      <th>0</th>\n",
              "      <td>1</td>\n",
              "      <td>cmn</td>\n",
              "      <td>我們試試看！</td>\n",
              "    </tr>\n",
              "    <tr>\n",
              "      <th>1</th>\n",
              "      <td>2</td>\n",
              "      <td>cmn</td>\n",
              "      <td>我该去睡觉了。</td>\n",
              "    </tr>\n",
              "    <tr>\n",
              "      <th>2</th>\n",
              "      <td>3</td>\n",
              "      <td>cmn</td>\n",
              "      <td>你在干什麼啊？</td>\n",
              "    </tr>\n",
              "    <tr>\n",
              "      <th>3</th>\n",
              "      <td>4</td>\n",
              "      <td>cmn</td>\n",
              "      <td>這是什麼啊？</td>\n",
              "    </tr>\n",
              "    <tr>\n",
              "      <th>4</th>\n",
              "      <td>5</td>\n",
              "      <td>cmn</td>\n",
              "      <td>今天是６月１８号，也是Muiriel的生日！</td>\n",
              "    </tr>\n",
              "  </tbody>\n",
              "</table>\n",
              "</div>"
            ],
            "text/plain": [
              "   id label                    text\n",
              "0   1   cmn                  我們試試看！\n",
              "1   2   cmn                 我该去睡觉了。\n",
              "2   3   cmn                 你在干什麼啊？\n",
              "3   4   cmn                  這是什麼啊？\n",
              "4   5   cmn  今天是６月１８号，也是Muiriel的生日！"
            ]
          },
          "metadata": {},
          "execution_count": 9
        }
      ]
    },
    {
      "cell_type": "code",
      "metadata": {
        "colab": {
          "base_uri": "https://localhost:8080/",
          "height": 519
        },
        "id": "3wQOsH8YuDkW",
        "outputId": "f7e17ff8-81dd-4623-81a6-20d2d7dc13d0"
      },
      "source": [
        "# is there blank label\n",
        "sent_df['label'].fillna('unk',inplace  = True)\n",
        "sent_df.loc[sent_df['label'] == 'unk',:]"
      ],
      "execution_count": 10,
      "outputs": [
        {
          "output_type": "execute_result",
          "data": {
            "text/html": [
              "<div>\n",
              "<style scoped>\n",
              "    .dataframe tbody tr th:only-of-type {\n",
              "        vertical-align: middle;\n",
              "    }\n",
              "\n",
              "    .dataframe tbody tr th {\n",
              "        vertical-align: top;\n",
              "    }\n",
              "\n",
              "    .dataframe thead th {\n",
              "        text-align: right;\n",
              "    }\n",
              "</style>\n",
              "<table border=\"1\" class=\"dataframe\">\n",
              "  <thead>\n",
              "    <tr style=\"text-align: right;\">\n",
              "      <th></th>\n",
              "      <th>id</th>\n",
              "      <th>label</th>\n",
              "      <th>text</th>\n",
              "    </tr>\n",
              "  </thead>\n",
              "  <tbody>\n",
              "    <tr>\n",
              "      <th>387366</th>\n",
              "      <td>404564</td>\n",
              "      <td>unk</td>\n",
              "      <td>Lèu gāi dịdiang?</td>\n",
              "    </tr>\n",
              "    <tr>\n",
              "      <th>387368</th>\n",
              "      <td>404566</td>\n",
              "      <td>unk</td>\n",
              "      <td>Kuăilāk sí mitgāi?</td>\n",
              "    </tr>\n",
              "    <tr>\n",
              "      <th>387372</th>\n",
              "      <td>404570</td>\n",
              "      <td>unk</td>\n",
              "      <td>Dó Hānggok nạng dăn mitgāi uẹ?</td>\n",
              "    </tr>\n",
              "    <tr>\n",
              "      <th>388306</th>\n",
              "      <td>405522</td>\n",
              "      <td>unk</td>\n",
              "      <td>Lèu kiá dịgŏ?</td>\n",
              "    </tr>\n",
              "    <tr>\n",
              "      <th>388307</th>\n",
              "      <td>405523</td>\n",
              "      <td>unk</td>\n",
              "      <td>Lèu miān mitgāi?</td>\n",
              "    </tr>\n",
              "    <tr>\n",
              "      <th>388308</th>\n",
              "      <td>405524</td>\n",
              "      <td>unk</td>\n",
              "      <td>Uà sí Diōjiunāng.</td>\n",
              "    </tr>\n",
              "    <tr>\n",
              "      <th>4655179</th>\n",
              "      <td>4962310</td>\n",
              "      <td>unk</td>\n",
              "      <td>厝漏閣抵著透暝雨。</td>\n",
              "    </tr>\n",
              "    <tr>\n",
              "      <th>5786464</th>\n",
              "      <td>6142175</td>\n",
              "      <td>unk</td>\n",
              "      <td>我昨暗睏十一點鐘久。</td>\n",
              "    </tr>\n",
              "    <tr>\n",
              "      <th>5786465</th>\n",
              "      <td>6142176</td>\n",
              "      <td>unk</td>\n",
              "      <td>阮阿叔有去過芬蘭。</td>\n",
              "    </tr>\n",
              "    <tr>\n",
              "      <th>5786466</th>\n",
              "      <td>6142177</td>\n",
              "      <td>unk</td>\n",
              "      <td>阮佇厝裡攏講台語。</td>\n",
              "    </tr>\n",
              "    <tr>\n",
              "      <th>5786467</th>\n",
              "      <td>6142178</td>\n",
              "      <td>unk</td>\n",
              "      <td>歇熱時，我拍算⼀⾯上課⼀⾯⾷頭路。</td>\n",
              "    </tr>\n",
              "    <tr>\n",
              "      <th>5786469</th>\n",
              "      <td>6142180</td>\n",
              "      <td>unk</td>\n",
              "      <td>恁阿媽佮阿⺟做好遐爾濟菜。</td>\n",
              "    </tr>\n",
              "    <tr>\n",
              "      <th>6023168</th>\n",
              "      <td>6401580</td>\n",
              "      <td>unk</td>\n",
              "      <td>阮昨昏共文章寫完。</td>\n",
              "    </tr>\n",
              "    <tr>\n",
              "      <th>6023171</th>\n",
              "      <td>6401584</td>\n",
              "      <td>unk</td>\n",
              "      <td>你有食飯無？</td>\n",
              "    </tr>\n",
              "    <tr>\n",
              "      <th>6023173</th>\n",
              "      <td>6401586</td>\n",
              "      <td>unk</td>\n",
              "      <td>伊有來。</td>\n",
              "    </tr>\n",
              "  </tbody>\n",
              "</table>\n",
              "</div>"
            ],
            "text/plain": [
              "              id label                            text\n",
              "387366    404564   unk                Lèu gāi dịdiang?\n",
              "387368    404566   unk              Kuăilāk sí mitgāi?\n",
              "387372    404570   unk  Dó Hānggok nạng dăn mitgāi uẹ?\n",
              "388306    405522   unk                   Lèu kiá dịgŏ?\n",
              "388307    405523   unk                Lèu miān mitgāi?\n",
              "388308    405524   unk               Uà sí Diōjiunāng.\n",
              "4655179  4962310   unk                       厝漏閣抵著透暝雨。\n",
              "5786464  6142175   unk                      我昨暗睏十一點鐘久。\n",
              "5786465  6142176   unk                       阮阿叔有去過芬蘭。\n",
              "5786466  6142177   unk                       阮佇厝裡攏講台語。\n",
              "5786467  6142178   unk               歇熱時，我拍算⼀⾯上課⼀⾯⾷頭路。\n",
              "5786469  6142180   unk                   恁阿媽佮阿⺟做好遐爾濟菜。\n",
              "6023168  6401580   unk                       阮昨昏共文章寫完。\n",
              "6023171  6401584   unk                          你有食飯無？\n",
              "6023173  6401586   unk                            伊有來。"
            ]
          },
          "metadata": {},
          "execution_count": 10
        }
      ]
    },
    {
      "cell_type": "code",
      "metadata": {
        "colab": {
          "base_uri": "https://localhost:8080/"
        },
        "id": "yGIAp5nKuhnV",
        "outputId": "499eb684-11bf-4acb-e22d-f87e8af3613a"
      },
      "source": [
        "# is there blank texts\n",
        "sent_df.loc[sent_df['text'].isnull(),:].shape, sent_df.loc[sent_df['text'] == '',:].shape"
      ],
      "execution_count": 11,
      "outputs": [
        {
          "output_type": "execute_result",
          "data": {
            "text/plain": [
              "((0, 3), (0, 3))"
            ]
          },
          "metadata": {},
          "execution_count": 11
        }
      ]
    },
    {
      "cell_type": "code",
      "metadata": {
        "colab": {
          "base_uri": "https://localhost:8080/"
        },
        "id": "8Qc85kcAu4yd",
        "outputId": "ebf1aff8-bea1-42e8-9c71-1daaab173138"
      },
      "source": [
        "# remove records where label not known\n",
        "sent_df = sent_df.loc[sent_df['label'] != 'unk',:]\n",
        "len(sent_df['label'].unique())"
      ],
      "execution_count": 12,
      "outputs": [
        {
          "output_type": "execute_result",
          "data": {
            "text/plain": [
              "402"
            ]
          },
          "metadata": {},
          "execution_count": 12
        }
      ]
    },
    {
      "cell_type": "code",
      "metadata": {
        "id": "G5nO6YnV_GSG"
      },
      "source": [
        "# create test split\n",
        "def get_train_test_split(df):\n",
        "    train_ids, test_ids = next(StratifiedKFold(n_splits=5,random_state=1).split(df.id, df.label))\n",
        "    print(f\"Test: {len(test_ids)}, Train: {len(train_ids)}, Total: {len(df)}\")\n",
        "    dummy = [False] * len(df)\n",
        "    com_list = dummy[:]\n",
        "    for index in test_ids: com_list[index] = True\n",
        "    return com_list"
      ],
      "execution_count": 13,
      "outputs": []
    },
    {
      "cell_type": "code",
      "metadata": {
        "colab": {
          "base_uri": "https://localhost:8080/"
        },
        "id": "tWjZc0Yitt_l",
        "outputId": "712c2924-6b95-4257-c553-af205c787517"
      },
      "source": [
        "train_test_bool = get_train_test_split(sent_df)\n",
        "sum(train_test_bool)"
      ],
      "execution_count": 14,
      "outputs": [
        {
          "output_type": "stream",
          "name": "stderr",
          "text": [
            "/usr/local/lib/python3.7/dist-packages/sklearn/model_selection/_split.py:296: FutureWarning: Setting a random_state has no effect since shuffle is False. This will raise an error in 0.24. You should leave random_state to its default (None), or set shuffle=True.\n",
            "  FutureWarning\n",
            "/usr/local/lib/python3.7/dist-packages/sklearn/model_selection/_split.py:667: UserWarning: The least populated class in y has only 1 members, which is less than n_splits=5.\n",
            "  % (min_groups, self.n_splits)), UserWarning)\n"
          ]
        },
        {
          "output_type": "stream",
          "name": "stdout",
          "text": [
            "Test: 1977424, Train: 7909695, Total: 9887119\n"
          ]
        },
        {
          "output_type": "execute_result",
          "data": {
            "text/plain": [
              "1977424"
            ]
          },
          "metadata": {},
          "execution_count": 14
        }
      ]
    },
    {
      "cell_type": "code",
      "metadata": {
        "colab": {
          "base_uri": "https://localhost:8080/"
        },
        "id": "N1pp9F5mt4_i",
        "outputId": "1fef5aab-8e18-4f7e-f84c-dc11480aa489"
      },
      "source": [
        "# keep test separate\n",
        "test_df = sent_df.loc[train_test_bool,:]\n",
        "test_df.shape"
      ],
      "execution_count": 15,
      "outputs": [
        {
          "output_type": "execute_result",
          "data": {
            "text/plain": [
              "(1977424, 3)"
            ]
          },
          "metadata": {},
          "execution_count": 15
        }
      ]
    },
    {
      "cell_type": "code",
      "metadata": {
        "colab": {
          "base_uri": "https://localhost:8080/"
        },
        "id": "T2XQ68_xyStw",
        "outputId": "d9f13aac-2cd5-459f-c049-dae29ad7315f"
      },
      "source": [
        "# Training df\n",
        "train_df = sent_df.loc[list(~np.array(train_test_bool)),:]\n",
        "train_df.shape"
      ],
      "execution_count": 16,
      "outputs": [
        {
          "output_type": "execute_result",
          "data": {
            "text/plain": [
              "(7909695, 3)"
            ]
          },
          "metadata": {},
          "execution_count": 16
        }
      ]
    },
    {
      "cell_type": "markdown",
      "metadata": {
        "id": "I4a5XuMeUrKw"
      },
      "source": [
        "## Langid.py"
      ]
    },
    {
      "cell_type": "code",
      "metadata": {
        "id": "dq1vI39FVArd"
      },
      "source": [
        "%%capture\n",
        "!pip install langid\n",
        "!pip install pycountry"
      ],
      "execution_count": 1,
      "outputs": []
    },
    {
      "cell_type": "code",
      "metadata": {
        "id": "VIpFv4rPUvbe"
      },
      "source": [
        "import pycountry\n",
        "import langid"
      ],
      "execution_count": 2,
      "outputs": []
    },
    {
      "cell_type": "code",
      "metadata": {
        "id": "5W4VFlkPU9Cf",
        "outputId": "d3bcdd27-bbd0-4ab1-8c3f-e58b004ca92e",
        "colab": {
          "base_uri": "https://localhost:8080/"
        }
      },
      "source": [
        "# list of supported languages\n",
        "lang_id_langs = 'af, am, an, ar, as, az, be, bg, bn, br, bs, ca, cs, cy, da, de, dz, el, en, eo, es, et, eu, fa, fi, fo, fr, ga, gl, gu, he, hi, hr, ht, hu, hy, id, is, it, ja, jv, ka, kk, km, kn, ko, ku, ky, la, lb, lo, lt, lv, mg, mk, ml, mn, mr, ms, mt, nb, ne, nl, nn, no, oc, or, pa, pl, ps, pt, qu, ro, ru, rw, se, si, sk, sl, sq, sr, sv, sw, ta, te, th, tl, tr, ug, uk, ur, vi, vo, wa, xh, zh, zu'\n",
        "lang_id_langs = [l.strip() for l in lang_id_langs.split(',')]\n",
        "# convert the ISO-3 code for comparison\n",
        "lang_id_langs = [pycountry.languages.get(alpha_2 = l).alpha_3 for l in lang_id_langs]\n",
        "len(lang_id_langs)"
      ],
      "execution_count": 3,
      "outputs": [
        {
          "output_type": "execute_result",
          "data": {
            "text/plain": [
              "97"
            ]
          },
          "metadata": {},
          "execution_count": 3
        }
      ]
    },
    {
      "cell_type": "code",
      "metadata": {
        "id": "f-Wi9_Yo3CB4",
        "outputId": "e0ac6301-7cbc-4269-de0b-c404bd3d4af0",
        "colab": {
          "base_uri": "https://localhost:8080/"
        }
      },
      "source": [
        "# number of languages that are common\n",
        "len(set(lang_id_langs).intersection(set(test_df['label'].unique())))"
      ],
      "execution_count": 17,
      "outputs": [
        {
          "output_type": "execute_result",
          "data": {
            "text/plain": [
              "88"
            ]
          },
          "metadata": {},
          "execution_count": 17
        }
      ]
    },
    {
      "cell_type": "markdown",
      "metadata": {
        "id": "1f5MIl6Hl-gP"
      },
      "source": [
        "## Test"
      ]
    },
    {
      "cell_type": "code",
      "metadata": {
        "colab": {
          "base_uri": "https://localhost:8080/"
        },
        "id": "kfJsUKkCl-GA",
        "outputId": "9d511fe3-709a-421e-b329-02689bb26df9"
      },
      "source": [
        "# create test subsample based on supported languages\n",
        "trained_labels = lang_id_langs\n",
        "# train_sub_sample.label.unique()\n",
        "test_sub_sample = test_df.loc[test_df['label'].isin(trained_labels)]\n",
        "test_sub_sample.shape,test_df.shape"
      ],
      "execution_count": null,
      "outputs": [
        {
          "output_type": "execute_result",
          "data": {
            "text/plain": [
              "((1696972, 3), (1977424, 3))"
            ]
          },
          "metadata": {},
          "execution_count": 26
        }
      ]
    },
    {
      "cell_type": "code",
      "metadata": {
        "id": "RiJVSjM5Szas"
      },
      "source": [
        "# detection function with langid\n",
        "def get_predicted_data(test_df):\n",
        "    test_df['predicted_label'] = test_df['text'].apply(lambda x: pycountry.languages.get(alpha_2 =langid.classify(x)[0]).alpha_3)\n",
        "    return test_df"
      ],
      "execution_count": null,
      "outputs": []
    },
    {
      "cell_type": "code",
      "metadata": {
        "colab": {
          "base_uri": "https://localhost:8080/",
          "height": 310
        },
        "id": "233YlG4loDNT",
        "outputId": "cc952c17-51f1-4a97-d710-3afedf123b6b"
      },
      "source": [
        "pred_df = get_predicted_data(test_sub_sample)\n",
        "pred_df.head()"
      ],
      "execution_count": null,
      "outputs": [
        {
          "output_type": "stream",
          "name": "stderr",
          "text": [
            "/usr/local/lib/python3.7/dist-packages/ipykernel_launcher.py:2: SettingWithCopyWarning: \n",
            "A value is trying to be set on a copy of a slice from a DataFrame.\n",
            "Try using .loc[row_indexer,col_indexer] = value instead\n",
            "\n",
            "See the caveats in the documentation: https://pandas.pydata.org/pandas-docs/stable/user_guide/indexing.html#returning-a-view-versus-a-copy\n",
            "  \n"
          ]
        },
        {
          "output_type": "execute_result",
          "data": {
            "text/html": [
              "<div>\n",
              "<style scoped>\n",
              "    .dataframe tbody tr th:only-of-type {\n",
              "        vertical-align: middle;\n",
              "    }\n",
              "\n",
              "    .dataframe tbody tr th {\n",
              "        vertical-align: top;\n",
              "    }\n",
              "\n",
              "    .dataframe thead th {\n",
              "        text-align: right;\n",
              "    }\n",
              "</style>\n",
              "<table border=\"1\" class=\"dataframe\">\n",
              "  <thead>\n",
              "    <tr style=\"text-align: right;\">\n",
              "      <th></th>\n",
              "      <th>id</th>\n",
              "      <th>label</th>\n",
              "      <th>text</th>\n",
              "      <th>predicted_label</th>\n",
              "    </tr>\n",
              "  </thead>\n",
              "  <tbody>\n",
              "    <tr>\n",
              "      <th>75</th>\n",
              "      <td>77</td>\n",
              "      <td>deu</td>\n",
              "      <td>Lass uns etwas versuchen!</td>\n",
              "      <td>eng</td>\n",
              "    </tr>\n",
              "    <tr>\n",
              "      <th>76</th>\n",
              "      <td>78</td>\n",
              "      <td>deu</td>\n",
              "      <td>Ich muss schlafen gehen.</td>\n",
              "      <td>deu</td>\n",
              "    </tr>\n",
              "    <tr>\n",
              "      <th>77</th>\n",
              "      <td>80</td>\n",
              "      <td>deu</td>\n",
              "      <td>Was ist das?</td>\n",
              "      <td>deu</td>\n",
              "    </tr>\n",
              "    <tr>\n",
              "      <th>78</th>\n",
              "      <td>81</td>\n",
              "      <td>deu</td>\n",
              "      <td>Heute ist der 18. Juni und das ist der Geburts...</td>\n",
              "      <td>deu</td>\n",
              "    </tr>\n",
              "    <tr>\n",
              "      <th>79</th>\n",
              "      <td>82</td>\n",
              "      <td>deu</td>\n",
              "      <td>Herzlichen Glückwunsch zum Geburtstag, Muiriel!</td>\n",
              "      <td>deu</td>\n",
              "    </tr>\n",
              "  </tbody>\n",
              "</table>\n",
              "</div>"
            ],
            "text/plain": [
              "    id label                                               text predicted_label\n",
              "75  77   deu                          Lass uns etwas versuchen!             eng\n",
              "76  78   deu                           Ich muss schlafen gehen.             deu\n",
              "77  80   deu                                       Was ist das?             deu\n",
              "78  81   deu  Heute ist der 18. Juni und das ist der Geburts...             deu\n",
              "79  82   deu    Herzlichen Glückwunsch zum Geburtstag, Muiriel!             deu"
            ]
          },
          "metadata": {},
          "execution_count": 28
        }
      ]
    },
    {
      "cell_type": "markdown",
      "metadata": {
        "id": "VLxMjSVDqEje"
      },
      "source": [
        "### Performance metrics"
      ]
    },
    {
      "cell_type": "code",
      "metadata": {
        "id": "D7Dz7kH4qapQ"
      },
      "source": [
        "from sklearn.metrics import accuracy_score, confusion_matrix, classification_report\n",
        "import seaborn as sns\n",
        "import matplotlib.pyplot as plt"
      ],
      "execution_count": null,
      "outputs": []
    },
    {
      "cell_type": "code",
      "metadata": {
        "colab": {
          "base_uri": "https://localhost:8080/"
        },
        "id": "fvGpwoFIooMj",
        "outputId": "b8c4ef01-2690-4f4a-9e23-68d49436120a"
      },
      "source": [
        "cm = confusion_matrix(pred_df['label'], pred_df['predicted_label'])\n",
        "print(classification_report(pred_df['label'], pred_df['predicted_label']))"
      ],
      "execution_count": null,
      "outputs": [
        {
          "output_type": "stream",
          "name": "stderr",
          "text": [
            "/usr/local/lib/python3.7/dist-packages/sklearn/metrics/_classification.py:1272: UndefinedMetricWarning: Recall and F-score are ill-defined and being set to 0.0 in labels with no true samples. Use `zero_division` parameter to control this behavior.\n",
            "  _warn_prf(average, modifier, msg_start, len(result))\n"
          ]
        },
        {
          "output_type": "stream",
          "name": "stdout",
          "text": [
            "              precision    recall  f1-score   support\n",
            "\n",
            "         afr       0.33      0.49      0.39       806\n",
            "         amh       0.75      1.00      0.86        42\n",
            "         ara       1.00      0.95      0.97      7597\n",
            "         arg       0.01      0.10      0.01        21\n",
            "         asm       0.92      0.23      0.37       639\n",
            "         aze       0.25      0.74      0.38      1081\n",
            "         bel       0.41      0.87      0.56      2528\n",
            "         ben       0.66      0.99      0.79       946\n",
            "         bos       0.01      0.05      0.02       123\n",
            "         bre       0.45      0.66      0.54      1454\n",
            "         bul       0.19      0.59      0.29      4900\n",
            "         cat       0.20      0.73      0.32      1596\n",
            "         ces       0.89      0.86      0.88     11993\n",
            "         cym       0.33      0.72      0.45       307\n",
            "         dan       0.74      0.59      0.66     10138\n",
            "         deu       0.95      0.98      0.96    113629\n",
            "         ell       1.00      1.00      1.00      6861\n",
            "         eng       0.96      0.97      0.96    305809\n",
            "         epo       0.98      0.86      0.92    133500\n",
            "         est       0.24      0.71      0.36       733\n",
            "         eus       0.32      0.86      0.47      1234\n",
            "         fao       0.27      0.25      0.26        81\n",
            "         fas       0.00      0.00      0.00         0\n",
            "         fin       0.94      0.94      0.94     26797\n",
            "         fra       0.90      0.95      0.93     94763\n",
            "         gle       0.42      0.87      0.57       526\n",
            "         glg       0.07      0.51      0.12       923\n",
            "         guj       0.97      1.00      0.99        34\n",
            "         hat       0.00      0.23      0.01        13\n",
            "         heb       1.00      1.00      1.00     39562\n",
            "         hin       0.45      0.92      0.60      2880\n",
            "         hrv       0.17      0.66      0.27      1045\n",
            "         hun       0.98      0.94      0.96     66264\n",
            "         hye       0.99      0.96      0.98       450\n",
            "         ind       0.53      0.75      0.62      2989\n",
            "         isl       0.88      0.96      0.92      2231\n",
            "         ita       0.95      0.89      0.92    158993\n",
            "         jav       0.17      0.64      0.27       132\n",
            "         jpn       1.00      1.00      1.00     42663\n",
            "         kan       1.00      1.00      1.00        35\n",
            "         kat       1.00      1.00      1.00      1164\n",
            "         kaz       0.38      0.96      0.54       767\n",
            "         khm       1.00      0.99      1.00       302\n",
            "         kin       0.00      0.00      0.00         5\n",
            "         kir       0.03      0.10      0.04        51\n",
            "         kor       0.98      1.00      0.99      1521\n",
            "         kur       0.00      0.00      0.00         0\n",
            "         lao       0.98      1.00      0.99        44\n",
            "         lat       0.91      0.13      0.22      8102\n",
            "         lav       0.00      0.00      0.00         0\n",
            "         lit       0.81      0.91      0.86     13097\n",
            "         ltz       0.41      0.38      0.39       164\n",
            "         mal       1.00      1.00      1.00       165\n",
            "         mar       0.99      0.73      0.84     13077\n",
            "         mkd       0.60      0.57      0.58     15587\n",
            "         mlg       0.02      0.33      0.03        12\n",
            "         mlt       0.04      0.83      0.07        41\n",
            "         mon       0.26      0.94      0.41       556\n",
            "         msa       0.00      0.00      0.00         0\n",
            "         nep       0.00      0.00      0.00         0\n",
            "         nld       0.87      0.94      0.90     29487\n",
            "         nno       0.15      0.53      0.23       315\n",
            "         nob       0.31      0.30      0.31      2853\n",
            "         nor       0.00      0.00      0.00         0\n",
            "         oci       0.37      0.57      0.44      1139\n",
            "         ori       1.00      1.00      1.00        75\n",
            "         pan       1.00      1.00      1.00        39\n",
            "         pol       0.95      0.98      0.96     22079\n",
            "         por       0.92      0.82      0.87     77772\n",
            "         pus       0.16      0.38      0.22         8\n",
            "         que       0.65      0.42      0.51        85\n",
            "         ron       0.66      0.92      0.77      5122\n",
            "         rus       0.97      0.82      0.89    175372\n",
            "         sin       0.44      1.00      0.61        11\n",
            "         slk       0.59      0.71      0.65      3232\n",
            "         slv       0.05      0.68      0.09       219\n",
            "         sme       0.20      0.30      0.24        37\n",
            "         spa       0.80      0.86      0.83     71015\n",
            "         sqi       0.82      0.92      0.87       506\n",
            "         srp       0.27      0.44      0.33      9035\n",
            "         swa       0.00      0.00      0.00         0\n",
            "         swe       0.80      0.80      0.80      8542\n",
            "         tam       0.97      1.00      0.99        67\n",
            "         tel       1.00      1.00      1.00        51\n",
            "         tgl       0.87      0.80      0.84      3445\n",
            "         tha       1.00      1.00      1.00       800\n",
            "         tur       1.00      0.91      0.95    142611\n",
            "         uig       0.96      0.97      0.97      1560\n",
            "         ukr       0.76      0.80      0.78     35122\n",
            "         urd       0.90      0.96      0.93       401\n",
            "         vie       0.96      1.00      0.98      4075\n",
            "         vol       0.55      0.29      0.38       848\n",
            "         wln       0.02      0.55      0.03        11\n",
            "         xho       0.09      0.52      0.16        50\n",
            "         zho       0.00      0.00      0.00         0\n",
            "         zul       0.05      0.27      0.09        15\n",
            "\n",
            "    accuracy                           0.89   1696972\n",
            "   macro avg       0.56      0.67      0.57   1696972\n",
            "weighted avg       0.93      0.89      0.91   1696972\n",
            "\n"
          ]
        }
      ]
    },
    {
      "cell_type": "code",
      "metadata": {
        "colab": {
          "base_uri": "https://localhost:8080/",
          "height": 606
        },
        "id": "IOuFheo0qRLc",
        "outputId": "4456840e-84e9-4bfe-e418-e0bca5ab453e"
      },
      "source": [
        "plt.figure(figsize=(15,10))\n",
        "sns.heatmap(cm, annot = False, xticklabels=trained_labels,yticklabels=trained_labels)\n",
        "plt.show()"
      ],
      "execution_count": null,
      "outputs": [
        {
          "output_type": "display_data",
          "data": {
            "image/png": "[encoded data removed]",
            "text/plain": [
              "<Figure size 1080x720 with 2 Axes>"
            ]
          },
          "metadata": {
            "needs_background": "light"
          }
        }
      ]
    },
    {
      "cell_type": "code",
      "metadata": {
        "id": "lnD2tzjW8VJ9"
      },
      "source": [
        ""
      ],
      "execution_count": null,
      "outputs": []
    }
  ]
}