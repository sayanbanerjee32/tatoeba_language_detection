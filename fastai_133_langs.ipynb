{
  "nbformat": 4,
  "nbformat_minor": 0,
  "metadata": {
    "colab": {
      "name": "fastai_133_langs.ipynb",
      "provenance": [],
      "machine_shape": "hm",
      "authorship_tag": "ABX9TyPrLsh4qZ1DmieNV39+4Mxt",
      "include_colab_link": true
    },
    "kernelspec": {
      "name": "python3",
      "display_name": "Python 3"
    },
    "language_info": {
      "name": "python"
    },
    "accelerator": "GPU"
  },
  "cells": [
    {
      "cell_type": "markdown",
      "metadata": {
        "id": "view-in-github",
        "colab_type": "text"
      },
      "source": [
        "<a href=\"https://colab.research.google.com/github/sayanbanerjee32/lang_detect/blob/main/fastai_133_langs.ipynb\" target=\"_parent\"><img src=\"https://colab.research.google.com/assets/colab-badge.svg\" alt=\"Open In Colab\"/></a>"
      ]
    },
    {
      "cell_type": "code",
      "metadata": {
        "colab": {
          "base_uri": "https://localhost:8080/"
        },
        "id": "STXPZNU_tkPi",
        "outputId": "40348f25-ac6a-4c5b-dbdb-64baaf1e1a8a"
      },
      "source": [
        "# mount gdrive for data\n",
        "from google.colab import drive\n",
        "drive.mount('/content/drive')"
      ],
      "execution_count": null,
      "outputs": [
        {
          "output_type": "stream",
          "name": "stdout",
          "text": [
            "Mounted at /content/drive\n"
          ]
        }
      ]
    },
    {
      "cell_type": "code",
      "metadata": {
        "id": "UP0V7xWIw3K1"
      },
      "source": [
        "# file locations\n",
        "tar_file_loc = '/content/drive/MyDrive/lang_detection/data/sentences.tar.bz2'\n",
        "dest_loc = '/tmp'\n",
        "file_name = 'sentences.csv'\n",
        "num_languages = 133\n",
        "model_save_path = '/content/drive/MyDrive/lang_detection/models/'"
      ],
      "execution_count": null,
      "outputs": []
    },
    {
      "cell_type": "code",
      "metadata": {
        "id": "rdX9K_A2t0yf"
      },
      "source": [
        "%%capture\n",
        "!pip install fastai -Uq"
      ],
      "execution_count": null,
      "outputs": []
    },
    {
      "cell_type": "code",
      "metadata": {
        "id": "C87Q1eLF7tJI"
      },
      "source": [
        "import pandas as pd\n",
        "import tarfile\n",
        "import numpy as np\n",
        "from sklearn.model_selection import StratifiedKFold"
      ],
      "execution_count": null,
      "outputs": []
    },
    {
      "cell_type": "code",
      "metadata": {
        "id": "XuIFu8erusqb"
      },
      "source": [
        "# extrtract tar file\n",
        "tar = tarfile.open(tar_file_loc, \"r:bz2\")  \n",
        "tar.extractall(path = dest_loc)\n",
        "tar.close()"
      ],
      "execution_count": null,
      "outputs": []
    },
    {
      "cell_type": "code",
      "metadata": {
        "id": "i_RR2MaKw1aJ"
      },
      "source": [
        "# read lines to understand structure\n",
        "with open(dest_loc +'/' + file_name) as file:\n",
        "    lines = file.readlines()\n",
        "    lines = [line.strip() for line in lines]"
      ],
      "execution_count": null,
      "outputs": []
    },
    {
      "cell_type": "code",
      "metadata": {
        "colab": {
          "base_uri": "https://localhost:8080/"
        },
        "id": "2hA2fiKxxbO6",
        "outputId": "19befc43-1bf2-4e8a-f900-9c470b3ca301"
      },
      "source": [
        "# see few samples\n",
        "lines[0:10]"
      ],
      "execution_count": null,
      "outputs": [
        {
          "output_type": "execute_result",
          "data": {
            "text/plain": [
              "['1\\tcmn\\t我們試試看！',\n",
              " '2\\tcmn\\t我该去睡觉了。',\n",
              " '3\\tcmn\\t你在干什麼啊？',\n",
              " '4\\tcmn\\t這是什麼啊？',\n",
              " '5\\tcmn\\t今天是６月１８号，也是Muiriel的生日！',\n",
              " '6\\tcmn\\t生日快乐，Muiriel！',\n",
              " '7\\tcmn\\tMuiriel现在20岁了。',\n",
              " '8\\tcmn\\t密码是\"Muiriel\"。',\n",
              " '9\\tcmn\\t我很快就會回來。',\n",
              " '10\\tcmn\\t我不知道。']"
            ]
          },
          "metadata": {},
          "execution_count": 7
        }
      ]
    },
    {
      "cell_type": "code",
      "metadata": {
        "colab": {
          "base_uri": "https://localhost:8080/",
          "height": 206
        },
        "id": "4k5hqpW_zPew",
        "outputId": "b99d26b9-be1f-4fb9-85ab-4b2e7d89db80"
      },
      "source": [
        "# read data in pandas\n",
        "sent_df = pd.read_csv(dest_loc +'/' + file_name, sep = '\\t', names = ['id','label','text'])\n",
        "sent_df.head()"
      ],
      "execution_count": null,
      "outputs": [
        {
          "output_type": "execute_result",
          "data": {
            "text/html": [
              "<div>\n",
              "<style scoped>\n",
              "    .dataframe tbody tr th:only-of-type {\n",
              "        vertical-align: middle;\n",
              "    }\n",
              "\n",
              "    .dataframe tbody tr th {\n",
              "        vertical-align: top;\n",
              "    }\n",
              "\n",
              "    .dataframe thead th {\n",
              "        text-align: right;\n",
              "    }\n",
              "</style>\n",
              "<table border=\"1\" class=\"dataframe\">\n",
              "  <thead>\n",
              "    <tr style=\"text-align: right;\">\n",
              "      <th></th>\n",
              "      <th>id</th>\n",
              "      <th>label</th>\n",
              "      <th>text</th>\n",
              "    </tr>\n",
              "  </thead>\n",
              "  <tbody>\n",
              "    <tr>\n",
              "      <th>0</th>\n",
              "      <td>1</td>\n",
              "      <td>cmn</td>\n",
              "      <td>我們試試看！</td>\n",
              "    </tr>\n",
              "    <tr>\n",
              "      <th>1</th>\n",
              "      <td>2</td>\n",
              "      <td>cmn</td>\n",
              "      <td>我该去睡觉了。</td>\n",
              "    </tr>\n",
              "    <tr>\n",
              "      <th>2</th>\n",
              "      <td>3</td>\n",
              "      <td>cmn</td>\n",
              "      <td>你在干什麼啊？</td>\n",
              "    </tr>\n",
              "    <tr>\n",
              "      <th>3</th>\n",
              "      <td>4</td>\n",
              "      <td>cmn</td>\n",
              "      <td>這是什麼啊？</td>\n",
              "    </tr>\n",
              "    <tr>\n",
              "      <th>4</th>\n",
              "      <td>5</td>\n",
              "      <td>cmn</td>\n",
              "      <td>今天是６月１８号，也是Muiriel的生日！</td>\n",
              "    </tr>\n",
              "  </tbody>\n",
              "</table>\n",
              "</div>"
            ],
            "text/plain": [
              "   id label                    text\n",
              "0   1   cmn                  我們試試看！\n",
              "1   2   cmn                 我该去睡觉了。\n",
              "2   3   cmn                 你在干什麼啊？\n",
              "3   4   cmn                  這是什麼啊？\n",
              "4   5   cmn  今天是６月１８号，也是Muiriel的生日！"
            ]
          },
          "metadata": {},
          "execution_count": 8
        }
      ]
    },
    {
      "cell_type": "code",
      "metadata": {
        "colab": {
          "base_uri": "https://localhost:8080/",
          "height": 519
        },
        "id": "3wQOsH8YuDkW",
        "outputId": "85192fe5-6a57-4eb7-98a7-8bb08183a06c"
      },
      "source": [
        "# is there blank label\n",
        "sent_df['label'].fillna('unk',inplace  = True)\n",
        "sent_df.loc[sent_df['label'] == 'unk',:]"
      ],
      "execution_count": null,
      "outputs": [
        {
          "output_type": "execute_result",
          "data": {
            "text/html": [
              "<div>\n",
              "<style scoped>\n",
              "    .dataframe tbody tr th:only-of-type {\n",
              "        vertical-align: middle;\n",
              "    }\n",
              "\n",
              "    .dataframe tbody tr th {\n",
              "        vertical-align: top;\n",
              "    }\n",
              "\n",
              "    .dataframe thead th {\n",
              "        text-align: right;\n",
              "    }\n",
              "</style>\n",
              "<table border=\"1\" class=\"dataframe\">\n",
              "  <thead>\n",
              "    <tr style=\"text-align: right;\">\n",
              "      <th></th>\n",
              "      <th>id</th>\n",
              "      <th>label</th>\n",
              "      <th>text</th>\n",
              "    </tr>\n",
              "  </thead>\n",
              "  <tbody>\n",
              "    <tr>\n",
              "      <th>387366</th>\n",
              "      <td>404564</td>\n",
              "      <td>unk</td>\n",
              "      <td>Lèu gāi dịdiang?</td>\n",
              "    </tr>\n",
              "    <tr>\n",
              "      <th>387368</th>\n",
              "      <td>404566</td>\n",
              "      <td>unk</td>\n",
              "      <td>Kuăilāk sí mitgāi?</td>\n",
              "    </tr>\n",
              "    <tr>\n",
              "      <th>387372</th>\n",
              "      <td>404570</td>\n",
              "      <td>unk</td>\n",
              "      <td>Dó Hānggok nạng dăn mitgāi uẹ?</td>\n",
              "    </tr>\n",
              "    <tr>\n",
              "      <th>388306</th>\n",
              "      <td>405522</td>\n",
              "      <td>unk</td>\n",
              "      <td>Lèu kiá dịgŏ?</td>\n",
              "    </tr>\n",
              "    <tr>\n",
              "      <th>388307</th>\n",
              "      <td>405523</td>\n",
              "      <td>unk</td>\n",
              "      <td>Lèu miān mitgāi?</td>\n",
              "    </tr>\n",
              "    <tr>\n",
              "      <th>388308</th>\n",
              "      <td>405524</td>\n",
              "      <td>unk</td>\n",
              "      <td>Uà sí Diōjiunāng.</td>\n",
              "    </tr>\n",
              "    <tr>\n",
              "      <th>4655179</th>\n",
              "      <td>4962310</td>\n",
              "      <td>unk</td>\n",
              "      <td>厝漏閣抵著透暝雨。</td>\n",
              "    </tr>\n",
              "    <tr>\n",
              "      <th>5786464</th>\n",
              "      <td>6142175</td>\n",
              "      <td>unk</td>\n",
              "      <td>我昨暗睏十一點鐘久。</td>\n",
              "    </tr>\n",
              "    <tr>\n",
              "      <th>5786465</th>\n",
              "      <td>6142176</td>\n",
              "      <td>unk</td>\n",
              "      <td>阮阿叔有去過芬蘭。</td>\n",
              "    </tr>\n",
              "    <tr>\n",
              "      <th>5786466</th>\n",
              "      <td>6142177</td>\n",
              "      <td>unk</td>\n",
              "      <td>阮佇厝裡攏講台語。</td>\n",
              "    </tr>\n",
              "    <tr>\n",
              "      <th>5786467</th>\n",
              "      <td>6142178</td>\n",
              "      <td>unk</td>\n",
              "      <td>歇熱時，我拍算⼀⾯上課⼀⾯⾷頭路。</td>\n",
              "    </tr>\n",
              "    <tr>\n",
              "      <th>5786469</th>\n",
              "      <td>6142180</td>\n",
              "      <td>unk</td>\n",
              "      <td>恁阿媽佮阿⺟做好遐爾濟菜。</td>\n",
              "    </tr>\n",
              "    <tr>\n",
              "      <th>6023168</th>\n",
              "      <td>6401580</td>\n",
              "      <td>unk</td>\n",
              "      <td>阮昨昏共文章寫完。</td>\n",
              "    </tr>\n",
              "    <tr>\n",
              "      <th>6023171</th>\n",
              "      <td>6401584</td>\n",
              "      <td>unk</td>\n",
              "      <td>你有食飯無？</td>\n",
              "    </tr>\n",
              "    <tr>\n",
              "      <th>6023173</th>\n",
              "      <td>6401586</td>\n",
              "      <td>unk</td>\n",
              "      <td>伊有來。</td>\n",
              "    </tr>\n",
              "  </tbody>\n",
              "</table>\n",
              "</div>"
            ],
            "text/plain": [
              "              id label                            text\n",
              "387366    404564   unk                Lèu gāi dịdiang?\n",
              "387368    404566   unk              Kuăilāk sí mitgāi?\n",
              "387372    404570   unk  Dó Hānggok nạng dăn mitgāi uẹ?\n",
              "388306    405522   unk                   Lèu kiá dịgŏ?\n",
              "388307    405523   unk                Lèu miān mitgāi?\n",
              "388308    405524   unk               Uà sí Diōjiunāng.\n",
              "4655179  4962310   unk                       厝漏閣抵著透暝雨。\n",
              "5786464  6142175   unk                      我昨暗睏十一點鐘久。\n",
              "5786465  6142176   unk                       阮阿叔有去過芬蘭。\n",
              "5786466  6142177   unk                       阮佇厝裡攏講台語。\n",
              "5786467  6142178   unk               歇熱時，我拍算⼀⾯上課⼀⾯⾷頭路。\n",
              "5786469  6142180   unk                   恁阿媽佮阿⺟做好遐爾濟菜。\n",
              "6023168  6401580   unk                       阮昨昏共文章寫完。\n",
              "6023171  6401584   unk                          你有食飯無？\n",
              "6023173  6401586   unk                            伊有來。"
            ]
          },
          "metadata": {},
          "execution_count": 9
        }
      ]
    },
    {
      "cell_type": "code",
      "metadata": {
        "colab": {
          "base_uri": "https://localhost:8080/"
        },
        "id": "yGIAp5nKuhnV",
        "outputId": "1f5268cb-fe90-45ec-c7bb-b1b70a502161"
      },
      "source": [
        "# is there blank texts\n",
        "sent_df.loc[sent_df['text'].isnull(),:].shape, sent_df.loc[sent_df['text'] == '',:].shape"
      ],
      "execution_count": null,
      "outputs": [
        {
          "output_type": "execute_result",
          "data": {
            "text/plain": [
              "((0, 3), (0, 3))"
            ]
          },
          "metadata": {},
          "execution_count": 10
        }
      ]
    },
    {
      "cell_type": "code",
      "metadata": {
        "colab": {
          "base_uri": "https://localhost:8080/"
        },
        "id": "8Qc85kcAu4yd",
        "outputId": "d9e73a7b-19d5-47f0-e5bb-1c43b1e34522"
      },
      "source": [
        "# remove records where label not known\n",
        "sent_df = sent_df.loc[sent_df['label'] != 'unk',:]\n",
        "len(sent_df['label'].unique())"
      ],
      "execution_count": null,
      "outputs": [
        {
          "output_type": "execute_result",
          "data": {
            "text/plain": [
              "402"
            ]
          },
          "metadata": {},
          "execution_count": 11
        }
      ]
    },
    {
      "cell_type": "code",
      "metadata": {
        "id": "G5nO6YnV_GSG"
      },
      "source": [
        "# create test split\n",
        "def get_train_test_split(df):\n",
        "    train_ids, test_ids = next(StratifiedKFold(n_splits=5,random_state=1).split(df.id, df.label))\n",
        "    print(f\"Test: {len(test_ids)}, Train: {len(train_ids)}, Total: {len(df)}\")\n",
        "    dummy = [False] * len(df)\n",
        "    com_list = dummy[:]\n",
        "    for index in test_ids: com_list[index] = True\n",
        "    return com_list"
      ],
      "execution_count": null,
      "outputs": []
    },
    {
      "cell_type": "code",
      "metadata": {
        "colab": {
          "base_uri": "https://localhost:8080/"
        },
        "id": "tWjZc0Yitt_l",
        "outputId": "70a89d22-8608-4269-9f00-a0876439389f"
      },
      "source": [
        "train_test_bool = get_train_test_split(sent_df)\n",
        "sum(train_test_bool)"
      ],
      "execution_count": null,
      "outputs": [
        {
          "output_type": "stream",
          "name": "stderr",
          "text": [
            "/usr/local/lib/python3.7/dist-packages/sklearn/model_selection/_split.py:296: FutureWarning: Setting a random_state has no effect since shuffle is False. This will raise an error in 0.24. You should leave random_state to its default (None), or set shuffle=True.\n",
            "  FutureWarning\n",
            "/usr/local/lib/python3.7/dist-packages/sklearn/model_selection/_split.py:667: UserWarning: The least populated class in y has only 1 members, which is less than n_splits=5.\n",
            "  % (min_groups, self.n_splits)), UserWarning)\n"
          ]
        },
        {
          "output_type": "stream",
          "name": "stdout",
          "text": [
            "Test: 1977424, Train: 7909695, Total: 9887119\n"
          ]
        },
        {
          "output_type": "execute_result",
          "data": {
            "text/plain": [
              "1977424"
            ]
          },
          "metadata": {},
          "execution_count": 13
        }
      ]
    },
    {
      "cell_type": "code",
      "metadata": {
        "colab": {
          "base_uri": "https://localhost:8080/"
        },
        "id": "N1pp9F5mt4_i",
        "outputId": "7671c46b-221d-43cf-92ab-9c8cd53cf492"
      },
      "source": [
        "# keep test separate\n",
        "test_df = sent_df.loc[train_test_bool,:]\n",
        "test_df.shape"
      ],
      "execution_count": null,
      "outputs": [
        {
          "output_type": "execute_result",
          "data": {
            "text/plain": [
              "(1977424, 3)"
            ]
          },
          "metadata": {},
          "execution_count": 14
        }
      ]
    },
    {
      "cell_type": "code",
      "metadata": {
        "colab": {
          "base_uri": "https://localhost:8080/"
        },
        "id": "T2XQ68_xyStw",
        "outputId": "40effc57-21e0-44ae-a562-b57fec7d33d1"
      },
      "source": [
        "# Training df\n",
        "train_df = sent_df.loc[list(~np.array(train_test_bool)),:]\n",
        "train_df.shape"
      ],
      "execution_count": null,
      "outputs": [
        {
          "output_type": "execute_result",
          "data": {
            "text/plain": [
              "(7909695, 3)"
            ]
          },
          "metadata": {},
          "execution_count": 15
        }
      ]
    },
    {
      "cell_type": "code",
      "metadata": {
        "colab": {
          "base_uri": "https://localhost:8080/",
          "height": 417
        },
        "id": "T1-IpJiQyyGw",
        "outputId": "bb1efd38-7f5d-4775-9537-2638ab44ac14"
      },
      "source": [
        "# is validation identified\n",
        "train_df['is_valid'] = get_train_test_split(train_df)\n",
        "train_df.head()"
      ],
      "execution_count": null,
      "outputs": [
        {
          "output_type": "stream",
          "name": "stderr",
          "text": [
            "/usr/local/lib/python3.7/dist-packages/sklearn/model_selection/_split.py:296: FutureWarning: Setting a random_state has no effect since shuffle is False. This will raise an error in 0.24. You should leave random_state to its default (None), or set shuffle=True.\n",
            "  FutureWarning\n",
            "/usr/local/lib/python3.7/dist-packages/sklearn/model_selection/_split.py:667: UserWarning: The least populated class in y has only 1 members, which is less than n_splits=5.\n",
            "  % (min_groups, self.n_splits)), UserWarning)\n"
          ]
        },
        {
          "output_type": "stream",
          "name": "stdout",
          "text": [
            "Test: 1581939, Train: 6327756, Total: 7909695\n"
          ]
        },
        {
          "output_type": "stream",
          "name": "stderr",
          "text": [
            "/usr/local/lib/python3.7/dist-packages/ipykernel_launcher.py:2: SettingWithCopyWarning: \n",
            "A value is trying to be set on a copy of a slice from a DataFrame.\n",
            "Try using .loc[row_indexer,col_indexer] = value instead\n",
            "\n",
            "See the caveats in the documentation: https://pandas.pydata.org/pandas-docs/stable/user_guide/indexing.html#returning-a-view-versus-a-copy\n",
            "  \n"
          ]
        },
        {
          "output_type": "execute_result",
          "data": {
            "text/html": [
              "<div>\n",
              "<style scoped>\n",
              "    .dataframe tbody tr th:only-of-type {\n",
              "        vertical-align: middle;\n",
              "    }\n",
              "\n",
              "    .dataframe tbody tr th {\n",
              "        vertical-align: top;\n",
              "    }\n",
              "\n",
              "    .dataframe thead th {\n",
              "        text-align: right;\n",
              "    }\n",
              "</style>\n",
              "<table border=\"1\" class=\"dataframe\">\n",
              "  <thead>\n",
              "    <tr style=\"text-align: right;\">\n",
              "      <th></th>\n",
              "      <th>id</th>\n",
              "      <th>label</th>\n",
              "      <th>text</th>\n",
              "      <th>is_valid</th>\n",
              "    </tr>\n",
              "  </thead>\n",
              "  <tbody>\n",
              "    <tr>\n",
              "      <th>111285</th>\n",
              "      <td>116355</td>\n",
              "      <td>jpn</td>\n",
              "      <td>彼の発言で私の希望は失われた。</td>\n",
              "      <td>True</td>\n",
              "    </tr>\n",
              "    <tr>\n",
              "      <th>111286</th>\n",
              "      <td>116356</td>\n",
              "      <td>jpn</td>\n",
              "      <td>彼の発言が舌戦の火蓋を切った。</td>\n",
              "      <td>True</td>\n",
              "    </tr>\n",
              "    <tr>\n",
              "      <th>111287</th>\n",
              "      <td>116357</td>\n",
              "      <td>jpn</td>\n",
              "      <td>彼の発言がゴタゴタを起こした。</td>\n",
              "      <td>True</td>\n",
              "    </tr>\n",
              "    <tr>\n",
              "      <th>111288</th>\n",
              "      <td>116358</td>\n",
              "      <td>jpn</td>\n",
              "      <td>彼の発言が舌戦の火蓋をきったことになった。</td>\n",
              "      <td>True</td>\n",
              "    </tr>\n",
              "    <tr>\n",
              "      <th>111289</th>\n",
              "      <td>116359</td>\n",
              "      <td>jpn</td>\n",
              "      <td>彼の発見は輸送における革命をもたらした。</td>\n",
              "      <td>True</td>\n",
              "    </tr>\n",
              "  </tbody>\n",
              "</table>\n",
              "</div>"
            ],
            "text/plain": [
              "            id label                   text  is_valid\n",
              "111285  116355   jpn        彼の発言で私の希望は失われた。      True\n",
              "111286  116356   jpn        彼の発言が舌戦の火蓋を切った。      True\n",
              "111287  116357   jpn        彼の発言がゴタゴタを起こした。      True\n",
              "111288  116358   jpn  彼の発言が舌戦の火蓋をきったことになった。      True\n",
              "111289  116359   jpn   彼の発見は輸送における革命をもたらした。      True"
            ]
          },
          "metadata": {},
          "execution_count": 16
        }
      ]
    },
    {
      "cell_type": "code",
      "metadata": {
        "colab": {
          "base_uri": "https://localhost:8080/",
          "height": 361
        },
        "id": "LGTJ_Mlm7lAv",
        "outputId": "68805b1d-bee2-4f80-f2ad-b85dc63ea505"
      },
      "source": [
        "# create a subsample\n",
        "cound_df = train_df['label'].value_counts()\n",
        "sample_labels = cound_df[:num_languages].index.tolist()\n",
        "\n",
        "train_csv_sample = train_df.loc[train_df['label'].isin(sample_labels),:]\n",
        "train_csv_sample['label'].value_counts().plot.bar(figsize = [20,5])\n",
        "len(train_df), len(train_csv_sample)"
      ],
      "execution_count": null,
      "outputs": [
        {
          "output_type": "execute_result",
          "data": {
            "text/plain": [
              "(7909695, 7890587)"
            ]
          },
          "metadata": {},
          "execution_count": 17
        },
        {
          "output_type": "display_data",
          "data": {
            "image/png": "[encoded data removed]",
            "text/plain": [
              "<Figure size 1440x360 with 1 Axes>"
            ]
          },
          "metadata": {
            "needs_background": "light"
          }
        }
      ]
    },
    {
      "cell_type": "code",
      "metadata": {
        "id": "LQ9XYR9KObL-",
        "colab": {
          "base_uri": "https://localhost:8080/"
        },
        "outputId": "8ba4b4f3-c6c8-4f51-dea8-e630bc30c7a2"
      },
      "source": [
        "# to get an idea how many observations should be kept to deal with the large volume\n",
        "train_csv_sample['label'].value_counts().median()"
      ],
      "execution_count": null,
      "outputs": [
        {
          "output_type": "execute_result",
          "data": {
            "text/plain": [
              "3743.0"
            ]
          },
          "metadata": {},
          "execution_count": 18
        }
      ]
    },
    {
      "cell_type": "code",
      "metadata": {
        "id": "KfuzddI__3DV",
        "colab": {
          "base_uri": "https://localhost:8080/",
          "height": 349
        },
        "outputId": "ed19d24e-62d1-488e-f502-fa53b3433a44"
      },
      "source": [
        "# downsample where number of observations for a language is more than 10000\n",
        "size = 10000        # sample size\n",
        "replace = False  # with replacement\n",
        "dn_smpl_lang = list(train_csv_sample['label'].value_counts()[train_csv_sample['label'].value_counts() > size].index)\n",
        "train_sub_sample_lg = train_csv_sample.loc[train_csv_sample.label.isin(dn_smpl_lang),:].copy()\n",
        "np.random.seed(1)\n",
        "fn = lambda obj: obj.loc[np.random.choice(obj.index, size, replace),:]\n",
        "train_sub_sample_lg = train_sub_sample_lg.groupby('label', as_index=False).apply(fn)\n",
        "train_sub_sample_lg['label'].value_counts().plot.bar(figsize = [10,5])"
      ],
      "execution_count": null,
      "outputs": [
        {
          "output_type": "execute_result",
          "data": {
            "text/plain": [
              "<matplotlib.axes._subplots.AxesSubplot at 0x7f1e7143a890>"
            ]
          },
          "metadata": {},
          "execution_count": 19
        },
        {
          "output_type": "display_data",
          "data": {
            "image/png": "[encoded data removed]",
            "text/plain": [
              "<Figure size 720x360 with 1 Axes>"
            ]
          },
          "metadata": {
            "needs_background": "light"
          }
        }
      ]
    },
    {
      "cell_type": "code",
      "metadata": {
        "colab": {
          "base_uri": "https://localhost:8080/",
          "height": 349
        },
        "id": "iYoqomm2XBa4",
        "outputId": "f2f73649-6dbc-4e67-8206-aba92fb5e38c"
      },
      "source": [
        "# distribution where number of observation for each language is less than 10000\n",
        "train_sub_sample_sh = train_csv_sample.loc[~train_csv_sample.label.isin(dn_smpl_lang),:].copy()\n",
        "train_sub_sample_sh['label'].value_counts().plot.bar(figsize = [20,5])"
      ],
      "execution_count": null,
      "outputs": [
        {
          "output_type": "execute_result",
          "data": {
            "text/plain": [
              "<matplotlib.axes._subplots.AxesSubplot at 0x7f1e712f9450>"
            ]
          },
          "metadata": {},
          "execution_count": 20
        },
        {
          "output_type": "display_data",
          "data": {
            "image/png": "[encoded data removed]",
            "text/plain": [
              "<Figure size 1440x360 with 1 Axes>"
            ]
          },
          "metadata": {
            "needs_background": "light"
          }
        }
      ]
    },
    {
      "cell_type": "code",
      "metadata": {
        "colab": {
          "base_uri": "https://localhost:8080/",
          "height": 347
        },
        "id": "VhqtU4sIfmSl",
        "outputId": "db36a792-3acc-4093-a1fa-756584146349"
      },
      "source": [
        "train_sub_sample = pd.concat([train_sub_sample_lg,train_sub_sample_sh],axis = 0)\n",
        "train_sub_sample['label'].value_counts().plot.bar(figsize = [20,5])"
      ],
      "execution_count": null,
      "outputs": [
        {
          "output_type": "execute_result",
          "data": {
            "text/plain": [
              "<matplotlib.axes._subplots.AxesSubplot at 0x7f1e70d25fd0>"
            ]
          },
          "metadata": {},
          "execution_count": 21
        },
        {
          "output_type": "display_data",
          "data": {
            "image/png": "[encoded data removed]",
            "text/plain": [
              "<Figure size 1440x360 with 1 Axes>"
            ]
          },
          "metadata": {
            "needs_background": "light"
          }
        }
      ]
    },
    {
      "cell_type": "markdown",
      "metadata": {
        "id": "rlFy9DDkEBxm"
      },
      "source": [
        "## Character language model"
      ]
    },
    {
      "cell_type": "code",
      "metadata": {
        "id": "GoerUmBW9uxs"
      },
      "source": [
        "from fastai.text.all import *\n",
        "from fastai.callback.fp16 import *\n",
        "\n",
        "from pathlib import Path"
      ],
      "execution_count": null,
      "outputs": []
    },
    {
      "cell_type": "code",
      "metadata": {
        "id": "t93jEXWcaruz"
      },
      "source": [
        "# Character tokenizer that will be used by fastai dataloaders\n",
        "\n",
        "from collections.abc import Iterable\n",
        "\n",
        "def flatten(l):\n",
        "    for el in l:\n",
        "        if isinstance(el, Iterable) and not isinstance(el, (str, bytes)):\n",
        "            yield from flatten(el)\n",
        "        else:\n",
        "            yield el\n",
        "class CharTokenizer():\n",
        "        \n",
        "    def __call__(self, items):\n",
        "        \n",
        "        # List where I temporarly store the tokens ['xxbos', 'h', 'e', 'l', 'l', 'o', 'xxeos'] as \n",
        "        # they are being parsed.\n",
        "        final_list = []\n",
        "        \n",
        "        # We don't want to mess with the special fastai tokens\n",
        "        special_chars = ['xxunk','xxpad','xxbos','xxeos','xxfld','xxrep','xxwrep','xxup','xxmaj']\n",
        "        \n",
        "        # Break up string into words, if word in special_chars dont touch it. Otherwise break up each\n",
        "        # word into each character.\n",
        "        for words in items:\n",
        "            tmp = list(flatten([list(word) if word not in special_chars else word \n",
        "                                                for word in words.split()]))\n",
        "            # tmp has each token 'xxbos', 'xxmaj', 'h', 'e', 'l', 'l', 'o', ',', 'w', 'h', ....]\n",
        "            # We need to put the tmp list into another list to generate a generator below\n",
        "            final_list.append(tmp)\n",
        "        \n",
        "        # Returns a generator\n",
        "        return (t for t in final_list)"
      ],
      "execution_count": null,
      "outputs": []
    },
    {
      "cell_type": "markdown",
      "metadata": {
        "id": "89dP5FBs_TvQ"
      },
      "source": [
        "### Language model characters"
      ]
    },
    {
      "cell_type": "code",
      "metadata": {
        "id": "bMrEbaOl_PN8",
        "colab": {
          "base_uri": "https://localhost:8080/",
          "height": 201
        },
        "outputId": "9dd2f164-8389-4d9f-d46b-c5b435d992df"
      },
      "source": [
        "# cleate data block and data loader for building the language model\n",
        "data_lm = DataBlock(\n",
        "            blocks=TextBlock.from_df('text', is_lm=True, tok=CharTokenizer()),\n",
        "            get_x=ColReader('text'),\n",
        "            splitter=RandomSplitter(0.1))\n",
        "\n",
        "dls_lm = data_lm.dataloaders(train_sub_sample) \n",
        "# how the data will be presented to the model\n",
        "dls_lm.show_batch(max_n=2)"
      ],
      "execution_count": null,
      "outputs": [
        {
          "output_type": "display_data",
          "data": {
            "text/html": [
              ""
            ],
            "text/plain": [
              "<IPython.core.display.HTML object>"
            ]
          },
          "metadata": {}
        },
        {
          "output_type": "stream",
          "name": "stderr",
          "text": [
            "/usr/local/lib/python3.7/dist-packages/numpy/core/_asarray.py:83: VisibleDeprecationWarning: Creating an ndarray from ragged nested sequences (which is a list-or-tuple of lists-or-tuples-or ndarrays with different lengths or shapes) is deprecated. If you meant to do this, you must specify 'dtype=object' when creating the ndarray\n",
            "  return array(a, dtype, copy=False, order=order)\n"
          ]
        },
        {
          "output_type": "display_data",
          "data": {
            "text/html": [
              "<table border=\"1\" class=\"dataframe\">\n",
              "  <thead>\n",
              "    <tr style=\"text-align: right;\">\n",
              "      <th></th>\n",
              "      <th>text</th>\n",
              "      <th>text_</th>\n",
              "    </tr>\n",
              "  </thead>\n",
              "  <tbody>\n",
              "    <tr>\n",
              "      <th>0</th>\n",
              "      <td>xxbos ё н у п а р т а д а в о д з і ў , ш т о н е а б х о д н а п р ы н я ц ь п р а п а н о в у , ш т о г э т а г а п а т р а б у е м о м а н т . xxbos</td>\n",
              "      <td>ё н у п а р т а д а в о д з і ў , ш т о н е а б х о д н а п р ы н я ц ь п р а п а н о в у , ш т о г э т а г а п а т р а б у е м о м а н т . xxbos т</td>\n",
              "    </tr>\n",
              "    <tr>\n",
              "      <th>1</th>\n",
              "      <td>a t å g e t . xxbos ส ั ม ภ า ร ะ ข อ ง ฉ ั น ห า ย ไ ป xxbos xxmaj c a n y o u g i v e m e s o m e s p e c i f i c a t i o n s ? xxbos xxmaj t i l m a r d i o ! xxbos</td>\n",
              "      <td>t å g e t . xxbos ส ั ม ภ า ร ะ ข อ ง ฉ ั น ห า ย ไ ป xxbos xxmaj c a n y o u g i v e m e s o m e s p e c i f i c a t i o n s ? xxbos xxmaj t i l m a r d i o ! xxbos xxmaj</td>\n",
              "    </tr>\n",
              "  </tbody>\n",
              "</table>"
            ],
            "text/plain": [
              "<IPython.core.display.HTML object>"
            ]
          },
          "metadata": {}
        }
      ]
    },
    {
      "cell_type": "code",
      "metadata": {
        "id": "KbYW-fgHCHWn"
      },
      "source": [
        "# create language model learner\n",
        "learn_lm = language_model_learner(dls_lm, AWD_LSTM, drop_mult=0.5, \n",
        "                                  pretrained=False, #config=config,\n",
        "                                metrics=[accuracy, Perplexity()]).to_fp16()"
      ],
      "execution_count": null,
      "outputs": []
    },
    {
      "cell_type": "code",
      "metadata": {
        "id": "RUY3In6OD40h",
        "colab": {
          "base_uri": "https://localhost:8080/",
          "height": 301
        },
        "outputId": "6b0f7afc-e35b-4dbc-ce3c-35a358d0f462"
      },
      "source": [
        "# find optimum learning rate for language model\n",
        "learn_lm.lr_find()"
      ],
      "execution_count": null,
      "outputs": [
        {
          "output_type": "display_data",
          "data": {
            "text/html": [
              ""
            ],
            "text/plain": [
              "<IPython.core.display.HTML object>"
            ]
          },
          "metadata": {}
        },
        {
          "output_type": "execute_result",
          "data": {
            "text/plain": [
              "SuggestedLRs(valley=0.00013182566908653826)"
            ]
          },
          "metadata": {},
          "execution_count": 26
        },
        {
          "output_type": "display_data",
          "data": {
            "image/png": "[encoded data removed]",
            "text/plain": [
              "<Figure size 432x288 with 1 Axes>"
            ]
          },
          "metadata": {
            "needs_background": "light"
          }
        }
      ]
    },
    {
      "cell_type": "code",
      "metadata": {
        "id": "0doVrwxvDKqs",
        "colab": {
          "base_uri": "https://localhost:8080/",
          "height": 81
        },
        "outputId": "c9c4f2a4-1c5c-4add-de6e-642d797e951f"
      },
      "source": [
        "# one cycle training\n",
        "learn_lm.fit_one_cycle(1, 0.00015)"
      ],
      "execution_count": null,
      "outputs": [
        {
          "output_type": "display_data",
          "data": {
            "text/html": [
              "<table border=\"1\" class=\"dataframe\">\n",
              "  <thead>\n",
              "    <tr style=\"text-align: left;\">\n",
              "      <th>epoch</th>\n",
              "      <th>train_loss</th>\n",
              "      <th>valid_loss</th>\n",
              "      <th>accuracy</th>\n",
              "      <th>perplexity</th>\n",
              "      <th>time</th>\n",
              "    </tr>\n",
              "  </thead>\n",
              "  <tbody>\n",
              "    <tr>\n",
              "      <td>0</td>\n",
              "      <td>3.221978</td>\n",
              "      <td>3.174739</td>\n",
              "      <td>0.194532</td>\n",
              "      <td>23.920578</td>\n",
              "      <td>17:43</td>\n",
              "    </tr>\n",
              "  </tbody>\n",
              "</table>"
            ],
            "text/plain": [
              "<IPython.core.display.HTML object>"
            ]
          },
          "metadata": {}
        }
      ]
    },
    {
      "cell_type": "code",
      "metadata": {
        "id": "gF2KL_ixEdVR",
        "colab": {
          "base_uri": "https://localhost:8080/",
          "height": 363
        },
        "outputId": "a22083b1-17b3-477a-ec3f-b51ef487c678"
      },
      "source": [
        "# unfreeze all the layers and one cycle training\n",
        "learn_lm.unfreeze()\n",
        "learn_lm.fit_one_cycle(10, 1.5e-4)"
      ],
      "execution_count": null,
      "outputs": [
        {
          "output_type": "display_data",
          "data": {
            "text/html": [
              "<table border=\"1\" class=\"dataframe\">\n",
              "  <thead>\n",
              "    <tr style=\"text-align: left;\">\n",
              "      <th>epoch</th>\n",
              "      <th>train_loss</th>\n",
              "      <th>valid_loss</th>\n",
              "      <th>accuracy</th>\n",
              "      <th>perplexity</th>\n",
              "      <th>time</th>\n",
              "    </tr>\n",
              "  </thead>\n",
              "  <tbody>\n",
              "    <tr>\n",
              "      <td>0</td>\n",
              "      <td>3.149780</td>\n",
              "      <td>3.104374</td>\n",
              "      <td>0.205757</td>\n",
              "      <td>22.295252</td>\n",
              "      <td>17:42</td>\n",
              "    </tr>\n",
              "    <tr>\n",
              "      <td>1</td>\n",
              "      <td>2.927134</td>\n",
              "      <td>2.899527</td>\n",
              "      <td>0.234863</td>\n",
              "      <td>18.165548</td>\n",
              "      <td>17:40</td>\n",
              "    </tr>\n",
              "    <tr>\n",
              "      <td>2</td>\n",
              "      <td>2.774136</td>\n",
              "      <td>2.722217</td>\n",
              "      <td>0.268206</td>\n",
              "      <td>15.214008</td>\n",
              "      <td>17:39</td>\n",
              "    </tr>\n",
              "    <tr>\n",
              "      <td>3</td>\n",
              "      <td>2.650188</td>\n",
              "      <td>2.597189</td>\n",
              "      <td>0.298563</td>\n",
              "      <td>13.425941</td>\n",
              "      <td>17:40</td>\n",
              "    </tr>\n",
              "    <tr>\n",
              "      <td>4</td>\n",
              "      <td>2.567760</td>\n",
              "      <td>2.506776</td>\n",
              "      <td>0.322631</td>\n",
              "      <td>12.265324</td>\n",
              "      <td>17:45</td>\n",
              "    </tr>\n",
              "    <tr>\n",
              "      <td>5</td>\n",
              "      <td>2.511358</td>\n",
              "      <td>2.442284</td>\n",
              "      <td>0.339764</td>\n",
              "      <td>11.499276</td>\n",
              "      <td>17:45</td>\n",
              "    </tr>\n",
              "    <tr>\n",
              "      <td>6</td>\n",
              "      <td>2.465531</td>\n",
              "      <td>2.399772</td>\n",
              "      <td>0.350785</td>\n",
              "      <td>11.020668</td>\n",
              "      <td>17:40</td>\n",
              "    </tr>\n",
              "    <tr>\n",
              "      <td>7</td>\n",
              "      <td>2.441681</td>\n",
              "      <td>2.375947</td>\n",
              "      <td>0.357599</td>\n",
              "      <td>10.761194</td>\n",
              "      <td>17:39</td>\n",
              "    </tr>\n",
              "    <tr>\n",
              "      <td>8</td>\n",
              "      <td>2.433211</td>\n",
              "      <td>2.365963</td>\n",
              "      <td>0.360102</td>\n",
              "      <td>10.654294</td>\n",
              "      <td>17:37</td>\n",
              "    </tr>\n",
              "    <tr>\n",
              "      <td>9</td>\n",
              "      <td>2.425033</td>\n",
              "      <td>2.364275</td>\n",
              "      <td>0.360570</td>\n",
              "      <td>10.636327</td>\n",
              "      <td>17:37</td>\n",
              "    </tr>\n",
              "  </tbody>\n",
              "</table>"
            ],
            "text/plain": [
              "<IPython.core.display.HTML object>"
            ]
          },
          "metadata": {}
        }
      ]
    },
    {
      "cell_type": "code",
      "metadata": {
        "id": "QxtKJYw6Ejkm"
      },
      "source": [
        "# save language model\n",
        "learn_lm.save_encoder(Path(model_save_path) /'multiligual_lang_detect')"
      ],
      "execution_count": null,
      "outputs": []
    },
    {
      "cell_type": "markdown",
      "metadata": {
        "id": "7pNKEP10GRvn"
      },
      "source": [
        "### Sentence Classifier"
      ]
    },
    {
      "cell_type": "code",
      "metadata": {
        "id": "AVNfzOIZXWHB",
        "colab": {
          "base_uri": "https://localhost:8080/",
          "height": 201
        },
        "outputId": "dfdb1e90-2cec-478e-b421-31cc6b4a9017"
      },
      "source": [
        "# create data block and data loader for classification model\n",
        "sent_clas = DataBlock(\n",
        "    blocks=(TextBlock.from_df('text',tok=CharTokenizer(),vocab=dls_lm.vocab),\n",
        "            CategoryBlock),\n",
        "    get_x=ColReader('text'),\n",
        "    get_y=ColReader('label'),\n",
        "    splitter=ColSplitter())\n",
        "\n",
        "dls = sent_clas.dataloaders(train_sub_sample, bs=512, suffle = True)\n",
        "# how the data will be presented to the model\n",
        "dls.show_batch(max_n=2)"
      ],
      "execution_count": null,
      "outputs": [
        {
          "output_type": "display_data",
          "data": {
            "text/html": [
              ""
            ],
            "text/plain": [
              "<IPython.core.display.HTML object>"
            ]
          },
          "metadata": {}
        },
        {
          "output_type": "stream",
          "name": "stderr",
          "text": [
            "/usr/local/lib/python3.7/dist-packages/numpy/core/_asarray.py:83: VisibleDeprecationWarning: Creating an ndarray from ragged nested sequences (which is a list-or-tuple of lists-or-tuples-or ndarrays with different lengths or shapes) is deprecated. If you meant to do this, you must specify 'dtype=object' when creating the ndarray\n",
            "  return array(a, dtype, copy=False, order=order)\n"
          ]
        },
        {
          "output_type": "display_data",
          "data": {
            "text/html": [
              "<table border=\"1\" class=\"dataframe\">\n",
              "  <thead>\n",
              "    <tr style=\"text-align: right;\">\n",
              "      <th></th>\n",
              "      <th>text</th>\n",
              "      <th>category</th>\n",
              "    </tr>\n",
              "  </thead>\n",
              "  <tbody>\n",
              "    <tr>\n",
              "      <th>0</th>\n",
              "      <td>xxbos xxmaj p e o p l e a r e s t a r t i n g t o u n d e r s t a n d t h e g r a v i t y , ” s a i d xxmaj a n d r e a xxmaj s t e r p i n o , t h e o w n e r o f t h e b a r a n d r e s t a u r a n t xxmaj s a n xxmaj r o c c o i n t h e xxmaj l a z i o v i l l a g e o f xxmaj c e l l e n o . 8 6 0 6 1 4 1 e n g “ p e o p l e a</td>\n",
              "      <td>eng</td>\n",
              "    </tr>\n",
              "    <tr>\n",
              "      <th>1</th>\n",
              "      <td>xxbos xxmaj l e a n i m i s m o e s l e c r e d e n t i a p r i m i t i v e o p r i m o r d i a l q u e u n s p i r i t o v i v e n t e s e t r o v a i n t o t e l e o b j e c t o s . xxmaj n o r m a l m e n t e , i s t e s p i r i t o s , i n a l i c u n c u l t u r a , r e c i p e u n c u l t o r e l i g i o</td>\n",
              "      <td>ina</td>\n",
              "    </tr>\n",
              "  </tbody>\n",
              "</table>"
            ],
            "text/plain": [
              "<IPython.core.display.HTML object>"
            ]
          },
          "metadata": {}
        }
      ]
    },
    {
      "cell_type": "code",
      "metadata": {
        "id": "cJKw7wkB1Kbw"
      },
      "source": [
        "# macro and weighted f1 scores for each epoch\n",
        "fscore_weighted = F1Score(average='weighted')\n",
        "fscore_macro = F1Score(average='macro')\n",
        "\n",
        "# classifier model\n",
        "learn_cls = text_classifier_learner(dls, AWD_LSTM, drop_mult=0.5, \n",
        "                                pretrained=False, # not using pre-trained weights\n",
        "                                metrics=[accuracy,fscore_weighted,fscore_macro]).to_fp16()"
      ],
      "execution_count": null,
      "outputs": []
    },
    {
      "cell_type": "code",
      "metadata": {
        "id": "jHp_5CmnHY7t"
      },
      "source": [
        "# load trained language model weights\n",
        "learn_cls = learn_cls.load_encoder(Path(model_save_path) /'multiligual_lang_detect')"
      ],
      "execution_count": null,
      "outputs": []
    },
    {
      "cell_type": "code",
      "metadata": {
        "id": "CeyQ1fnMHcV2",
        "colab": {
          "base_uri": "https://localhost:8080/",
          "height": 301
        },
        "outputId": "095deaaf-5108-4ce1-8224-ba7effd97378"
      },
      "source": [
        "# find optimum learning rate for classification\n",
        "learn_cls.lr_find()"
      ],
      "execution_count": null,
      "outputs": [
        {
          "output_type": "display_data",
          "data": {
            "text/html": [
              ""
            ],
            "text/plain": [
              "<IPython.core.display.HTML object>"
            ]
          },
          "metadata": {}
        },
        {
          "output_type": "execute_result",
          "data": {
            "text/plain": [
              "SuggestedLRs(valley=0.0012022644514217973)"
            ]
          },
          "metadata": {},
          "execution_count": 28
        },
        {
          "output_type": "display_data",
          "data": {
            "image/png": "[encoded data removed]",
            "text/plain": [
              "<Figure size 432x288 with 1 Axes>"
            ]
          },
          "metadata": {
            "needs_background": "light"
          }
        }
      ]
    },
    {
      "cell_type": "code",
      "metadata": {
        "id": "BddrAtQBHfCs",
        "colab": {
          "base_uri": "https://localhost:8080/",
          "height": 81
        },
        "outputId": "65f193f2-2244-4ed8-c7b6-cf847d7adc9a"
      },
      "source": [
        "# one cycle training\n",
        "learn_cls.fit_one_cycle(1, 0.001)"
      ],
      "execution_count": null,
      "outputs": [
        {
          "output_type": "display_data",
          "data": {
            "text/html": [
              "<table border=\"1\" class=\"dataframe\">\n",
              "  <thead>\n",
              "    <tr style=\"text-align: left;\">\n",
              "      <th>epoch</th>\n",
              "      <th>train_loss</th>\n",
              "      <th>valid_loss</th>\n",
              "      <th>accuracy</th>\n",
              "      <th>f1_score</th>\n",
              "      <th>f1_score</th>\n",
              "      <th>time</th>\n",
              "    </tr>\n",
              "  </thead>\n",
              "  <tbody>\n",
              "    <tr>\n",
              "      <td>0</td>\n",
              "      <td>0.902898</td>\n",
              "      <td>0.718039</td>\n",
              "      <td>0.761734</td>\n",
              "      <td>0.736229</td>\n",
              "      <td>0.595676</td>\n",
              "      <td>05:40</td>\n",
              "    </tr>\n",
              "  </tbody>\n",
              "</table>"
            ],
            "text/plain": [
              "<IPython.core.display.HTML object>"
            ]
          },
          "metadata": {}
        }
      ]
    },
    {
      "cell_type": "code",
      "metadata": {
        "id": "uhknfDG3Hhdw",
        "colab": {
          "base_uri": "https://localhost:8080/",
          "height": 112
        },
        "outputId": "735b3936-f0aa-40c7-c8f4-e6c207c496c2"
      },
      "source": [
        "# unfreeze last two layers and one cycle training with discriminative learning rate\n",
        "learn_cls.freeze_to(-2)\n",
        "learn_cls.fit_one_cycle(2, slice(1e-2/(2.6**4),1e-2))"
      ],
      "execution_count": null,
      "outputs": [
        {
          "output_type": "display_data",
          "data": {
            "text/html": [
              "<table border=\"1\" class=\"dataframe\">\n",
              "  <thead>\n",
              "    <tr style=\"text-align: left;\">\n",
              "      <th>epoch</th>\n",
              "      <th>train_loss</th>\n",
              "      <th>valid_loss</th>\n",
              "      <th>accuracy</th>\n",
              "      <th>f1_score</th>\n",
              "      <th>f1_score</th>\n",
              "      <th>time</th>\n",
              "    </tr>\n",
              "  </thead>\n",
              "  <tbody>\n",
              "    <tr>\n",
              "      <td>0</td>\n",
              "      <td>0.630277</td>\n",
              "      <td>0.502377</td>\n",
              "      <td>0.831854</td>\n",
              "      <td>0.819859</td>\n",
              "      <td>0.742443</td>\n",
              "      <td>05:48</td>\n",
              "    </tr>\n",
              "    <tr>\n",
              "      <td>1</td>\n",
              "      <td>0.451556</td>\n",
              "      <td>0.367682</td>\n",
              "      <td>0.874552</td>\n",
              "      <td>0.868522</td>\n",
              "      <td>0.804810</td>\n",
              "      <td>05:48</td>\n",
              "    </tr>\n",
              "  </tbody>\n",
              "</table>"
            ],
            "text/plain": [
              "<IPython.core.display.HTML object>"
            ]
          },
          "metadata": {}
        }
      ]
    },
    {
      "cell_type": "code",
      "metadata": {
        "id": "CXFLFnswHjV9",
        "colab": {
          "base_uri": "https://localhost:8080/",
          "height": 112
        },
        "outputId": "6b0c06ee-12ff-4170-eb3d-8864d7fa4a7b"
      },
      "source": [
        "# unfreeze last 3 layers and one cycle training with discriminative learning rate\n",
        "learn_cls.freeze_to(-3)\n",
        "learn_cls.fit_one_cycle(2, slice(5e-3/(2.6**4),5e-3))"
      ],
      "execution_count": null,
      "outputs": [
        {
          "output_type": "display_data",
          "data": {
            "text/html": [
              "<table border=\"1\" class=\"dataframe\">\n",
              "  <thead>\n",
              "    <tr style=\"text-align: left;\">\n",
              "      <th>epoch</th>\n",
              "      <th>train_loss</th>\n",
              "      <th>valid_loss</th>\n",
              "      <th>accuracy</th>\n",
              "      <th>f1_score</th>\n",
              "      <th>f1_score</th>\n",
              "      <th>time</th>\n",
              "    </tr>\n",
              "  </thead>\n",
              "  <tbody>\n",
              "    <tr>\n",
              "      <td>0</td>\n",
              "      <td>0.462810</td>\n",
              "      <td>0.357662</td>\n",
              "      <td>0.880396</td>\n",
              "      <td>0.874122</td>\n",
              "      <td>0.813954</td>\n",
              "      <td>06:11</td>\n",
              "    </tr>\n",
              "    <tr>\n",
              "      <td>1</td>\n",
              "      <td>0.318072</td>\n",
              "      <td>0.284677</td>\n",
              "      <td>0.905286</td>\n",
              "      <td>0.901704</td>\n",
              "      <td>0.853713</td>\n",
              "      <td>06:11</td>\n",
              "    </tr>\n",
              "  </tbody>\n",
              "</table>"
            ],
            "text/plain": [
              "<IPython.core.display.HTML object>"
            ]
          },
          "metadata": {}
        }
      ]
    },
    {
      "cell_type": "code",
      "metadata": {
        "id": "Fl9qrYyVHlBt",
        "colab": {
          "base_uri": "https://localhost:8080/",
          "height": 206
        },
        "outputId": "c4ff5375-1985-4db0-f863-40fa7ab60879"
      },
      "source": [
        "# unfreeze all layers and one cycle training with discriminative learning rate\n",
        "learn_cls.unfreeze()\n",
        "learn_cls.fit_one_cycle(5, slice(1e-3/(2.6**4),1e-3))"
      ],
      "execution_count": null,
      "outputs": [
        {
          "output_type": "display_data",
          "data": {
            "text/html": [
              "<table border=\"1\" class=\"dataframe\">\n",
              "  <thead>\n",
              "    <tr style=\"text-align: left;\">\n",
              "      <th>epoch</th>\n",
              "      <th>train_loss</th>\n",
              "      <th>valid_loss</th>\n",
              "      <th>accuracy</th>\n",
              "      <th>f1_score</th>\n",
              "      <th>f1_score</th>\n",
              "      <th>time</th>\n",
              "    </tr>\n",
              "  </thead>\n",
              "  <tbody>\n",
              "    <tr>\n",
              "      <td>0</td>\n",
              "      <td>0.318053</td>\n",
              "      <td>0.282177</td>\n",
              "      <td>0.906094</td>\n",
              "      <td>0.902406</td>\n",
              "      <td>0.854346</td>\n",
              "      <td>06:31</td>\n",
              "    </tr>\n",
              "    <tr>\n",
              "      <td>1</td>\n",
              "      <td>0.288041</td>\n",
              "      <td>0.263055</td>\n",
              "      <td>0.912138</td>\n",
              "      <td>0.909111</td>\n",
              "      <td>0.864742</td>\n",
              "      <td>06:31</td>\n",
              "    </tr>\n",
              "    <tr>\n",
              "      <td>2</td>\n",
              "      <td>0.254510</td>\n",
              "      <td>0.252474</td>\n",
              "      <td>0.916049</td>\n",
              "      <td>0.913633</td>\n",
              "      <td>0.872022</td>\n",
              "      <td>06:31</td>\n",
              "    </tr>\n",
              "    <tr>\n",
              "      <td>3</td>\n",
              "      <td>0.231451</td>\n",
              "      <td>0.242037</td>\n",
              "      <td>0.919975</td>\n",
              "      <td>0.917812</td>\n",
              "      <td>0.879093</td>\n",
              "      <td>06:33</td>\n",
              "    </tr>\n",
              "    <tr>\n",
              "      <td>4</td>\n",
              "      <td>0.213110</td>\n",
              "      <td>0.243134</td>\n",
              "      <td>0.920035</td>\n",
              "      <td>0.917628</td>\n",
              "      <td>0.879698</td>\n",
              "      <td>06:34</td>\n",
              "    </tr>\n",
              "  </tbody>\n",
              "</table>"
            ],
            "text/plain": [
              "<IPython.core.display.HTML object>"
            ]
          },
          "metadata": {}
        }
      ]
    },
    {
      "cell_type": "markdown",
      "metadata": {
        "id": "1f5MIl6Hl-gP"
      },
      "source": [
        "## Test"
      ]
    },
    {
      "cell_type": "code",
      "metadata": {
        "id": "kfJsUKkCl-GA",
        "colab": {
          "base_uri": "https://localhost:8080/"
        },
        "outputId": "01ff60e6-b33d-4634-acf5-c8f487a1a251"
      },
      "source": [
        "# sub sample test set data with relevant languages\n",
        "trained_labels = learn_cls.dls.vocab[1]\n",
        "# train_sub_sample.label.unique()\n",
        "test_sub_sample = test_df.loc[test_df['label'].isin(trained_labels)]\n",
        "test_sub_sample.shape,test_df.shape"
      ],
      "execution_count": null,
      "outputs": [
        {
          "output_type": "execute_result",
          "data": {
            "text/plain": [
              "((1972648, 3), (1977424, 3))"
            ]
          },
          "metadata": {},
          "execution_count": 34
        }
      ]
    },
    {
      "cell_type": "code",
      "metadata": {
        "id": "RiJVSjM5Szas"
      },
      "source": [
        "# batch prediction form fast ai model\n",
        "def get_predicted_data(learner, test_df, cat_list):\n",
        "    test_dl = learner.dls.test_dl(test_df)\n",
        "    prob_tensor, _, pred_tensor = learner.get_preds(dl = test_dl, with_decoded=True)\n",
        "    # pred_list = [f\"{cat_list[pred_idx]} {prob_idx[pred_idx]}\" \n",
        "    #              for pred_idx, prob_idx in zip(pred_tensor,prob_tensor)]\n",
        "    pred_list = [cat_list[pred_idx] for pred_idx in pred_tensor]\n",
        "    test_df['predicted_label'] = pred_list\n",
        "    return test_df"
      ],
      "execution_count": null,
      "outputs": []
    },
    {
      "cell_type": "code",
      "metadata": {
        "id": "233YlG4loDNT",
        "colab": {
          "base_uri": "https://localhost:8080/",
          "height": 310
        },
        "outputId": "c3d1b2fb-0c78-4898-ea2c-fdb8d983b4f9"
      },
      "source": [
        "# fast ai model prediction\n",
        "pred_df = get_predicted_data(learn_cls, test_sub_sample, trained_labels)\n",
        "pred_df.head()"
      ],
      "execution_count": null,
      "outputs": [
        {
          "output_type": "display_data",
          "data": {
            "text/html": [
              ""
            ],
            "text/plain": [
              "<IPython.core.display.HTML object>"
            ]
          },
          "metadata": {}
        },
        {
          "output_type": "stream",
          "name": "stderr",
          "text": [
            "/usr/local/lib/python3.7/dist-packages/ipykernel_launcher.py:7: SettingWithCopyWarning: \n",
            "A value is trying to be set on a copy of a slice from a DataFrame.\n",
            "Try using .loc[row_indexer,col_indexer] = value instead\n",
            "\n",
            "See the caveats in the documentation: https://pandas.pydata.org/pandas-docs/stable/user_guide/indexing.html#returning-a-view-versus-a-copy\n",
            "  import sys\n"
          ]
        },
        {
          "output_type": "execute_result",
          "data": {
            "text/html": [
              "<div>\n",
              "<style scoped>\n",
              "    .dataframe tbody tr th:only-of-type {\n",
              "        vertical-align: middle;\n",
              "    }\n",
              "\n",
              "    .dataframe tbody tr th {\n",
              "        vertical-align: top;\n",
              "    }\n",
              "\n",
              "    .dataframe thead th {\n",
              "        text-align: right;\n",
              "    }\n",
              "</style>\n",
              "<table border=\"1\" class=\"dataframe\">\n",
              "  <thead>\n",
              "    <tr style=\"text-align: right;\">\n",
              "      <th></th>\n",
              "      <th>id</th>\n",
              "      <th>label</th>\n",
              "      <th>text</th>\n",
              "      <th>predicted_label</th>\n",
              "    </tr>\n",
              "  </thead>\n",
              "  <tbody>\n",
              "    <tr>\n",
              "      <th>0</th>\n",
              "      <td>1</td>\n",
              "      <td>cmn</td>\n",
              "      <td>我們試試看！</td>\n",
              "      <td>cmn</td>\n",
              "    </tr>\n",
              "    <tr>\n",
              "      <th>1</th>\n",
              "      <td>2</td>\n",
              "      <td>cmn</td>\n",
              "      <td>我该去睡觉了。</td>\n",
              "      <td>cmn</td>\n",
              "    </tr>\n",
              "    <tr>\n",
              "      <th>2</th>\n",
              "      <td>3</td>\n",
              "      <td>cmn</td>\n",
              "      <td>你在干什麼啊？</td>\n",
              "      <td>cmn</td>\n",
              "    </tr>\n",
              "    <tr>\n",
              "      <th>3</th>\n",
              "      <td>4</td>\n",
              "      <td>cmn</td>\n",
              "      <td>這是什麼啊？</td>\n",
              "      <td>cmn</td>\n",
              "    </tr>\n",
              "    <tr>\n",
              "      <th>4</th>\n",
              "      <td>5</td>\n",
              "      <td>cmn</td>\n",
              "      <td>今天是６月１８号，也是Muiriel的生日！</td>\n",
              "      <td>cmn</td>\n",
              "    </tr>\n",
              "  </tbody>\n",
              "</table>\n",
              "</div>"
            ],
            "text/plain": [
              "   id label                    text predicted_label\n",
              "0   1   cmn                  我們試試看！             cmn\n",
              "1   2   cmn                 我该去睡觉了。             cmn\n",
              "2   3   cmn                 你在干什麼啊？             cmn\n",
              "3   4   cmn                  這是什麼啊？             cmn\n",
              "4   5   cmn  今天是６月１８号，也是Muiriel的生日！             cmn"
            ]
          },
          "metadata": {},
          "execution_count": 39
        }
      ]
    },
    {
      "cell_type": "markdown",
      "metadata": {
        "id": "VLxMjSVDqEje"
      },
      "source": [
        "### Performance metrics"
      ]
    },
    {
      "cell_type": "code",
      "metadata": {
        "id": "D7Dz7kH4qapQ"
      },
      "source": [
        "from sklearn.metrics import accuracy_score, confusion_matrix, classification_report\n",
        "import seaborn as sns\n",
        "import matplotlib.pyplot as plt"
      ],
      "execution_count": null,
      "outputs": []
    },
    {
      "cell_type": "code",
      "metadata": {
        "id": "fvGpwoFIooMj",
        "colab": {
          "base_uri": "https://localhost:8080/"
        },
        "outputId": "712031c4-cdf9-4a25-8157-8031c53b45fe"
      },
      "source": [
        "# confusion metrics and classification report\n",
        "cm = confusion_matrix(pred_df['label'], pred_df['predicted_label'])\n",
        "print(classification_report(pred_df['label'], pred_df['predicted_label']))"
      ],
      "execution_count": null,
      "outputs": [
        {
          "output_type": "stream",
          "name": "stdout",
          "text": [
            "              precision    recall  f1-score   support\n",
            "\n",
            "         afr       0.37      0.94      0.53       806\n",
            "         ara       0.95      0.97      0.96      7597\n",
            "         arq       0.48      0.39      0.43       462\n",
            "         arz       0.00      0.00      0.00       160\n",
            "         asm       0.96      0.92      0.94       639\n",
            "         avk       0.51      0.92      0.66       820\n",
            "         aze       0.28      0.93      0.43      1081\n",
            "         bel       0.59      0.97      0.73      2528\n",
            "         ben       0.95      0.98      0.96       946\n",
            "         ber       0.59      0.87      0.71    100757\n",
            "         bre       0.50      0.90      0.64      1454\n",
            "         bua       0.83      0.82      0.83       181\n",
            "         bul       0.46      0.91      0.61      4900\n",
            "         cat       0.39      0.90      0.54      1596\n",
            "         cbk       0.35      0.79      0.49       525\n",
            "         ceb       0.38      0.33      0.35       295\n",
            "         ces       0.96      0.92      0.94     11993\n",
            "         chv       0.94      0.98      0.96       325\n",
            "         ckb       0.93      0.91      0.92       755\n",
            "         cmn       0.98      0.94      0.96     13974\n",
            "         cor       0.54      0.89      0.67       785\n",
            "         csb       0.96      0.94      0.95       189\n",
            "         cym       0.44      0.93      0.60       307\n",
            "         dan       0.82      0.84      0.83     10138\n",
            "         deu       1.00      0.98      0.99    113629\n",
            "         dsb       0.68      0.72      0.70       219\n",
            "         dtp       0.61      0.76      0.68       562\n",
            "         ell       1.00      1.00      1.00      6861\n",
            "         eng       1.00      0.96      0.98    305809\n",
            "         epo       1.00      0.96      0.98    133500\n",
            "         est       0.53      0.90      0.67       733\n",
            "         eus       0.62      0.94      0.74      1234\n",
            "         fin       0.98      0.98      0.98     26797\n",
            "         fra       0.99      0.97      0.98     94763\n",
            "         frr       0.70      0.91      0.79       571\n",
            "         gcf       0.65      0.90      0.76       417\n",
            "         gla       0.48      0.92      0.63       207\n",
            "         gle       0.68      0.95      0.79       526\n",
            "         glg       0.15      0.72      0.25       923\n",
            "         gos       0.48      0.84      0.61      1127\n",
            "         grc       0.96      0.96      0.96       232\n",
            "         grn       0.83      0.95      0.89       596\n",
            "         heb       1.00      0.99      1.00     39562\n",
            "         hin       0.98      1.00      0.99      2880\n",
            "         hoc       0.65      0.70      0.67       131\n",
            "         hrv       0.25      0.73      0.37      1045\n",
            "         hrx       0.27      0.57      0.36       172\n",
            "         hsb       0.64      0.77      0.70       302\n",
            "         hun       0.99      0.98      0.99     66264\n",
            "         hye       1.00      1.00      1.00       450\n",
            "         ido       0.29      0.94      0.44      1570\n",
            "         ile       0.34      0.87      0.48      1487\n",
            "         ilo       0.47      0.87      0.61       491\n",
            "         ina       0.49      0.93      0.64      5448\n",
            "         ind       0.69      0.88      0.77      2989\n",
            "         isl       0.93      0.99      0.96      2231\n",
            "         ita       0.99      0.94      0.97    158993\n",
            "         jav       0.86      0.58      0.69       132\n",
            "         jbo       0.99      1.00      0.99      3191\n",
            "         jpn       1.00      1.00      1.00     42663\n",
            "         kab       0.76      0.34      0.47     95837\n",
            "         kat       1.00      1.00      1.00      1164\n",
            "         kaz       0.92      0.94      0.93       767\n",
            "         kha       0.66      0.79      0.72       354\n",
            "         khm       1.00      1.00      1.00       302\n",
            "         kmr       0.84      0.88      0.86      1727\n",
            "         kor       1.00      1.00      1.00      1521\n",
            "         kzj       0.65      0.90      0.75       797\n",
            "         lad       0.18      0.34      0.24       233\n",
            "         lat       0.74      0.95      0.83      8102\n",
            "         lfn       0.49      0.86      0.63      3678\n",
            "         lij       0.32      0.62      0.42       138\n",
            "         lit       0.96      0.98      0.97     13097\n",
            "         ltz       0.54      0.68      0.60       164\n",
            "         lvs       0.81      0.89      0.85       564\n",
            "         lzh       0.60      0.93      0.73       365\n",
            "         mal       1.00      1.00      1.00       165\n",
            "         mar       1.00      1.00      1.00     13077\n",
            "         mhr       0.64      0.96      0.77       860\n",
            "         mkd       0.84      0.90      0.87     15587\n",
            "         mon       0.84      0.94      0.88       556\n",
            "         nds       0.68      0.96      0.79      3595\n",
            "         nld       0.95      0.96      0.96     29487\n",
            "         nno       0.62      0.44      0.51       315\n",
            "         nob       0.53      0.82      0.64      2853\n",
            "         nst       0.95      0.92      0.94       159\n",
            "         nus       0.89      0.92      0.90       196\n",
            "         oci       0.37      0.91      0.52      1139\n",
            "         orv       0.75      0.98      0.85       261\n",
            "         ota       0.30      0.56      0.39       383\n",
            "         pam       0.88      0.82      0.85       296\n",
            "         pcd       0.24      0.44      0.31       269\n",
            "         pes       0.95      0.99      0.97      4847\n",
            "         pms       0.47      0.74      0.58       164\n",
            "         pol       0.99      0.99      0.99     22079\n",
            "         por       0.98      0.92      0.95     77772\n",
            "         prg       0.91      0.92      0.92       200\n",
            "         rom       0.49      0.34      0.41       174\n",
            "         ron       0.87      0.96      0.91      5122\n",
            "         run       0.67      0.97      0.79      1056\n",
            "         rus       0.99      0.93      0.96    175372\n",
            "         sah       0.78      0.91      0.84       190\n",
            "         sdh       0.73      0.72      0.72       185\n",
            "         shi       0.09      0.86      0.17       262\n",
            "         slk       0.70      0.89      0.78      3232\n",
            "         slv       0.34      0.32      0.33       219\n",
            "         spa       0.96      0.93      0.95     71015\n",
            "         sqi       0.80      0.93      0.86       506\n",
            "         srp       0.74      0.71      0.72      9035\n",
            "         swe       0.90      0.95      0.92      8542\n",
            "         swg       0.57      0.60      0.58       388\n",
            "         tat       0.85      0.98      0.91      2735\n",
            "         tgl       0.87      0.97      0.92      3445\n",
            "         tha       1.00      1.00      1.00       800\n",
            "         tlh       0.95      1.00      0.97      4060\n",
            "        toki       1.00      1.00      1.00      9154\n",
            "         tuk       0.76      0.94      0.84      1347\n",
            "         tur       1.00      0.96      0.98    142611\n",
            "         uig       0.99      1.00      0.99      1560\n",
            "         ukr       0.90      0.94      0.92     35122\n",
            "         urd       0.99      0.97      0.98       401\n",
            "         uzb       0.11      0.25      0.15       172\n",
            "         vie       1.00      1.00      1.00      4075\n",
            "         vol       0.68      0.96      0.79       848\n",
            "         war       0.66      0.88      0.76       405\n",
            "         wuu       0.70      0.79      0.74       936\n",
            "         xal       0.81      0.90      0.86       174\n",
            "         yid       0.91      0.94      0.93      1553\n",
            "         yue       0.79      0.97      0.87      1228\n",
            "         zgh       0.86      0.95      0.90       275\n",
            "         zlm       0.47      0.12      0.19       129\n",
            "         zsm       0.47      0.32      0.38       991\n",
            "         zza       0.66      0.76      0.70       339\n",
            "\n",
            "    accuracy                           0.92   1972648\n",
            "   macro avg       0.72      0.85      0.76   1972648\n",
            "weighted avg       0.94      0.92      0.92   1972648\n",
            "\n"
          ]
        }
      ]
    },
    {
      "cell_type": "code",
      "metadata": {
        "id": "IOuFheo0qRLc",
        "colab": {
          "base_uri": "https://localhost:8080/",
          "height": 606
        },
        "outputId": "b43ef1d8-2dab-40c3-f2ee-bdef0339f9df"
      },
      "source": [
        "# heatmap for confusion matrix\n",
        "plt.figure(figsize=(15,10))\n",
        "sns.heatmap(cm, annot = False, xticklabels=trained_labels,yticklabels=trained_labels)\n",
        "plt.show()"
      ],
      "execution_count": null,
      "outputs": [
        {
          "output_type": "display_data",
          "data": {
            "image/png": "[encoded data removed]",
            "text/plain": [
              "<Figure size 1080x720 with 2 Axes>"
            ]
          },
          "metadata": {
            "needs_background": "light"
          }
        }
      ]
    },
    {
      "cell_type": "markdown",
      "metadata": {
        "id": "iY6lmaNPTPsU"
      },
      "source": [
        "### Save the model in drive"
      ]
    },
    {
      "cell_type": "code",
      "metadata": {
        "id": "lnD2tzjW8VJ9",
        "colab": {
          "base_uri": "https://localhost:8080/"
        },
        "outputId": "b4eb8e47-fab5-4b03-c4b5-5845da9e2f35"
      },
      "source": [
        "# save model for google drive\n",
        "model_save_path = Path(model_save_path) / 'fastai_133_langs_v3'\n",
        "model_save_path"
      ],
      "execution_count": null,
      "outputs": [
        {
          "output_type": "execute_result",
          "data": {
            "text/plain": [
              "Path('/content/drive/MyDrive/lang_detection/models/fastai_133_langs_v3')"
            ]
          },
          "metadata": {},
          "execution_count": 37
        }
      ]
    },
    {
      "cell_type": "code",
      "metadata": {
        "id": "umG_bPazTb-9"
      },
      "source": [
        "learn_cls.export(model_save_path)"
      ],
      "execution_count": null,
      "outputs": []
    },
    {
      "cell_type": "code",
      "metadata": {
        "id": "YzBpt_LAJWwl"
      },
      "source": [
        ""
      ],
      "execution_count": null,
      "outputs": []
    }
  ]
}