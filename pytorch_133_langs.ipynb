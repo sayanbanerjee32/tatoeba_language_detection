{
  "nbformat": 4,
  "nbformat_minor": 0,
  "metadata": {
    "colab": {
      "name": "pytorch_133_langs.ipynb",
      "provenance": [],
      "authorship_tag": "ABX9TyObZrygOhba7uN3ICi6tj3O",
      "include_colab_link": true
    },
    "kernelspec": {
      "name": "python3",
      "display_name": "Python 3"
    },
    "language_info": {
      "name": "python"
    },
    "widgets": {
      "application/vnd.jupyter.widget-state+json": {
        "a459eda8dfd645b4a31c51fd9389cae8": {
          "model_module": "@jupyter-widgets/controls",
          "model_name": "HBoxModel",
          "model_module_version": "1.5.0",
          "state": {
            "_view_name": "HBoxView",
            "_dom_classes": [],
            "_model_name": "HBoxModel",
            "_view_module": "@jupyter-widgets/controls",
            "_model_module_version": "1.5.0",
            "_view_count": null,
            "_view_module_version": "1.5.0",
            "box_style": "",
            "layout": "IPY_MODEL_74f62009b8a84f43a1a655edae5a8187",
            "_model_module": "@jupyter-widgets/controls",
            "children": [
              "IPY_MODEL_45b42bfac35f49e88f449cd371d1bddf",
              "IPY_MODEL_ef2bdf3e077948438413d19d3d70938f",
              "IPY_MODEL_7196cb9e99064db0a352fdeacd90ffc8"
            ]
          }
        },
        "74f62009b8a84f43a1a655edae5a8187": {
          "model_module": "@jupyter-widgets/base",
          "model_name": "LayoutModel",
          "model_module_version": "1.2.0",
          "state": {
            "_view_name": "LayoutView",
            "grid_template_rows": null,
            "right": null,
            "justify_content": null,
            "_view_module": "@jupyter-widgets/base",
            "overflow": null,
            "_model_module_version": "1.2.0",
            "_view_count": null,
            "flex_flow": null,
            "width": null,
            "min_width": null,
            "border": null,
            "align_items": null,
            "bottom": null,
            "_model_module": "@jupyter-widgets/base",
            "top": null,
            "grid_column": null,
            "overflow_y": null,
            "overflow_x": null,
            "grid_auto_flow": null,
            "grid_area": null,
            "grid_template_columns": null,
            "flex": null,
            "_model_name": "LayoutModel",
            "justify_items": null,
            "grid_row": null,
            "max_height": null,
            "align_content": null,
            "visibility": null,
            "align_self": null,
            "height": null,
            "min_height": null,
            "padding": null,
            "grid_auto_rows": null,
            "grid_gap": null,
            "max_width": null,
            "order": null,
            "_view_module_version": "1.2.0",
            "grid_template_areas": null,
            "object_position": null,
            "object_fit": null,
            "grid_auto_columns": null,
            "margin": null,
            "display": null,
            "left": null
          }
        },
        "45b42bfac35f49e88f449cd371d1bddf": {
          "model_module": "@jupyter-widgets/controls",
          "model_name": "HTMLModel",
          "model_module_version": "1.5.0",
          "state": {
            "_view_name": "HTMLView",
            "style": "IPY_MODEL_786739f81bbd48c5a685798af1267aae",
            "_dom_classes": [],
            "description": "",
            "_model_name": "HTMLModel",
            "placeholder": "​",
            "_view_module": "@jupyter-widgets/controls",
            "_model_module_version": "1.5.0",
            "value": "100%",
            "_view_count": null,
            "_view_module_version": "1.5.0",
            "description_tooltip": null,
            "_model_module": "@jupyter-widgets/controls",
            "layout": "IPY_MODEL_d82eaa2e468942cca993a8d7fb9ab1b8"
          }
        },
        "ef2bdf3e077948438413d19d3d70938f": {
          "model_module": "@jupyter-widgets/controls",
          "model_name": "FloatProgressModel",
          "model_module_version": "1.5.0",
          "state": {
            "_view_name": "ProgressView",
            "style": "IPY_MODEL_9ff0ef4b64db436ea8b3ee1e1f853e79",
            "_dom_classes": [],
            "description": "",
            "_model_name": "FloatProgressModel",
            "bar_style": "success",
            "max": 540515,
            "_view_module": "@jupyter-widgets/controls",
            "_model_module_version": "1.5.0",
            "value": 540515,
            "_view_count": null,
            "_view_module_version": "1.5.0",
            "orientation": "horizontal",
            "min": 0,
            "description_tooltip": null,
            "_model_module": "@jupyter-widgets/controls",
            "layout": "IPY_MODEL_2a87d48542a64eb18436d4d6654367d1"
          }
        },
        "7196cb9e99064db0a352fdeacd90ffc8": {
          "model_module": "@jupyter-widgets/controls",
          "model_name": "HTMLModel",
          "model_module_version": "1.5.0",
          "state": {
            "_view_name": "HTMLView",
            "style": "IPY_MODEL_c4689aa581834a148f4f434b378e4333",
            "_dom_classes": [],
            "description": "",
            "_model_name": "HTMLModel",
            "placeholder": "​",
            "_view_module": "@jupyter-widgets/controls",
            "_model_module_version": "1.5.0",
            "value": " 540515/540515 [00:43&lt;00:00, 13672.49ex/s]",
            "_view_count": null,
            "_view_module_version": "1.5.0",
            "description_tooltip": null,
            "_model_module": "@jupyter-widgets/controls",
            "layout": "IPY_MODEL_b3c32bc257b946d8adc0c37ef7a73e9e"
          }
        },
        "786739f81bbd48c5a685798af1267aae": {
          "model_module": "@jupyter-widgets/controls",
          "model_name": "DescriptionStyleModel",
          "model_module_version": "1.5.0",
          "state": {
            "_view_name": "StyleView",
            "_model_name": "DescriptionStyleModel",
            "description_width": "",
            "_view_module": "@jupyter-widgets/base",
            "_model_module_version": "1.5.0",
            "_view_count": null,
            "_view_module_version": "1.2.0",
            "_model_module": "@jupyter-widgets/controls"
          }
        },
        "d82eaa2e468942cca993a8d7fb9ab1b8": {
          "model_module": "@jupyter-widgets/base",
          "model_name": "LayoutModel",
          "model_module_version": "1.2.0",
          "state": {
            "_view_name": "LayoutView",
            "grid_template_rows": null,
            "right": null,
            "justify_content": null,
            "_view_module": "@jupyter-widgets/base",
            "overflow": null,
            "_model_module_version": "1.2.0",
            "_view_count": null,
            "flex_flow": null,
            "width": null,
            "min_width": null,
            "border": null,
            "align_items": null,
            "bottom": null,
            "_model_module": "@jupyter-widgets/base",
            "top": null,
            "grid_column": null,
            "overflow_y": null,
            "overflow_x": null,
            "grid_auto_flow": null,
            "grid_area": null,
            "grid_template_columns": null,
            "flex": null,
            "_model_name": "LayoutModel",
            "justify_items": null,
            "grid_row": null,
            "max_height": null,
            "align_content": null,
            "visibility": null,
            "align_self": null,
            "height": null,
            "min_height": null,
            "padding": null,
            "grid_auto_rows": null,
            "grid_gap": null,
            "max_width": null,
            "order": null,
            "_view_module_version": "1.2.0",
            "grid_template_areas": null,
            "object_position": null,
            "object_fit": null,
            "grid_auto_columns": null,
            "margin": null,
            "display": null,
            "left": null
          }
        },
        "9ff0ef4b64db436ea8b3ee1e1f853e79": {
          "model_module": "@jupyter-widgets/controls",
          "model_name": "ProgressStyleModel",
          "model_module_version": "1.5.0",
          "state": {
            "_view_name": "StyleView",
            "_model_name": "ProgressStyleModel",
            "description_width": "",
            "_view_module": "@jupyter-widgets/base",
            "_model_module_version": "1.5.0",
            "_view_count": null,
            "_view_module_version": "1.2.0",
            "bar_color": null,
            "_model_module": "@jupyter-widgets/controls"
          }
        },
        "2a87d48542a64eb18436d4d6654367d1": {
          "model_module": "@jupyter-widgets/base",
          "model_name": "LayoutModel",
          "model_module_version": "1.2.0",
          "state": {
            "_view_name": "LayoutView",
            "grid_template_rows": null,
            "right": null,
            "justify_content": null,
            "_view_module": "@jupyter-widgets/base",
            "overflow": null,
            "_model_module_version": "1.2.0",
            "_view_count": null,
            "flex_flow": null,
            "width": null,
            "min_width": null,
            "border": null,
            "align_items": null,
            "bottom": null,
            "_model_module": "@jupyter-widgets/base",
            "top": null,
            "grid_column": null,
            "overflow_y": null,
            "overflow_x": null,
            "grid_auto_flow": null,
            "grid_area": null,
            "grid_template_columns": null,
            "flex": null,
            "_model_name": "LayoutModel",
            "justify_items": null,
            "grid_row": null,
            "max_height": null,
            "align_content": null,
            "visibility": null,
            "align_self": null,
            "height": null,
            "min_height": null,
            "padding": null,
            "grid_auto_rows": null,
            "grid_gap": null,
            "max_width": null,
            "order": null,
            "_view_module_version": "1.2.0",
            "grid_template_areas": null,
            "object_position": null,
            "object_fit": null,
            "grid_auto_columns": null,
            "margin": null,
            "display": null,
            "left": null
          }
        },
        "c4689aa581834a148f4f434b378e4333": {
          "model_module": "@jupyter-widgets/controls",
          "model_name": "DescriptionStyleModel",
          "model_module_version": "1.5.0",
          "state": {
            "_view_name": "StyleView",
            "_model_name": "DescriptionStyleModel",
            "description_width": "",
            "_view_module": "@jupyter-widgets/base",
            "_model_module_version": "1.5.0",
            "_view_count": null,
            "_view_module_version": "1.2.0",
            "_model_module": "@jupyter-widgets/controls"
          }
        },
        "b3c32bc257b946d8adc0c37ef7a73e9e": {
          "model_module": "@jupyter-widgets/base",
          "model_name": "LayoutModel",
          "model_module_version": "1.2.0",
          "state": {
            "_view_name": "LayoutView",
            "grid_template_rows": null,
            "right": null,
            "justify_content": null,
            "_view_module": "@jupyter-widgets/base",
            "overflow": null,
            "_model_module_version": "1.2.0",
            "_view_count": null,
            "flex_flow": null,
            "width": null,
            "min_width": null,
            "border": null,
            "align_items": null,
            "bottom": null,
            "_model_module": "@jupyter-widgets/base",
            "top": null,
            "grid_column": null,
            "overflow_y": null,
            "overflow_x": null,
            "grid_auto_flow": null,
            "grid_area": null,
            "grid_template_columns": null,
            "flex": null,
            "_model_name": "LayoutModel",
            "justify_items": null,
            "grid_row": null,
            "max_height": null,
            "align_content": null,
            "visibility": null,
            "align_self": null,
            "height": null,
            "min_height": null,
            "padding": null,
            "grid_auto_rows": null,
            "grid_gap": null,
            "max_width": null,
            "order": null,
            "_view_module_version": "1.2.0",
            "grid_template_areas": null,
            "object_position": null,
            "object_fit": null,
            "grid_auto_columns": null,
            "margin": null,
            "display": null,
            "left": null
          }
        },
        "abef9fc06aa241bfbcea428e3bb576a6": {
          "model_module": "@jupyter-widgets/controls",
          "model_name": "HBoxModel",
          "model_module_version": "1.5.0",
          "state": {
            "_view_name": "HBoxView",
            "_dom_classes": [],
            "_model_name": "HBoxModel",
            "_view_module": "@jupyter-widgets/controls",
            "_model_module_version": "1.5.0",
            "_view_count": null,
            "_view_module_version": "1.5.0",
            "box_style": "",
            "layout": "IPY_MODEL_ead0707881514cd8a08564fdcf294865",
            "_model_module": "@jupyter-widgets/controls",
            "children": [
              "IPY_MODEL_8bd0313f4c984ee38e375f32c3335f3c",
              "IPY_MODEL_7f69cfb6cfc144c3a9a9cf22038f6365",
              "IPY_MODEL_47e8d9d0b8bf46b4bcd10ee332a00ca4"
            ]
          }
        },
        "ead0707881514cd8a08564fdcf294865": {
          "model_module": "@jupyter-widgets/base",
          "model_name": "LayoutModel",
          "model_module_version": "1.2.0",
          "state": {
            "_view_name": "LayoutView",
            "grid_template_rows": null,
            "right": null,
            "justify_content": null,
            "_view_module": "@jupyter-widgets/base",
            "overflow": null,
            "_model_module_version": "1.2.0",
            "_view_count": null,
            "flex_flow": null,
            "width": null,
            "min_width": null,
            "border": null,
            "align_items": null,
            "bottom": null,
            "_model_module": "@jupyter-widgets/base",
            "top": null,
            "grid_column": null,
            "overflow_y": null,
            "overflow_x": null,
            "grid_auto_flow": null,
            "grid_area": null,
            "grid_template_columns": null,
            "flex": null,
            "_model_name": "LayoutModel",
            "justify_items": null,
            "grid_row": null,
            "max_height": null,
            "align_content": null,
            "visibility": null,
            "align_self": null,
            "height": null,
            "min_height": null,
            "padding": null,
            "grid_auto_rows": null,
            "grid_gap": null,
            "max_width": null,
            "order": null,
            "_view_module_version": "1.2.0",
            "grid_template_areas": null,
            "object_position": null,
            "object_fit": null,
            "grid_auto_columns": null,
            "margin": null,
            "display": null,
            "left": null
          }
        },
        "8bd0313f4c984ee38e375f32c3335f3c": {
          "model_module": "@jupyter-widgets/controls",
          "model_name": "HTMLModel",
          "model_module_version": "1.5.0",
          "state": {
            "_view_name": "HTMLView",
            "style": "IPY_MODEL_726985e1538f44f88752d7a6ffde9868",
            "_dom_classes": [],
            "description": "",
            "_model_name": "HTMLModel",
            "placeholder": "​",
            "_view_module": "@jupyter-widgets/controls",
            "_model_module_version": "1.5.0",
            "value": "100%",
            "_view_count": null,
            "_view_module_version": "1.5.0",
            "description_tooltip": null,
            "_model_module": "@jupyter-widgets/controls",
            "layout": "IPY_MODEL_50aec60235884d86aa1b0cd8140cb4c1"
          }
        },
        "7f69cfb6cfc144c3a9a9cf22038f6365": {
          "model_module": "@jupyter-widgets/controls",
          "model_name": "FloatProgressModel",
          "model_module_version": "1.5.0",
          "state": {
            "_view_name": "ProgressView",
            "style": "IPY_MODEL_241b1974995c4acea5656d3f423a5912",
            "_dom_classes": [],
            "description": "",
            "_model_name": "FloatProgressModel",
            "bar_style": "success",
            "max": 134996,
            "_view_module": "@jupyter-widgets/controls",
            "_model_module_version": "1.5.0",
            "value": 134996,
            "_view_count": null,
            "_view_module_version": "1.5.0",
            "orientation": "horizontal",
            "min": 0,
            "description_tooltip": null,
            "_model_module": "@jupyter-widgets/controls",
            "layout": "IPY_MODEL_0dbd23c8bf904efda57cc42d8df7939d"
          }
        },
        "47e8d9d0b8bf46b4bcd10ee332a00ca4": {
          "model_module": "@jupyter-widgets/controls",
          "model_name": "HTMLModel",
          "model_module_version": "1.5.0",
          "state": {
            "_view_name": "HTMLView",
            "style": "IPY_MODEL_635112cbd73d4710938fdf1ca2d81e8a",
            "_dom_classes": [],
            "description": "",
            "_model_name": "HTMLModel",
            "placeholder": "​",
            "_view_module": "@jupyter-widgets/controls",
            "_model_module_version": "1.5.0",
            "value": " 134996/134996 [00:11&lt;00:00, 13087.53ex/s]",
            "_view_count": null,
            "_view_module_version": "1.5.0",
            "description_tooltip": null,
            "_model_module": "@jupyter-widgets/controls",
            "layout": "IPY_MODEL_94062d7f34844e5aa65ee1d31194763b"
          }
        },
        "726985e1538f44f88752d7a6ffde9868": {
          "model_module": "@jupyter-widgets/controls",
          "model_name": "DescriptionStyleModel",
          "model_module_version": "1.5.0",
          "state": {
            "_view_name": "StyleView",
            "_model_name": "DescriptionStyleModel",
            "description_width": "",
            "_view_module": "@jupyter-widgets/base",
            "_model_module_version": "1.5.0",
            "_view_count": null,
            "_view_module_version": "1.2.0",
            "_model_module": "@jupyter-widgets/controls"
          }
        },
        "50aec60235884d86aa1b0cd8140cb4c1": {
          "model_module": "@jupyter-widgets/base",
          "model_name": "LayoutModel",
          "model_module_version": "1.2.0",
          "state": {
            "_view_name": "LayoutView",
            "grid_template_rows": null,
            "right": null,
            "justify_content": null,
            "_view_module": "@jupyter-widgets/base",
            "overflow": null,
            "_model_module_version": "1.2.0",
            "_view_count": null,
            "flex_flow": null,
            "width": null,
            "min_width": null,
            "border": null,
            "align_items": null,
            "bottom": null,
            "_model_module": "@jupyter-widgets/base",
            "top": null,
            "grid_column": null,
            "overflow_y": null,
            "overflow_x": null,
            "grid_auto_flow": null,
            "grid_area": null,
            "grid_template_columns": null,
            "flex": null,
            "_model_name": "LayoutModel",
            "justify_items": null,
            "grid_row": null,
            "max_height": null,
            "align_content": null,
            "visibility": null,
            "align_self": null,
            "height": null,
            "min_height": null,
            "padding": null,
            "grid_auto_rows": null,
            "grid_gap": null,
            "max_width": null,
            "order": null,
            "_view_module_version": "1.2.0",
            "grid_template_areas": null,
            "object_position": null,
            "object_fit": null,
            "grid_auto_columns": null,
            "margin": null,
            "display": null,
            "left": null
          }
        },
        "241b1974995c4acea5656d3f423a5912": {
          "model_module": "@jupyter-widgets/controls",
          "model_name": "ProgressStyleModel",
          "model_module_version": "1.5.0",
          "state": {
            "_view_name": "StyleView",
            "_model_name": "ProgressStyleModel",
            "description_width": "",
            "_view_module": "@jupyter-widgets/base",
            "_model_module_version": "1.5.0",
            "_view_count": null,
            "_view_module_version": "1.2.0",
            "bar_color": null,
            "_model_module": "@jupyter-widgets/controls"
          }
        },
        "0dbd23c8bf904efda57cc42d8df7939d": {
          "model_module": "@jupyter-widgets/base",
          "model_name": "LayoutModel",
          "model_module_version": "1.2.0",
          "state": {
            "_view_name": "LayoutView",
            "grid_template_rows": null,
            "right": null,
            "justify_content": null,
            "_view_module": "@jupyter-widgets/base",
            "overflow": null,
            "_model_module_version": "1.2.0",
            "_view_count": null,
            "flex_flow": null,
            "width": null,
            "min_width": null,
            "border": null,
            "align_items": null,
            "bottom": null,
            "_model_module": "@jupyter-widgets/base",
            "top": null,
            "grid_column": null,
            "overflow_y": null,
            "overflow_x": null,
            "grid_auto_flow": null,
            "grid_area": null,
            "grid_template_columns": null,
            "flex": null,
            "_model_name": "LayoutModel",
            "justify_items": null,
            "grid_row": null,
            "max_height": null,
            "align_content": null,
            "visibility": null,
            "align_self": null,
            "height": null,
            "min_height": null,
            "padding": null,
            "grid_auto_rows": null,
            "grid_gap": null,
            "max_width": null,
            "order": null,
            "_view_module_version": "1.2.0",
            "grid_template_areas": null,
            "object_position": null,
            "object_fit": null,
            "grid_auto_columns": null,
            "margin": null,
            "display": null,
            "left": null
          }
        },
        "635112cbd73d4710938fdf1ca2d81e8a": {
          "model_module": "@jupyter-widgets/controls",
          "model_name": "DescriptionStyleModel",
          "model_module_version": "1.5.0",
          "state": {
            "_view_name": "StyleView",
            "_model_name": "DescriptionStyleModel",
            "description_width": "",
            "_view_module": "@jupyter-widgets/base",
            "_model_module_version": "1.5.0",
            "_view_count": null,
            "_view_module_version": "1.2.0",
            "_model_module": "@jupyter-widgets/controls"
          }
        },
        "94062d7f34844e5aa65ee1d31194763b": {
          "model_module": "@jupyter-widgets/base",
          "model_name": "LayoutModel",
          "model_module_version": "1.2.0",
          "state": {
            "_view_name": "LayoutView",
            "grid_template_rows": null,
            "right": null,
            "justify_content": null,
            "_view_module": "@jupyter-widgets/base",
            "overflow": null,
            "_model_module_version": "1.2.0",
            "_view_count": null,
            "flex_flow": null,
            "width": null,
            "min_width": null,
            "border": null,
            "align_items": null,
            "bottom": null,
            "_model_module": "@jupyter-widgets/base",
            "top": null,
            "grid_column": null,
            "overflow_y": null,
            "overflow_x": null,
            "grid_auto_flow": null,
            "grid_area": null,
            "grid_template_columns": null,
            "flex": null,
            "_model_name": "LayoutModel",
            "justify_items": null,
            "grid_row": null,
            "max_height": null,
            "align_content": null,
            "visibility": null,
            "align_self": null,
            "height": null,
            "min_height": null,
            "padding": null,
            "grid_auto_rows": null,
            "grid_gap": null,
            "max_width": null,
            "order": null,
            "_view_module_version": "1.2.0",
            "grid_template_areas": null,
            "object_position": null,
            "object_fit": null,
            "grid_auto_columns": null,
            "margin": null,
            "display": null,
            "left": null
          }
        },
        "b304fc5e12a3497eaed255145ba4ae2b": {
          "model_module": "@jupyter-widgets/controls",
          "model_name": "HBoxModel",
          "model_module_version": "1.5.0",
          "state": {
            "_view_name": "HBoxView",
            "_dom_classes": [],
            "_model_name": "HBoxModel",
            "_view_module": "@jupyter-widgets/controls",
            "_model_module_version": "1.5.0",
            "_view_count": null,
            "_view_module_version": "1.5.0",
            "box_style": "",
            "layout": "IPY_MODEL_50a9677d24244eacbfffbfaabc059dc5",
            "_model_module": "@jupyter-widgets/controls",
            "children": [
              "IPY_MODEL_a4b5f9ef6ec3402eb05273f6f251cf07",
              "IPY_MODEL_60607c7c971941999c07a439da1d9412",
              "IPY_MODEL_7e777ad145bf4409bdab5a40c8c2e0a2"
            ]
          }
        },
        "50a9677d24244eacbfffbfaabc059dc5": {
          "model_module": "@jupyter-widgets/base",
          "model_name": "LayoutModel",
          "model_module_version": "1.2.0",
          "state": {
            "_view_name": "LayoutView",
            "grid_template_rows": null,
            "right": null,
            "justify_content": null,
            "_view_module": "@jupyter-widgets/base",
            "overflow": null,
            "_model_module_version": "1.2.0",
            "_view_count": null,
            "flex_flow": null,
            "width": null,
            "min_width": null,
            "border": null,
            "align_items": null,
            "bottom": null,
            "_model_module": "@jupyter-widgets/base",
            "top": null,
            "grid_column": null,
            "overflow_y": null,
            "overflow_x": null,
            "grid_auto_flow": null,
            "grid_area": null,
            "grid_template_columns": null,
            "flex": null,
            "_model_name": "LayoutModel",
            "justify_items": null,
            "grid_row": null,
            "max_height": null,
            "align_content": null,
            "visibility": null,
            "align_self": null,
            "height": null,
            "min_height": null,
            "padding": null,
            "grid_auto_rows": null,
            "grid_gap": null,
            "max_width": null,
            "order": null,
            "_view_module_version": "1.2.0",
            "grid_template_areas": null,
            "object_position": null,
            "object_fit": null,
            "grid_auto_columns": null,
            "margin": null,
            "display": null,
            "left": null
          }
        },
        "a4b5f9ef6ec3402eb05273f6f251cf07": {
          "model_module": "@jupyter-widgets/controls",
          "model_name": "HTMLModel",
          "model_module_version": "1.5.0",
          "state": {
            "_view_name": "HTMLView",
            "style": "IPY_MODEL_7289e28b6a87413083fc788379fa7ca9",
            "_dom_classes": [],
            "description": "",
            "_model_name": "HTMLModel",
            "placeholder": "​",
            "_view_module": "@jupyter-widgets/controls",
            "_model_module_version": "1.5.0",
            "value": "100%",
            "_view_count": null,
            "_view_module_version": "1.5.0",
            "description_tooltip": null,
            "_model_module": "@jupyter-widgets/controls",
            "layout": "IPY_MODEL_1538d0d9fc9b42f891b4e23f0289ca1d"
          }
        },
        "60607c7c971941999c07a439da1d9412": {
          "model_module": "@jupyter-widgets/controls",
          "model_name": "FloatProgressModel",
          "model_module_version": "1.5.0",
          "state": {
            "_view_name": "ProgressView",
            "style": "IPY_MODEL_1ef348823f7941c0b15e172c5b35c1e8",
            "_dom_classes": [],
            "description": "",
            "_model_name": "FloatProgressModel",
            "bar_style": "success",
            "max": 1972648,
            "_view_module": "@jupyter-widgets/controls",
            "_model_module_version": "1.5.0",
            "value": 1972648,
            "_view_count": null,
            "_view_module_version": "1.5.0",
            "orientation": "horizontal",
            "min": 0,
            "description_tooltip": null,
            "_model_module": "@jupyter-widgets/controls",
            "layout": "IPY_MODEL_60afd5ddde44488fb19c77bf253c075d"
          }
        },
        "7e777ad145bf4409bdab5a40c8c2e0a2": {
          "model_module": "@jupyter-widgets/controls",
          "model_name": "HTMLModel",
          "model_module_version": "1.5.0",
          "state": {
            "_view_name": "HTMLView",
            "style": "IPY_MODEL_85d8f4de6ece4f06a93f6ab888354922",
            "_dom_classes": [],
            "description": "",
            "_model_name": "HTMLModel",
            "placeholder": "​",
            "_view_module": "@jupyter-widgets/controls",
            "_model_module_version": "1.5.0",
            "value": " 1972648/1972648 [02:57&lt;00:00, 6851.53ex/s]",
            "_view_count": null,
            "_view_module_version": "1.5.0",
            "description_tooltip": null,
            "_model_module": "@jupyter-widgets/controls",
            "layout": "IPY_MODEL_af4f371772cc4d87b0a456c637d0433d"
          }
        },
        "7289e28b6a87413083fc788379fa7ca9": {
          "model_module": "@jupyter-widgets/controls",
          "model_name": "DescriptionStyleModel",
          "model_module_version": "1.5.0",
          "state": {
            "_view_name": "StyleView",
            "_model_name": "DescriptionStyleModel",
            "description_width": "",
            "_view_module": "@jupyter-widgets/base",
            "_model_module_version": "1.5.0",
            "_view_count": null,
            "_view_module_version": "1.2.0",
            "_model_module": "@jupyter-widgets/controls"
          }
        },
        "1538d0d9fc9b42f891b4e23f0289ca1d": {
          "model_module": "@jupyter-widgets/base",
          "model_name": "LayoutModel",
          "model_module_version": "1.2.0",
          "state": {
            "_view_name": "LayoutView",
            "grid_template_rows": null,
            "right": null,
            "justify_content": null,
            "_view_module": "@jupyter-widgets/base",
            "overflow": null,
            "_model_module_version": "1.2.0",
            "_view_count": null,
            "flex_flow": null,
            "width": null,
            "min_width": null,
            "border": null,
            "align_items": null,
            "bottom": null,
            "_model_module": "@jupyter-widgets/base",
            "top": null,
            "grid_column": null,
            "overflow_y": null,
            "overflow_x": null,
            "grid_auto_flow": null,
            "grid_area": null,
            "grid_template_columns": null,
            "flex": null,
            "_model_name": "LayoutModel",
            "justify_items": null,
            "grid_row": null,
            "max_height": null,
            "align_content": null,
            "visibility": null,
            "align_self": null,
            "height": null,
            "min_height": null,
            "padding": null,
            "grid_auto_rows": null,
            "grid_gap": null,
            "max_width": null,
            "order": null,
            "_view_module_version": "1.2.0",
            "grid_template_areas": null,
            "object_position": null,
            "object_fit": null,
            "grid_auto_columns": null,
            "margin": null,
            "display": null,
            "left": null
          }
        },
        "1ef348823f7941c0b15e172c5b35c1e8": {
          "model_module": "@jupyter-widgets/controls",
          "model_name": "ProgressStyleModel",
          "model_module_version": "1.5.0",
          "state": {
            "_view_name": "StyleView",
            "_model_name": "ProgressStyleModel",
            "description_width": "",
            "_view_module": "@jupyter-widgets/base",
            "_model_module_version": "1.5.0",
            "_view_count": null,
            "_view_module_version": "1.2.0",
            "bar_color": null,
            "_model_module": "@jupyter-widgets/controls"
          }
        },
        "60afd5ddde44488fb19c77bf253c075d": {
          "model_module": "@jupyter-widgets/base",
          "model_name": "LayoutModel",
          "model_module_version": "1.2.0",
          "state": {
            "_view_name": "LayoutView",
            "grid_template_rows": null,
            "right": null,
            "justify_content": null,
            "_view_module": "@jupyter-widgets/base",
            "overflow": null,
            "_model_module_version": "1.2.0",
            "_view_count": null,
            "flex_flow": null,
            "width": null,
            "min_width": null,
            "border": null,
            "align_items": null,
            "bottom": null,
            "_model_module": "@jupyter-widgets/base",
            "top": null,
            "grid_column": null,
            "overflow_y": null,
            "overflow_x": null,
            "grid_auto_flow": null,
            "grid_area": null,
            "grid_template_columns": null,
            "flex": null,
            "_model_name": "LayoutModel",
            "justify_items": null,
            "grid_row": null,
            "max_height": null,
            "align_content": null,
            "visibility": null,
            "align_self": null,
            "height": null,
            "min_height": null,
            "padding": null,
            "grid_auto_rows": null,
            "grid_gap": null,
            "max_width": null,
            "order": null,
            "_view_module_version": "1.2.0",
            "grid_template_areas": null,
            "object_position": null,
            "object_fit": null,
            "grid_auto_columns": null,
            "margin": null,
            "display": null,
            "left": null
          }
        },
        "85d8f4de6ece4f06a93f6ab888354922": {
          "model_module": "@jupyter-widgets/controls",
          "model_name": "DescriptionStyleModel",
          "model_module_version": "1.5.0",
          "state": {
            "_view_name": "StyleView",
            "_model_name": "DescriptionStyleModel",
            "description_width": "",
            "_view_module": "@jupyter-widgets/base",
            "_model_module_version": "1.5.0",
            "_view_count": null,
            "_view_module_version": "1.2.0",
            "_model_module": "@jupyter-widgets/controls"
          }
        },
        "af4f371772cc4d87b0a456c637d0433d": {
          "model_module": "@jupyter-widgets/base",
          "model_name": "LayoutModel",
          "model_module_version": "1.2.0",
          "state": {
            "_view_name": "LayoutView",
            "grid_template_rows": null,
            "right": null,
            "justify_content": null,
            "_view_module": "@jupyter-widgets/base",
            "overflow": null,
            "_model_module_version": "1.2.0",
            "_view_count": null,
            "flex_flow": null,
            "width": null,
            "min_width": null,
            "border": null,
            "align_items": null,
            "bottom": null,
            "_model_module": "@jupyter-widgets/base",
            "top": null,
            "grid_column": null,
            "overflow_y": null,
            "overflow_x": null,
            "grid_auto_flow": null,
            "grid_area": null,
            "grid_template_columns": null,
            "flex": null,
            "_model_name": "LayoutModel",
            "justify_items": null,
            "grid_row": null,
            "max_height": null,
            "align_content": null,
            "visibility": null,
            "align_self": null,
            "height": null,
            "min_height": null,
            "padding": null,
            "grid_auto_rows": null,
            "grid_gap": null,
            "max_width": null,
            "order": null,
            "_view_module_version": "1.2.0",
            "grid_template_areas": null,
            "object_position": null,
            "object_fit": null,
            "grid_auto_columns": null,
            "margin": null,
            "display": null,
            "left": null
          }
        },
        "8caa113464054c83ac5b6eaa9e277329": {
          "model_module": "@jupyter-widgets/controls",
          "model_name": "HBoxModel",
          "model_module_version": "1.5.0",
          "state": {
            "_view_name": "HBoxView",
            "_dom_classes": [],
            "_model_name": "HBoxModel",
            "_view_module": "@jupyter-widgets/controls",
            "_model_module_version": "1.5.0",
            "_view_count": null,
            "_view_module_version": "1.5.0",
            "box_style": "",
            "layout": "IPY_MODEL_376af07c981d4f609ef2adf267eb3ce5",
            "_model_module": "@jupyter-widgets/controls",
            "children": [
              "IPY_MODEL_3eb8d8de81dd43ccb16f9743e7b02d05",
              "IPY_MODEL_dcfcfdf9ec864ccebebbaf18b19e84b8",
              "IPY_MODEL_c3d07971fe364b4f8c372cd0e05988be"
            ]
          }
        },
        "376af07c981d4f609ef2adf267eb3ce5": {
          "model_module": "@jupyter-widgets/base",
          "model_name": "LayoutModel",
          "model_module_version": "1.2.0",
          "state": {
            "_view_name": "LayoutView",
            "grid_template_rows": null,
            "right": null,
            "justify_content": null,
            "_view_module": "@jupyter-widgets/base",
            "overflow": null,
            "_model_module_version": "1.2.0",
            "_view_count": null,
            "flex_flow": null,
            "width": null,
            "min_width": null,
            "border": null,
            "align_items": null,
            "bottom": null,
            "_model_module": "@jupyter-widgets/base",
            "top": null,
            "grid_column": null,
            "overflow_y": null,
            "overflow_x": null,
            "grid_auto_flow": null,
            "grid_area": null,
            "grid_template_columns": null,
            "flex": null,
            "_model_name": "LayoutModel",
            "justify_items": null,
            "grid_row": null,
            "max_height": null,
            "align_content": null,
            "visibility": null,
            "align_self": null,
            "height": null,
            "min_height": null,
            "padding": null,
            "grid_auto_rows": null,
            "grid_gap": null,
            "max_width": null,
            "order": null,
            "_view_module_version": "1.2.0",
            "grid_template_areas": null,
            "object_position": null,
            "object_fit": null,
            "grid_auto_columns": null,
            "margin": null,
            "display": null,
            "left": null
          }
        },
        "3eb8d8de81dd43ccb16f9743e7b02d05": {
          "model_module": "@jupyter-widgets/controls",
          "model_name": "HTMLModel",
          "model_module_version": "1.5.0",
          "state": {
            "_view_name": "HTMLView",
            "style": "IPY_MODEL_7678aca9fa9a4001af17b7ee5abc1582",
            "_dom_classes": [],
            "description": "",
            "_model_name": "HTMLModel",
            "placeholder": "​",
            "_view_module": "@jupyter-widgets/controls",
            "_model_module_version": "1.5.0",
            "value": "100%",
            "_view_count": null,
            "_view_module_version": "1.5.0",
            "description_tooltip": null,
            "_model_module": "@jupyter-widgets/controls",
            "layout": "IPY_MODEL_6362b7313e4f4afa95fd877df6f4893f"
          }
        },
        "dcfcfdf9ec864ccebebbaf18b19e84b8": {
          "model_module": "@jupyter-widgets/controls",
          "model_name": "FloatProgressModel",
          "model_module_version": "1.5.0",
          "state": {
            "_view_name": "ProgressView",
            "style": "IPY_MODEL_cb9e98c4c4d04562a317b4add138e4c9",
            "_dom_classes": [],
            "description": "",
            "_model_name": "FloatProgressModel",
            "bar_style": "success",
            "max": 540515,
            "_view_module": "@jupyter-widgets/controls",
            "_model_module_version": "1.5.0",
            "value": 540515,
            "_view_count": null,
            "_view_module_version": "1.5.0",
            "orientation": "horizontal",
            "min": 0,
            "description_tooltip": null,
            "_model_module": "@jupyter-widgets/controls",
            "layout": "IPY_MODEL_fddcefc8d793435d9aed61779b04f768"
          }
        },
        "c3d07971fe364b4f8c372cd0e05988be": {
          "model_module": "@jupyter-widgets/controls",
          "model_name": "HTMLModel",
          "model_module_version": "1.5.0",
          "state": {
            "_view_name": "HTMLView",
            "style": "IPY_MODEL_428cbd2e0756497a9b078e05a2bd4bba",
            "_dom_classes": [],
            "description": "",
            "_model_name": "HTMLModel",
            "placeholder": "​",
            "_view_module": "@jupyter-widgets/controls",
            "_model_module_version": "1.5.0",
            "value": " 540515/540515 [01:30&lt;00:00, 6032.94ex/s]",
            "_view_count": null,
            "_view_module_version": "1.5.0",
            "description_tooltip": null,
            "_model_module": "@jupyter-widgets/controls",
            "layout": "IPY_MODEL_c57b578a4010435bbbbcf0fa7431f9b5"
          }
        },
        "7678aca9fa9a4001af17b7ee5abc1582": {
          "model_module": "@jupyter-widgets/controls",
          "model_name": "DescriptionStyleModel",
          "model_module_version": "1.5.0",
          "state": {
            "_view_name": "StyleView",
            "_model_name": "DescriptionStyleModel",
            "description_width": "",
            "_view_module": "@jupyter-widgets/base",
            "_model_module_version": "1.5.0",
            "_view_count": null,
            "_view_module_version": "1.2.0",
            "_model_module": "@jupyter-widgets/controls"
          }
        },
        "6362b7313e4f4afa95fd877df6f4893f": {
          "model_module": "@jupyter-widgets/base",
          "model_name": "LayoutModel",
          "model_module_version": "1.2.0",
          "state": {
            "_view_name": "LayoutView",
            "grid_template_rows": null,
            "right": null,
            "justify_content": null,
            "_view_module": "@jupyter-widgets/base",
            "overflow": null,
            "_model_module_version": "1.2.0",
            "_view_count": null,
            "flex_flow": null,
            "width": null,
            "min_width": null,
            "border": null,
            "align_items": null,
            "bottom": null,
            "_model_module": "@jupyter-widgets/base",
            "top": null,
            "grid_column": null,
            "overflow_y": null,
            "overflow_x": null,
            "grid_auto_flow": null,
            "grid_area": null,
            "grid_template_columns": null,
            "flex": null,
            "_model_name": "LayoutModel",
            "justify_items": null,
            "grid_row": null,
            "max_height": null,
            "align_content": null,
            "visibility": null,
            "align_self": null,
            "height": null,
            "min_height": null,
            "padding": null,
            "grid_auto_rows": null,
            "grid_gap": null,
            "max_width": null,
            "order": null,
            "_view_module_version": "1.2.0",
            "grid_template_areas": null,
            "object_position": null,
            "object_fit": null,
            "grid_auto_columns": null,
            "margin": null,
            "display": null,
            "left": null
          }
        },
        "cb9e98c4c4d04562a317b4add138e4c9": {
          "model_module": "@jupyter-widgets/controls",
          "model_name": "ProgressStyleModel",
          "model_module_version": "1.5.0",
          "state": {
            "_view_name": "StyleView",
            "_model_name": "ProgressStyleModel",
            "description_width": "",
            "_view_module": "@jupyter-widgets/base",
            "_model_module_version": "1.5.0",
            "_view_count": null,
            "_view_module_version": "1.2.0",
            "bar_color": null,
            "_model_module": "@jupyter-widgets/controls"
          }
        },
        "fddcefc8d793435d9aed61779b04f768": {
          "model_module": "@jupyter-widgets/base",
          "model_name": "LayoutModel",
          "model_module_version": "1.2.0",
          "state": {
            "_view_name": "LayoutView",
            "grid_template_rows": null,
            "right": null,
            "justify_content": null,
            "_view_module": "@jupyter-widgets/base",
            "overflow": null,
            "_model_module_version": "1.2.0",
            "_view_count": null,
            "flex_flow": null,
            "width": null,
            "min_width": null,
            "border": null,
            "align_items": null,
            "bottom": null,
            "_model_module": "@jupyter-widgets/base",
            "top": null,
            "grid_column": null,
            "overflow_y": null,
            "overflow_x": null,
            "grid_auto_flow": null,
            "grid_area": null,
            "grid_template_columns": null,
            "flex": null,
            "_model_name": "LayoutModel",
            "justify_items": null,
            "grid_row": null,
            "max_height": null,
            "align_content": null,
            "visibility": null,
            "align_self": null,
            "height": null,
            "min_height": null,
            "padding": null,
            "grid_auto_rows": null,
            "grid_gap": null,
            "max_width": null,
            "order": null,
            "_view_module_version": "1.2.0",
            "grid_template_areas": null,
            "object_position": null,
            "object_fit": null,
            "grid_auto_columns": null,
            "margin": null,
            "display": null,
            "left": null
          }
        },
        "428cbd2e0756497a9b078e05a2bd4bba": {
          "model_module": "@jupyter-widgets/controls",
          "model_name": "DescriptionStyleModel",
          "model_module_version": "1.5.0",
          "state": {
            "_view_name": "StyleView",
            "_model_name": "DescriptionStyleModel",
            "description_width": "",
            "_view_module": "@jupyter-widgets/base",
            "_model_module_version": "1.5.0",
            "_view_count": null,
            "_view_module_version": "1.2.0",
            "_model_module": "@jupyter-widgets/controls"
          }
        },
        "c57b578a4010435bbbbcf0fa7431f9b5": {
          "model_module": "@jupyter-widgets/base",
          "model_name": "LayoutModel",
          "model_module_version": "1.2.0",
          "state": {
            "_view_name": "LayoutView",
            "grid_template_rows": null,
            "right": null,
            "justify_content": null,
            "_view_module": "@jupyter-widgets/base",
            "overflow": null,
            "_model_module_version": "1.2.0",
            "_view_count": null,
            "flex_flow": null,
            "width": null,
            "min_width": null,
            "border": null,
            "align_items": null,
            "bottom": null,
            "_model_module": "@jupyter-widgets/base",
            "top": null,
            "grid_column": null,
            "overflow_y": null,
            "overflow_x": null,
            "grid_auto_flow": null,
            "grid_area": null,
            "grid_template_columns": null,
            "flex": null,
            "_model_name": "LayoutModel",
            "justify_items": null,
            "grid_row": null,
            "max_height": null,
            "align_content": null,
            "visibility": null,
            "align_self": null,
            "height": null,
            "min_height": null,
            "padding": null,
            "grid_auto_rows": null,
            "grid_gap": null,
            "max_width": null,
            "order": null,
            "_view_module_version": "1.2.0",
            "grid_template_areas": null,
            "object_position": null,
            "object_fit": null,
            "grid_auto_columns": null,
            "margin": null,
            "display": null,
            "left": null
          }
        },
        "86f7911f6fc94974ae306d13ab9ae2fb": {
          "model_module": "@jupyter-widgets/controls",
          "model_name": "HBoxModel",
          "model_module_version": "1.5.0",
          "state": {
            "_view_name": "HBoxView",
            "_dom_classes": [],
            "_model_name": "HBoxModel",
            "_view_module": "@jupyter-widgets/controls",
            "_model_module_version": "1.5.0",
            "_view_count": null,
            "_view_module_version": "1.5.0",
            "box_style": "",
            "layout": "IPY_MODEL_25086c277c84419d8a60e46a7d5771cf",
            "_model_module": "@jupyter-widgets/controls",
            "children": [
              "IPY_MODEL_3c94066b12d84edd9bd89547ae11dd27",
              "IPY_MODEL_a29f5f99412446aabfb72ca54da853b3",
              "IPY_MODEL_e9c7de02a7294fb1bd03e4fe1a1d5b30"
            ]
          }
        },
        "25086c277c84419d8a60e46a7d5771cf": {
          "model_module": "@jupyter-widgets/base",
          "model_name": "LayoutModel",
          "model_module_version": "1.2.0",
          "state": {
            "_view_name": "LayoutView",
            "grid_template_rows": null,
            "right": null,
            "justify_content": null,
            "_view_module": "@jupyter-widgets/base",
            "overflow": null,
            "_model_module_version": "1.2.0",
            "_view_count": null,
            "flex_flow": null,
            "width": null,
            "min_width": null,
            "border": null,
            "align_items": null,
            "bottom": null,
            "_model_module": "@jupyter-widgets/base",
            "top": null,
            "grid_column": null,
            "overflow_y": null,
            "overflow_x": null,
            "grid_auto_flow": null,
            "grid_area": null,
            "grid_template_columns": null,
            "flex": null,
            "_model_name": "LayoutModel",
            "justify_items": null,
            "grid_row": null,
            "max_height": null,
            "align_content": null,
            "visibility": null,
            "align_self": null,
            "height": null,
            "min_height": null,
            "padding": null,
            "grid_auto_rows": null,
            "grid_gap": null,
            "max_width": null,
            "order": null,
            "_view_module_version": "1.2.0",
            "grid_template_areas": null,
            "object_position": null,
            "object_fit": null,
            "grid_auto_columns": null,
            "margin": null,
            "display": null,
            "left": null
          }
        },
        "3c94066b12d84edd9bd89547ae11dd27": {
          "model_module": "@jupyter-widgets/controls",
          "model_name": "HTMLModel",
          "model_module_version": "1.5.0",
          "state": {
            "_view_name": "HTMLView",
            "style": "IPY_MODEL_3aa359b6f4614ae586bf98ecd4b989cf",
            "_dom_classes": [],
            "description": "",
            "_model_name": "HTMLModel",
            "placeholder": "​",
            "_view_module": "@jupyter-widgets/controls",
            "_model_module_version": "1.5.0",
            "value": "100%",
            "_view_count": null,
            "_view_module_version": "1.5.0",
            "description_tooltip": null,
            "_model_module": "@jupyter-widgets/controls",
            "layout": "IPY_MODEL_ee9b3641e8924e82bf6d821b13306b48"
          }
        },
        "a29f5f99412446aabfb72ca54da853b3": {
          "model_module": "@jupyter-widgets/controls",
          "model_name": "FloatProgressModel",
          "model_module_version": "1.5.0",
          "state": {
            "_view_name": "ProgressView",
            "style": "IPY_MODEL_c397547901f44ae09e96e3762cf06bef",
            "_dom_classes": [],
            "description": "",
            "_model_name": "FloatProgressModel",
            "bar_style": "success",
            "max": 134996,
            "_view_module": "@jupyter-widgets/controls",
            "_model_module_version": "1.5.0",
            "value": 134996,
            "_view_count": null,
            "_view_module_version": "1.5.0",
            "orientation": "horizontal",
            "min": 0,
            "description_tooltip": null,
            "_model_module": "@jupyter-widgets/controls",
            "layout": "IPY_MODEL_63cc6c38b321489eb4db9a3a145e30ec"
          }
        },
        "e9c7de02a7294fb1bd03e4fe1a1d5b30": {
          "model_module": "@jupyter-widgets/controls",
          "model_name": "HTMLModel",
          "model_module_version": "1.5.0",
          "state": {
            "_view_name": "HTMLView",
            "style": "IPY_MODEL_58f4c79d5cc14b36bb59c9c260db0c28",
            "_dom_classes": [],
            "description": "",
            "_model_name": "HTMLModel",
            "placeholder": "​",
            "_view_module": "@jupyter-widgets/controls",
            "_model_module_version": "1.5.0",
            "value": " 134996/134996 [00:22&lt;00:00, 6228.54ex/s]",
            "_view_count": null,
            "_view_module_version": "1.5.0",
            "description_tooltip": null,
            "_model_module": "@jupyter-widgets/controls",
            "layout": "IPY_MODEL_8a17c1a490134618b1a57a3eb75722f7"
          }
        },
        "3aa359b6f4614ae586bf98ecd4b989cf": {
          "model_module": "@jupyter-widgets/controls",
          "model_name": "DescriptionStyleModel",
          "model_module_version": "1.5.0",
          "state": {
            "_view_name": "StyleView",
            "_model_name": "DescriptionStyleModel",
            "description_width": "",
            "_view_module": "@jupyter-widgets/base",
            "_model_module_version": "1.5.0",
            "_view_count": null,
            "_view_module_version": "1.2.0",
            "_model_module": "@jupyter-widgets/controls"
          }
        },
        "ee9b3641e8924e82bf6d821b13306b48": {
          "model_module": "@jupyter-widgets/base",
          "model_name": "LayoutModel",
          "model_module_version": "1.2.0",
          "state": {
            "_view_name": "LayoutView",
            "grid_template_rows": null,
            "right": null,
            "justify_content": null,
            "_view_module": "@jupyter-widgets/base",
            "overflow": null,
            "_model_module_version": "1.2.0",
            "_view_count": null,
            "flex_flow": null,
            "width": null,
            "min_width": null,
            "border": null,
            "align_items": null,
            "bottom": null,
            "_model_module": "@jupyter-widgets/base",
            "top": null,
            "grid_column": null,
            "overflow_y": null,
            "overflow_x": null,
            "grid_auto_flow": null,
            "grid_area": null,
            "grid_template_columns": null,
            "flex": null,
            "_model_name": "LayoutModel",
            "justify_items": null,
            "grid_row": null,
            "max_height": null,
            "align_content": null,
            "visibility": null,
            "align_self": null,
            "height": null,
            "min_height": null,
            "padding": null,
            "grid_auto_rows": null,
            "grid_gap": null,
            "max_width": null,
            "order": null,
            "_view_module_version": "1.2.0",
            "grid_template_areas": null,
            "object_position": null,
            "object_fit": null,
            "grid_auto_columns": null,
            "margin": null,
            "display": null,
            "left": null
          }
        },
        "c397547901f44ae09e96e3762cf06bef": {
          "model_module": "@jupyter-widgets/controls",
          "model_name": "ProgressStyleModel",
          "model_module_version": "1.5.0",
          "state": {
            "_view_name": "StyleView",
            "_model_name": "ProgressStyleModel",
            "description_width": "",
            "_view_module": "@jupyter-widgets/base",
            "_model_module_version": "1.5.0",
            "_view_count": null,
            "_view_module_version": "1.2.0",
            "bar_color": null,
            "_model_module": "@jupyter-widgets/controls"
          }
        },
        "63cc6c38b321489eb4db9a3a145e30ec": {
          "model_module": "@jupyter-widgets/base",
          "model_name": "LayoutModel",
          "model_module_version": "1.2.0",
          "state": {
            "_view_name": "LayoutView",
            "grid_template_rows": null,
            "right": null,
            "justify_content": null,
            "_view_module": "@jupyter-widgets/base",
            "overflow": null,
            "_model_module_version": "1.2.0",
            "_view_count": null,
            "flex_flow": null,
            "width": null,
            "min_width": null,
            "border": null,
            "align_items": null,
            "bottom": null,
            "_model_module": "@jupyter-widgets/base",
            "top": null,
            "grid_column": null,
            "overflow_y": null,
            "overflow_x": null,
            "grid_auto_flow": null,
            "grid_area": null,
            "grid_template_columns": null,
            "flex": null,
            "_model_name": "LayoutModel",
            "justify_items": null,
            "grid_row": null,
            "max_height": null,
            "align_content": null,
            "visibility": null,
            "align_self": null,
            "height": null,
            "min_height": null,
            "padding": null,
            "grid_auto_rows": null,
            "grid_gap": null,
            "max_width": null,
            "order": null,
            "_view_module_version": "1.2.0",
            "grid_template_areas": null,
            "object_position": null,
            "object_fit": null,
            "grid_auto_columns": null,
            "margin": null,
            "display": null,
            "left": null
          }
        },
        "58f4c79d5cc14b36bb59c9c260db0c28": {
          "model_module": "@jupyter-widgets/controls",
          "model_name": "DescriptionStyleModel",
          "model_module_version": "1.5.0",
          "state": {
            "_view_name": "StyleView",
            "_model_name": "DescriptionStyleModel",
            "description_width": "",
            "_view_module": "@jupyter-widgets/base",
            "_model_module_version": "1.5.0",
            "_view_count": null,
            "_view_module_version": "1.2.0",
            "_model_module": "@jupyter-widgets/controls"
          }
        },
        "8a17c1a490134618b1a57a3eb75722f7": {
          "model_module": "@jupyter-widgets/base",
          "model_name": "LayoutModel",
          "model_module_version": "1.2.0",
          "state": {
            "_view_name": "LayoutView",
            "grid_template_rows": null,
            "right": null,
            "justify_content": null,
            "_view_module": "@jupyter-widgets/base",
            "overflow": null,
            "_model_module_version": "1.2.0",
            "_view_count": null,
            "flex_flow": null,
            "width": null,
            "min_width": null,
            "border": null,
            "align_items": null,
            "bottom": null,
            "_model_module": "@jupyter-widgets/base",
            "top": null,
            "grid_column": null,
            "overflow_y": null,
            "overflow_x": null,
            "grid_auto_flow": null,
            "grid_area": null,
            "grid_template_columns": null,
            "flex": null,
            "_model_name": "LayoutModel",
            "justify_items": null,
            "grid_row": null,
            "max_height": null,
            "align_content": null,
            "visibility": null,
            "align_self": null,
            "height": null,
            "min_height": null,
            "padding": null,
            "grid_auto_rows": null,
            "grid_gap": null,
            "max_width": null,
            "order": null,
            "_view_module_version": "1.2.0",
            "grid_template_areas": null,
            "object_position": null,
            "object_fit": null,
            "grid_auto_columns": null,
            "margin": null,
            "display": null,
            "left": null
          }
        },
        "772e21dc985d42d8bbf1a444dd3c21c6": {
          "model_module": "@jupyter-widgets/controls",
          "model_name": "HBoxModel",
          "model_module_version": "1.5.0",
          "state": {
            "_view_name": "HBoxView",
            "_dom_classes": [],
            "_model_name": "HBoxModel",
            "_view_module": "@jupyter-widgets/controls",
            "_model_module_version": "1.5.0",
            "_view_count": null,
            "_view_module_version": "1.5.0",
            "box_style": "",
            "layout": "IPY_MODEL_8a3ee30f1dcc4b778415dd1c12ee821b",
            "_model_module": "@jupyter-widgets/controls",
            "children": [
              "IPY_MODEL_64386419523e495b9291f5198a309aff",
              "IPY_MODEL_171f8ccf2068444cafa436c1a352ecad",
              "IPY_MODEL_dcd91e9a92474970b7f8376ffbb0be84"
            ]
          }
        },
        "8a3ee30f1dcc4b778415dd1c12ee821b": {
          "model_module": "@jupyter-widgets/base",
          "model_name": "LayoutModel",
          "model_module_version": "1.2.0",
          "state": {
            "_view_name": "LayoutView",
            "grid_template_rows": null,
            "right": null,
            "justify_content": null,
            "_view_module": "@jupyter-widgets/base",
            "overflow": null,
            "_model_module_version": "1.2.0",
            "_view_count": null,
            "flex_flow": null,
            "width": null,
            "min_width": null,
            "border": null,
            "align_items": null,
            "bottom": null,
            "_model_module": "@jupyter-widgets/base",
            "top": null,
            "grid_column": null,
            "overflow_y": null,
            "overflow_x": null,
            "grid_auto_flow": null,
            "grid_area": null,
            "grid_template_columns": null,
            "flex": null,
            "_model_name": "LayoutModel",
            "justify_items": null,
            "grid_row": null,
            "max_height": null,
            "align_content": null,
            "visibility": null,
            "align_self": null,
            "height": null,
            "min_height": null,
            "padding": null,
            "grid_auto_rows": null,
            "grid_gap": null,
            "max_width": null,
            "order": null,
            "_view_module_version": "1.2.0",
            "grid_template_areas": null,
            "object_position": null,
            "object_fit": null,
            "grid_auto_columns": null,
            "margin": null,
            "display": null,
            "left": null
          }
        },
        "64386419523e495b9291f5198a309aff": {
          "model_module": "@jupyter-widgets/controls",
          "model_name": "HTMLModel",
          "model_module_version": "1.5.0",
          "state": {
            "_view_name": "HTMLView",
            "style": "IPY_MODEL_71b79ed4421d4b348fbcfeaa0bca0ca1",
            "_dom_classes": [],
            "description": "",
            "_model_name": "HTMLModel",
            "placeholder": "​",
            "_view_module": "@jupyter-widgets/controls",
            "_model_module_version": "1.5.0",
            "value": "100%",
            "_view_count": null,
            "_view_module_version": "1.5.0",
            "description_tooltip": null,
            "_model_module": "@jupyter-widgets/controls",
            "layout": "IPY_MODEL_c5c22cc2cbdc4055b9c53a0301016f73"
          }
        },
        "171f8ccf2068444cafa436c1a352ecad": {
          "model_module": "@jupyter-widgets/controls",
          "model_name": "FloatProgressModel",
          "model_module_version": "1.5.0",
          "state": {
            "_view_name": "ProgressView",
            "style": "IPY_MODEL_f60b39676eed4faa8dc56058339e9cc5",
            "_dom_classes": [],
            "description": "",
            "_model_name": "FloatProgressModel",
            "bar_style": "success",
            "max": 1972648,
            "_view_module": "@jupyter-widgets/controls",
            "_model_module_version": "1.5.0",
            "value": 1972648,
            "_view_count": null,
            "_view_module_version": "1.5.0",
            "orientation": "horizontal",
            "min": 0,
            "description_tooltip": null,
            "_model_module": "@jupyter-widgets/controls",
            "layout": "IPY_MODEL_f2cf3e2bf6594f2296835b91ceefac80"
          }
        },
        "dcd91e9a92474970b7f8376ffbb0be84": {
          "model_module": "@jupyter-widgets/controls",
          "model_name": "HTMLModel",
          "model_module_version": "1.5.0",
          "state": {
            "_view_name": "HTMLView",
            "style": "IPY_MODEL_266bffc6b203449f8083fa08d729686f",
            "_dom_classes": [],
            "description": "",
            "_model_name": "HTMLModel",
            "placeholder": "​",
            "_view_module": "@jupyter-widgets/controls",
            "_model_module_version": "1.5.0",
            "value": " 1972648/1972648 [05:52&lt;00:00, 5834.73ex/s]",
            "_view_count": null,
            "_view_module_version": "1.5.0",
            "description_tooltip": null,
            "_model_module": "@jupyter-widgets/controls",
            "layout": "IPY_MODEL_8938bd9c00a84c0fa9858cb1dc65cfbf"
          }
        },
        "71b79ed4421d4b348fbcfeaa0bca0ca1": {
          "model_module": "@jupyter-widgets/controls",
          "model_name": "DescriptionStyleModel",
          "model_module_version": "1.5.0",
          "state": {
            "_view_name": "StyleView",
            "_model_name": "DescriptionStyleModel",
            "description_width": "",
            "_view_module": "@jupyter-widgets/base",
            "_model_module_version": "1.5.0",
            "_view_count": null,
            "_view_module_version": "1.2.0",
            "_model_module": "@jupyter-widgets/controls"
          }
        },
        "c5c22cc2cbdc4055b9c53a0301016f73": {
          "model_module": "@jupyter-widgets/base",
          "model_name": "LayoutModel",
          "model_module_version": "1.2.0",
          "state": {
            "_view_name": "LayoutView",
            "grid_template_rows": null,
            "right": null,
            "justify_content": null,
            "_view_module": "@jupyter-widgets/base",
            "overflow": null,
            "_model_module_version": "1.2.0",
            "_view_count": null,
            "flex_flow": null,
            "width": null,
            "min_width": null,
            "border": null,
            "align_items": null,
            "bottom": null,
            "_model_module": "@jupyter-widgets/base",
            "top": null,
            "grid_column": null,
            "overflow_y": null,
            "overflow_x": null,
            "grid_auto_flow": null,
            "grid_area": null,
            "grid_template_columns": null,
            "flex": null,
            "_model_name": "LayoutModel",
            "justify_items": null,
            "grid_row": null,
            "max_height": null,
            "align_content": null,
            "visibility": null,
            "align_self": null,
            "height": null,
            "min_height": null,
            "padding": null,
            "grid_auto_rows": null,
            "grid_gap": null,
            "max_width": null,
            "order": null,
            "_view_module_version": "1.2.0",
            "grid_template_areas": null,
            "object_position": null,
            "object_fit": null,
            "grid_auto_columns": null,
            "margin": null,
            "display": null,
            "left": null
          }
        },
        "f60b39676eed4faa8dc56058339e9cc5": {
          "model_module": "@jupyter-widgets/controls",
          "model_name": "ProgressStyleModel",
          "model_module_version": "1.5.0",
          "state": {
            "_view_name": "StyleView",
            "_model_name": "ProgressStyleModel",
            "description_width": "",
            "_view_module": "@jupyter-widgets/base",
            "_model_module_version": "1.5.0",
            "_view_count": null,
            "_view_module_version": "1.2.0",
            "bar_color": null,
            "_model_module": "@jupyter-widgets/controls"
          }
        },
        "f2cf3e2bf6594f2296835b91ceefac80": {
          "model_module": "@jupyter-widgets/base",
          "model_name": "LayoutModel",
          "model_module_version": "1.2.0",
          "state": {
            "_view_name": "LayoutView",
            "grid_template_rows": null,
            "right": null,
            "justify_content": null,
            "_view_module": "@jupyter-widgets/base",
            "overflow": null,
            "_model_module_version": "1.2.0",
            "_view_count": null,
            "flex_flow": null,
            "width": null,
            "min_width": null,
            "border": null,
            "align_items": null,
            "bottom": null,
            "_model_module": "@jupyter-widgets/base",
            "top": null,
            "grid_column": null,
            "overflow_y": null,
            "overflow_x": null,
            "grid_auto_flow": null,
            "grid_area": null,
            "grid_template_columns": null,
            "flex": null,
            "_model_name": "LayoutModel",
            "justify_items": null,
            "grid_row": null,
            "max_height": null,
            "align_content": null,
            "visibility": null,
            "align_self": null,
            "height": null,
            "min_height": null,
            "padding": null,
            "grid_auto_rows": null,
            "grid_gap": null,
            "max_width": null,
            "order": null,
            "_view_module_version": "1.2.0",
            "grid_template_areas": null,
            "object_position": null,
            "object_fit": null,
            "grid_auto_columns": null,
            "margin": null,
            "display": null,
            "left": null
          }
        },
        "266bffc6b203449f8083fa08d729686f": {
          "model_module": "@jupyter-widgets/controls",
          "model_name": "DescriptionStyleModel",
          "model_module_version": "1.5.0",
          "state": {
            "_view_name": "StyleView",
            "_model_name": "DescriptionStyleModel",
            "description_width": "",
            "_view_module": "@jupyter-widgets/base",
            "_model_module_version": "1.5.0",
            "_view_count": null,
            "_view_module_version": "1.2.0",
            "_model_module": "@jupyter-widgets/controls"
          }
        },
        "8938bd9c00a84c0fa9858cb1dc65cfbf": {
          "model_module": "@jupyter-widgets/base",
          "model_name": "LayoutModel",
          "model_module_version": "1.2.0",
          "state": {
            "_view_name": "LayoutView",
            "grid_template_rows": null,
            "right": null,
            "justify_content": null,
            "_view_module": "@jupyter-widgets/base",
            "overflow": null,
            "_model_module_version": "1.2.0",
            "_view_count": null,
            "flex_flow": null,
            "width": null,
            "min_width": null,
            "border": null,
            "align_items": null,
            "bottom": null,
            "_model_module": "@jupyter-widgets/base",
            "top": null,
            "grid_column": null,
            "overflow_y": null,
            "overflow_x": null,
            "grid_auto_flow": null,
            "grid_area": null,
            "grid_template_columns": null,
            "flex": null,
            "_model_name": "LayoutModel",
            "justify_items": null,
            "grid_row": null,
            "max_height": null,
            "align_content": null,
            "visibility": null,
            "align_self": null,
            "height": null,
            "min_height": null,
            "padding": null,
            "grid_auto_rows": null,
            "grid_gap": null,
            "max_width": null,
            "order": null,
            "_view_module_version": "1.2.0",
            "grid_template_areas": null,
            "object_position": null,
            "object_fit": null,
            "grid_auto_columns": null,
            "margin": null,
            "display": null,
            "left": null
          }
        },
        "55389f182da94a57b7761b306c3e3a4b": {
          "model_module": "@jupyter-widgets/controls",
          "model_name": "HBoxModel",
          "model_module_version": "1.5.0",
          "state": {
            "_view_name": "HBoxView",
            "_dom_classes": [],
            "_model_name": "HBoxModel",
            "_view_module": "@jupyter-widgets/controls",
            "_model_module_version": "1.5.0",
            "_view_count": null,
            "_view_module_version": "1.5.0",
            "box_style": "",
            "layout": "IPY_MODEL_9e589cdb710a40019b88656bf80075a8",
            "_model_module": "@jupyter-widgets/controls",
            "children": [
              "IPY_MODEL_1c4247c1057741a9a39977f9eb1dfd83",
              "IPY_MODEL_68d5d16a7a8d4242af0f31f1caf5404a",
              "IPY_MODEL_91e4599a7e03460facfe74d0272bec5c"
            ]
          }
        },
        "9e589cdb710a40019b88656bf80075a8": {
          "model_module": "@jupyter-widgets/base",
          "model_name": "LayoutModel",
          "model_module_version": "1.2.0",
          "state": {
            "_view_name": "LayoutView",
            "grid_template_rows": null,
            "right": null,
            "justify_content": null,
            "_view_module": "@jupyter-widgets/base",
            "overflow": null,
            "_model_module_version": "1.2.0",
            "_view_count": null,
            "flex_flow": null,
            "width": null,
            "min_width": null,
            "border": null,
            "align_items": null,
            "bottom": null,
            "_model_module": "@jupyter-widgets/base",
            "top": null,
            "grid_column": null,
            "overflow_y": null,
            "overflow_x": null,
            "grid_auto_flow": null,
            "grid_area": null,
            "grid_template_columns": null,
            "flex": null,
            "_model_name": "LayoutModel",
            "justify_items": null,
            "grid_row": null,
            "max_height": null,
            "align_content": null,
            "visibility": null,
            "align_self": null,
            "height": null,
            "min_height": null,
            "padding": null,
            "grid_auto_rows": null,
            "grid_gap": null,
            "max_width": null,
            "order": null,
            "_view_module_version": "1.2.0",
            "grid_template_areas": null,
            "object_position": null,
            "object_fit": null,
            "grid_auto_columns": null,
            "margin": null,
            "display": null,
            "left": null
          }
        },
        "1c4247c1057741a9a39977f9eb1dfd83": {
          "model_module": "@jupyter-widgets/controls",
          "model_name": "HTMLModel",
          "model_module_version": "1.5.0",
          "state": {
            "_view_name": "HTMLView",
            "style": "IPY_MODEL_8eafeb19798b44c0a1692ce32e9286f5",
            "_dom_classes": [],
            "description": "",
            "_model_name": "HTMLModel",
            "placeholder": "​",
            "_view_module": "@jupyter-widgets/controls",
            "_model_module_version": "1.5.0",
            "value": "100%",
            "_view_count": null,
            "_view_module_version": "1.5.0",
            "description_tooltip": null,
            "_model_module": "@jupyter-widgets/controls",
            "layout": "IPY_MODEL_bcf9c63ee66a461aafae1bedc96fe9a9"
          }
        },
        "68d5d16a7a8d4242af0f31f1caf5404a": {
          "model_module": "@jupyter-widgets/controls",
          "model_name": "FloatProgressModel",
          "model_module_version": "1.5.0",
          "state": {
            "_view_name": "ProgressView",
            "style": "IPY_MODEL_ce474d598c3f4d56a62361b6adf5e668",
            "_dom_classes": [],
            "description": "",
            "_model_name": "FloatProgressModel",
            "bar_style": "success",
            "max": 540515,
            "_view_module": "@jupyter-widgets/controls",
            "_model_module_version": "1.5.0",
            "value": 540515,
            "_view_count": null,
            "_view_module_version": "1.5.0",
            "orientation": "horizontal",
            "min": 0,
            "description_tooltip": null,
            "_model_module": "@jupyter-widgets/controls",
            "layout": "IPY_MODEL_4b0a22ea431c46229d34c5907fb58d67"
          }
        },
        "91e4599a7e03460facfe74d0272bec5c": {
          "model_module": "@jupyter-widgets/controls",
          "model_name": "HTMLModel",
          "model_module_version": "1.5.0",
          "state": {
            "_view_name": "HTMLView",
            "style": "IPY_MODEL_4baf615ddaa0428895b769c028340074",
            "_dom_classes": [],
            "description": "",
            "_model_name": "HTMLModel",
            "placeholder": "​",
            "_view_module": "@jupyter-widgets/controls",
            "_model_module_version": "1.5.0",
            "value": " 540515/540515 [01:28&lt;00:00, 5795.95ex/s]",
            "_view_count": null,
            "_view_module_version": "1.5.0",
            "description_tooltip": null,
            "_model_module": "@jupyter-widgets/controls",
            "layout": "IPY_MODEL_61f6c65a4e6248f5bf2d3721f968aedf"
          }
        },
        "8eafeb19798b44c0a1692ce32e9286f5": {
          "model_module": "@jupyter-widgets/controls",
          "model_name": "DescriptionStyleModel",
          "model_module_version": "1.5.0",
          "state": {
            "_view_name": "StyleView",
            "_model_name": "DescriptionStyleModel",
            "description_width": "",
            "_view_module": "@jupyter-widgets/base",
            "_model_module_version": "1.5.0",
            "_view_count": null,
            "_view_module_version": "1.2.0",
            "_model_module": "@jupyter-widgets/controls"
          }
        },
        "bcf9c63ee66a461aafae1bedc96fe9a9": {
          "model_module": "@jupyter-widgets/base",
          "model_name": "LayoutModel",
          "model_module_version": "1.2.0",
          "state": {
            "_view_name": "LayoutView",
            "grid_template_rows": null,
            "right": null,
            "justify_content": null,
            "_view_module": "@jupyter-widgets/base",
            "overflow": null,
            "_model_module_version": "1.2.0",
            "_view_count": null,
            "flex_flow": null,
            "width": null,
            "min_width": null,
            "border": null,
            "align_items": null,
            "bottom": null,
            "_model_module": "@jupyter-widgets/base",
            "top": null,
            "grid_column": null,
            "overflow_y": null,
            "overflow_x": null,
            "grid_auto_flow": null,
            "grid_area": null,
            "grid_template_columns": null,
            "flex": null,
            "_model_name": "LayoutModel",
            "justify_items": null,
            "grid_row": null,
            "max_height": null,
            "align_content": null,
            "visibility": null,
            "align_self": null,
            "height": null,
            "min_height": null,
            "padding": null,
            "grid_auto_rows": null,
            "grid_gap": null,
            "max_width": null,
            "order": null,
            "_view_module_version": "1.2.0",
            "grid_template_areas": null,
            "object_position": null,
            "object_fit": null,
            "grid_auto_columns": null,
            "margin": null,
            "display": null,
            "left": null
          }
        },
        "ce474d598c3f4d56a62361b6adf5e668": {
          "model_module": "@jupyter-widgets/controls",
          "model_name": "ProgressStyleModel",
          "model_module_version": "1.5.0",
          "state": {
            "_view_name": "StyleView",
            "_model_name": "ProgressStyleModel",
            "description_width": "",
            "_view_module": "@jupyter-widgets/base",
            "_model_module_version": "1.5.0",
            "_view_count": null,
            "_view_module_version": "1.2.0",
            "bar_color": null,
            "_model_module": "@jupyter-widgets/controls"
          }
        },
        "4b0a22ea431c46229d34c5907fb58d67": {
          "model_module": "@jupyter-widgets/base",
          "model_name": "LayoutModel",
          "model_module_version": "1.2.0",
          "state": {
            "_view_name": "LayoutView",
            "grid_template_rows": null,
            "right": null,
            "justify_content": null,
            "_view_module": "@jupyter-widgets/base",
            "overflow": null,
            "_model_module_version": "1.2.0",
            "_view_count": null,
            "flex_flow": null,
            "width": null,
            "min_width": null,
            "border": null,
            "align_items": null,
            "bottom": null,
            "_model_module": "@jupyter-widgets/base",
            "top": null,
            "grid_column": null,
            "overflow_y": null,
            "overflow_x": null,
            "grid_auto_flow": null,
            "grid_area": null,
            "grid_template_columns": null,
            "flex": null,
            "_model_name": "LayoutModel",
            "justify_items": null,
            "grid_row": null,
            "max_height": null,
            "align_content": null,
            "visibility": null,
            "align_self": null,
            "height": null,
            "min_height": null,
            "padding": null,
            "grid_auto_rows": null,
            "grid_gap": null,
            "max_width": null,
            "order": null,
            "_view_module_version": "1.2.0",
            "grid_template_areas": null,
            "object_position": null,
            "object_fit": null,
            "grid_auto_columns": null,
            "margin": null,
            "display": null,
            "left": null
          }
        },
        "4baf615ddaa0428895b769c028340074": {
          "model_module": "@jupyter-widgets/controls",
          "model_name": "DescriptionStyleModel",
          "model_module_version": "1.5.0",
          "state": {
            "_view_name": "StyleView",
            "_model_name": "DescriptionStyleModel",
            "description_width": "",
            "_view_module": "@jupyter-widgets/base",
            "_model_module_version": "1.5.0",
            "_view_count": null,
            "_view_module_version": "1.2.0",
            "_model_module": "@jupyter-widgets/controls"
          }
        },
        "61f6c65a4e6248f5bf2d3721f968aedf": {
          "model_module": "@jupyter-widgets/base",
          "model_name": "LayoutModel",
          "model_module_version": "1.2.0",
          "state": {
            "_view_name": "LayoutView",
            "grid_template_rows": null,
            "right": null,
            "justify_content": null,
            "_view_module": "@jupyter-widgets/base",
            "overflow": null,
            "_model_module_version": "1.2.0",
            "_view_count": null,
            "flex_flow": null,
            "width": null,
            "min_width": null,
            "border": null,
            "align_items": null,
            "bottom": null,
            "_model_module": "@jupyter-widgets/base",
            "top": null,
            "grid_column": null,
            "overflow_y": null,
            "overflow_x": null,
            "grid_auto_flow": null,
            "grid_area": null,
            "grid_template_columns": null,
            "flex": null,
            "_model_name": "LayoutModel",
            "justify_items": null,
            "grid_row": null,
            "max_height": null,
            "align_content": null,
            "visibility": null,
            "align_self": null,
            "height": null,
            "min_height": null,
            "padding": null,
            "grid_auto_rows": null,
            "grid_gap": null,
            "max_width": null,
            "order": null,
            "_view_module_version": "1.2.0",
            "grid_template_areas": null,
            "object_position": null,
            "object_fit": null,
            "grid_auto_columns": null,
            "margin": null,
            "display": null,
            "left": null
          }
        },
        "a0252139106c4febaed17e40028e9a4b": {
          "model_module": "@jupyter-widgets/controls",
          "model_name": "HBoxModel",
          "model_module_version": "1.5.0",
          "state": {
            "_view_name": "HBoxView",
            "_dom_classes": [],
            "_model_name": "HBoxModel",
            "_view_module": "@jupyter-widgets/controls",
            "_model_module_version": "1.5.0",
            "_view_count": null,
            "_view_module_version": "1.5.0",
            "box_style": "",
            "layout": "IPY_MODEL_521ef1878b6b4b68a0b22539a416b803",
            "_model_module": "@jupyter-widgets/controls",
            "children": [
              "IPY_MODEL_63abe3c4afb74116bc894c8cf7ea919f",
              "IPY_MODEL_9b52f82bc67844a6b9b11dbcb97096bb",
              "IPY_MODEL_a86000da3b7647bdbc8bc0ca921997e1"
            ]
          }
        },
        "521ef1878b6b4b68a0b22539a416b803": {
          "model_module": "@jupyter-widgets/base",
          "model_name": "LayoutModel",
          "model_module_version": "1.2.0",
          "state": {
            "_view_name": "LayoutView",
            "grid_template_rows": null,
            "right": null,
            "justify_content": null,
            "_view_module": "@jupyter-widgets/base",
            "overflow": null,
            "_model_module_version": "1.2.0",
            "_view_count": null,
            "flex_flow": null,
            "width": null,
            "min_width": null,
            "border": null,
            "align_items": null,
            "bottom": null,
            "_model_module": "@jupyter-widgets/base",
            "top": null,
            "grid_column": null,
            "overflow_y": null,
            "overflow_x": null,
            "grid_auto_flow": null,
            "grid_area": null,
            "grid_template_columns": null,
            "flex": null,
            "_model_name": "LayoutModel",
            "justify_items": null,
            "grid_row": null,
            "max_height": null,
            "align_content": null,
            "visibility": null,
            "align_self": null,
            "height": null,
            "min_height": null,
            "padding": null,
            "grid_auto_rows": null,
            "grid_gap": null,
            "max_width": null,
            "order": null,
            "_view_module_version": "1.2.0",
            "grid_template_areas": null,
            "object_position": null,
            "object_fit": null,
            "grid_auto_columns": null,
            "margin": null,
            "display": null,
            "left": null
          }
        },
        "63abe3c4afb74116bc894c8cf7ea919f": {
          "model_module": "@jupyter-widgets/controls",
          "model_name": "HTMLModel",
          "model_module_version": "1.5.0",
          "state": {
            "_view_name": "HTMLView",
            "style": "IPY_MODEL_d13a6a0ee09945bc8054fc636d971499",
            "_dom_classes": [],
            "description": "",
            "_model_name": "HTMLModel",
            "placeholder": "​",
            "_view_module": "@jupyter-widgets/controls",
            "_model_module_version": "1.5.0",
            "value": "100%",
            "_view_count": null,
            "_view_module_version": "1.5.0",
            "description_tooltip": null,
            "_model_module": "@jupyter-widgets/controls",
            "layout": "IPY_MODEL_7dd48e6ed61e42019f081d82fde90d8d"
          }
        },
        "9b52f82bc67844a6b9b11dbcb97096bb": {
          "model_module": "@jupyter-widgets/controls",
          "model_name": "FloatProgressModel",
          "model_module_version": "1.5.0",
          "state": {
            "_view_name": "ProgressView",
            "style": "IPY_MODEL_2b2137bdd67646519479a2d28ef06ea4",
            "_dom_classes": [],
            "description": "",
            "_model_name": "FloatProgressModel",
            "bar_style": "success",
            "max": 134996,
            "_view_module": "@jupyter-widgets/controls",
            "_model_module_version": "1.5.0",
            "value": 134996,
            "_view_count": null,
            "_view_module_version": "1.5.0",
            "orientation": "horizontal",
            "min": 0,
            "description_tooltip": null,
            "_model_module": "@jupyter-widgets/controls",
            "layout": "IPY_MODEL_59fe4a2c501c4b2fb33eb70cd32acd3e"
          }
        },
        "a86000da3b7647bdbc8bc0ca921997e1": {
          "model_module": "@jupyter-widgets/controls",
          "model_name": "HTMLModel",
          "model_module_version": "1.5.0",
          "state": {
            "_view_name": "HTMLView",
            "style": "IPY_MODEL_08682ab679e84d428ed1f0918e01bc3c",
            "_dom_classes": [],
            "description": "",
            "_model_name": "HTMLModel",
            "placeholder": "​",
            "_view_module": "@jupyter-widgets/controls",
            "_model_module_version": "1.5.0",
            "value": " 134996/134996 [00:22&lt;00:00, 6487.56ex/s]",
            "_view_count": null,
            "_view_module_version": "1.5.0",
            "description_tooltip": null,
            "_model_module": "@jupyter-widgets/controls",
            "layout": "IPY_MODEL_dfc969b117e04934927c425b3b38f01f"
          }
        },
        "d13a6a0ee09945bc8054fc636d971499": {
          "model_module": "@jupyter-widgets/controls",
          "model_name": "DescriptionStyleModel",
          "model_module_version": "1.5.0",
          "state": {
            "_view_name": "StyleView",
            "_model_name": "DescriptionStyleModel",
            "description_width": "",
            "_view_module": "@jupyter-widgets/base",
            "_model_module_version": "1.5.0",
            "_view_count": null,
            "_view_module_version": "1.2.0",
            "_model_module": "@jupyter-widgets/controls"
          }
        },
        "7dd48e6ed61e42019f081d82fde90d8d": {
          "model_module": "@jupyter-widgets/base",
          "model_name": "LayoutModel",
          "model_module_version": "1.2.0",
          "state": {
            "_view_name": "LayoutView",
            "grid_template_rows": null,
            "right": null,
            "justify_content": null,
            "_view_module": "@jupyter-widgets/base",
            "overflow": null,
            "_model_module_version": "1.2.0",
            "_view_count": null,
            "flex_flow": null,
            "width": null,
            "min_width": null,
            "border": null,
            "align_items": null,
            "bottom": null,
            "_model_module": "@jupyter-widgets/base",
            "top": null,
            "grid_column": null,
            "overflow_y": null,
            "overflow_x": null,
            "grid_auto_flow": null,
            "grid_area": null,
            "grid_template_columns": null,
            "flex": null,
            "_model_name": "LayoutModel",
            "justify_items": null,
            "grid_row": null,
            "max_height": null,
            "align_content": null,
            "visibility": null,
            "align_self": null,
            "height": null,
            "min_height": null,
            "padding": null,
            "grid_auto_rows": null,
            "grid_gap": null,
            "max_width": null,
            "order": null,
            "_view_module_version": "1.2.0",
            "grid_template_areas": null,
            "object_position": null,
            "object_fit": null,
            "grid_auto_columns": null,
            "margin": null,
            "display": null,
            "left": null
          }
        },
        "2b2137bdd67646519479a2d28ef06ea4": {
          "model_module": "@jupyter-widgets/controls",
          "model_name": "ProgressStyleModel",
          "model_module_version": "1.5.0",
          "state": {
            "_view_name": "StyleView",
            "_model_name": "ProgressStyleModel",
            "description_width": "",
            "_view_module": "@jupyter-widgets/base",
            "_model_module_version": "1.5.0",
            "_view_count": null,
            "_view_module_version": "1.2.0",
            "bar_color": null,
            "_model_module": "@jupyter-widgets/controls"
          }
        },
        "59fe4a2c501c4b2fb33eb70cd32acd3e": {
          "model_module": "@jupyter-widgets/base",
          "model_name": "LayoutModel",
          "model_module_version": "1.2.0",
          "state": {
            "_view_name": "LayoutView",
            "grid_template_rows": null,
            "right": null,
            "justify_content": null,
            "_view_module": "@jupyter-widgets/base",
            "overflow": null,
            "_model_module_version": "1.2.0",
            "_view_count": null,
            "flex_flow": null,
            "width": null,
            "min_width": null,
            "border": null,
            "align_items": null,
            "bottom": null,
            "_model_module": "@jupyter-widgets/base",
            "top": null,
            "grid_column": null,
            "overflow_y": null,
            "overflow_x": null,
            "grid_auto_flow": null,
            "grid_area": null,
            "grid_template_columns": null,
            "flex": null,
            "_model_name": "LayoutModel",
            "justify_items": null,
            "grid_row": null,
            "max_height": null,
            "align_content": null,
            "visibility": null,
            "align_self": null,
            "height": null,
            "min_height": null,
            "padding": null,
            "grid_auto_rows": null,
            "grid_gap": null,
            "max_width": null,
            "order": null,
            "_view_module_version": "1.2.0",
            "grid_template_areas": null,
            "object_position": null,
            "object_fit": null,
            "grid_auto_columns": null,
            "margin": null,
            "display": null,
            "left": null
          }
        },
        "08682ab679e84d428ed1f0918e01bc3c": {
          "model_module": "@jupyter-widgets/controls",
          "model_name": "DescriptionStyleModel",
          "model_module_version": "1.5.0",
          "state": {
            "_view_name": "StyleView",
            "_model_name": "DescriptionStyleModel",
            "description_width": "",
            "_view_module": "@jupyter-widgets/base",
            "_model_module_version": "1.5.0",
            "_view_count": null,
            "_view_module_version": "1.2.0",
            "_model_module": "@jupyter-widgets/controls"
          }
        },
        "dfc969b117e04934927c425b3b38f01f": {
          "model_module": "@jupyter-widgets/base",
          "model_name": "LayoutModel",
          "model_module_version": "1.2.0",
          "state": {
            "_view_name": "LayoutView",
            "grid_template_rows": null,
            "right": null,
            "justify_content": null,
            "_view_module": "@jupyter-widgets/base",
            "overflow": null,
            "_model_module_version": "1.2.0",
            "_view_count": null,
            "flex_flow": null,
            "width": null,
            "min_width": null,
            "border": null,
            "align_items": null,
            "bottom": null,
            "_model_module": "@jupyter-widgets/base",
            "top": null,
            "grid_column": null,
            "overflow_y": null,
            "overflow_x": null,
            "grid_auto_flow": null,
            "grid_area": null,
            "grid_template_columns": null,
            "flex": null,
            "_model_name": "LayoutModel",
            "justify_items": null,
            "grid_row": null,
            "max_height": null,
            "align_content": null,
            "visibility": null,
            "align_self": null,
            "height": null,
            "min_height": null,
            "padding": null,
            "grid_auto_rows": null,
            "grid_gap": null,
            "max_width": null,
            "order": null,
            "_view_module_version": "1.2.0",
            "grid_template_areas": null,
            "object_position": null,
            "object_fit": null,
            "grid_auto_columns": null,
            "margin": null,
            "display": null,
            "left": null
          }
        },
        "59f83bf6df684973a8a8e4db80556119": {
          "model_module": "@jupyter-widgets/controls",
          "model_name": "HBoxModel",
          "model_module_version": "1.5.0",
          "state": {
            "_view_name": "HBoxView",
            "_dom_classes": [],
            "_model_name": "HBoxModel",
            "_view_module": "@jupyter-widgets/controls",
            "_model_module_version": "1.5.0",
            "_view_count": null,
            "_view_module_version": "1.5.0",
            "box_style": "",
            "layout": "IPY_MODEL_29a8714723bc42879bf0e6ce03cee93b",
            "_model_module": "@jupyter-widgets/controls",
            "children": [
              "IPY_MODEL_bb7a25e3d5504fdbbc5ad413c8279ed5",
              "IPY_MODEL_e872792673b24641b7f2e4cb79a217f0",
              "IPY_MODEL_71f088ac99a244a381da2724caf955a7"
            ]
          }
        },
        "29a8714723bc42879bf0e6ce03cee93b": {
          "model_module": "@jupyter-widgets/base",
          "model_name": "LayoutModel",
          "model_module_version": "1.2.0",
          "state": {
            "_view_name": "LayoutView",
            "grid_template_rows": null,
            "right": null,
            "justify_content": null,
            "_view_module": "@jupyter-widgets/base",
            "overflow": null,
            "_model_module_version": "1.2.0",
            "_view_count": null,
            "flex_flow": null,
            "width": null,
            "min_width": null,
            "border": null,
            "align_items": null,
            "bottom": null,
            "_model_module": "@jupyter-widgets/base",
            "top": null,
            "grid_column": null,
            "overflow_y": null,
            "overflow_x": null,
            "grid_auto_flow": null,
            "grid_area": null,
            "grid_template_columns": null,
            "flex": null,
            "_model_name": "LayoutModel",
            "justify_items": null,
            "grid_row": null,
            "max_height": null,
            "align_content": null,
            "visibility": null,
            "align_self": null,
            "height": null,
            "min_height": null,
            "padding": null,
            "grid_auto_rows": null,
            "grid_gap": null,
            "max_width": null,
            "order": null,
            "_view_module_version": "1.2.0",
            "grid_template_areas": null,
            "object_position": null,
            "object_fit": null,
            "grid_auto_columns": null,
            "margin": null,
            "display": null,
            "left": null
          }
        },
        "bb7a25e3d5504fdbbc5ad413c8279ed5": {
          "model_module": "@jupyter-widgets/controls",
          "model_name": "HTMLModel",
          "model_module_version": "1.5.0",
          "state": {
            "_view_name": "HTMLView",
            "style": "IPY_MODEL_ed6bf42ac74141698130f5fd289d5a45",
            "_dom_classes": [],
            "description": "",
            "_model_name": "HTMLModel",
            "placeholder": "​",
            "_view_module": "@jupyter-widgets/controls",
            "_model_module_version": "1.5.0",
            "value": "100%",
            "_view_count": null,
            "_view_module_version": "1.5.0",
            "description_tooltip": null,
            "_model_module": "@jupyter-widgets/controls",
            "layout": "IPY_MODEL_289ed35aba0d4a3c886e70980dae2d9f"
          }
        },
        "e872792673b24641b7f2e4cb79a217f0": {
          "model_module": "@jupyter-widgets/controls",
          "model_name": "FloatProgressModel",
          "model_module_version": "1.5.0",
          "state": {
            "_view_name": "ProgressView",
            "style": "IPY_MODEL_fee8ff7e363e4f899f7bf27fdf96dcf8",
            "_dom_classes": [],
            "description": "",
            "_model_name": "FloatProgressModel",
            "bar_style": "success",
            "max": 1972648,
            "_view_module": "@jupyter-widgets/controls",
            "_model_module_version": "1.5.0",
            "value": 1972648,
            "_view_count": null,
            "_view_module_version": "1.5.0",
            "orientation": "horizontal",
            "min": 0,
            "description_tooltip": null,
            "_model_module": "@jupyter-widgets/controls",
            "layout": "IPY_MODEL_10a8114c46714edb848bfa78dd9d0448"
          }
        },
        "71f088ac99a244a381da2724caf955a7": {
          "model_module": "@jupyter-widgets/controls",
          "model_name": "HTMLModel",
          "model_module_version": "1.5.0",
          "state": {
            "_view_name": "HTMLView",
            "style": "IPY_MODEL_9c3b2693b99545f7b198d9dd7b849d9f",
            "_dom_classes": [],
            "description": "",
            "_model_name": "HTMLModel",
            "placeholder": "​",
            "_view_module": "@jupyter-widgets/controls",
            "_model_module_version": "1.5.0",
            "value": " 1972648/1972648 [05:45&lt;00:00, 6275.35ex/s]",
            "_view_count": null,
            "_view_module_version": "1.5.0",
            "description_tooltip": null,
            "_model_module": "@jupyter-widgets/controls",
            "layout": "IPY_MODEL_65c616d2271144f8bafed76cd3e45960"
          }
        },
        "ed6bf42ac74141698130f5fd289d5a45": {
          "model_module": "@jupyter-widgets/controls",
          "model_name": "DescriptionStyleModel",
          "model_module_version": "1.5.0",
          "state": {
            "_view_name": "StyleView",
            "_model_name": "DescriptionStyleModel",
            "description_width": "",
            "_view_module": "@jupyter-widgets/base",
            "_model_module_version": "1.5.0",
            "_view_count": null,
            "_view_module_version": "1.2.0",
            "_model_module": "@jupyter-widgets/controls"
          }
        },
        "289ed35aba0d4a3c886e70980dae2d9f": {
          "model_module": "@jupyter-widgets/base",
          "model_name": "LayoutModel",
          "model_module_version": "1.2.0",
          "state": {
            "_view_name": "LayoutView",
            "grid_template_rows": null,
            "right": null,
            "justify_content": null,
            "_view_module": "@jupyter-widgets/base",
            "overflow": null,
            "_model_module_version": "1.2.0",
            "_view_count": null,
            "flex_flow": null,
            "width": null,
            "min_width": null,
            "border": null,
            "align_items": null,
            "bottom": null,
            "_model_module": "@jupyter-widgets/base",
            "top": null,
            "grid_column": null,
            "overflow_y": null,
            "overflow_x": null,
            "grid_auto_flow": null,
            "grid_area": null,
            "grid_template_columns": null,
            "flex": null,
            "_model_name": "LayoutModel",
            "justify_items": null,
            "grid_row": null,
            "max_height": null,
            "align_content": null,
            "visibility": null,
            "align_self": null,
            "height": null,
            "min_height": null,
            "padding": null,
            "grid_auto_rows": null,
            "grid_gap": null,
            "max_width": null,
            "order": null,
            "_view_module_version": "1.2.0",
            "grid_template_areas": null,
            "object_position": null,
            "object_fit": null,
            "grid_auto_columns": null,
            "margin": null,
            "display": null,
            "left": null
          }
        },
        "fee8ff7e363e4f899f7bf27fdf96dcf8": {
          "model_module": "@jupyter-widgets/controls",
          "model_name": "ProgressStyleModel",
          "model_module_version": "1.5.0",
          "state": {
            "_view_name": "StyleView",
            "_model_name": "ProgressStyleModel",
            "description_width": "",
            "_view_module": "@jupyter-widgets/base",
            "_model_module_version": "1.5.0",
            "_view_count": null,
            "_view_module_version": "1.2.0",
            "bar_color": null,
            "_model_module": "@jupyter-widgets/controls"
          }
        },
        "10a8114c46714edb848bfa78dd9d0448": {
          "model_module": "@jupyter-widgets/base",
          "model_name": "LayoutModel",
          "model_module_version": "1.2.0",
          "state": {
            "_view_name": "LayoutView",
            "grid_template_rows": null,
            "right": null,
            "justify_content": null,
            "_view_module": "@jupyter-widgets/base",
            "overflow": null,
            "_model_module_version": "1.2.0",
            "_view_count": null,
            "flex_flow": null,
            "width": null,
            "min_width": null,
            "border": null,
            "align_items": null,
            "bottom": null,
            "_model_module": "@jupyter-widgets/base",
            "top": null,
            "grid_column": null,
            "overflow_y": null,
            "overflow_x": null,
            "grid_auto_flow": null,
            "grid_area": null,
            "grid_template_columns": null,
            "flex": null,
            "_model_name": "LayoutModel",
            "justify_items": null,
            "grid_row": null,
            "max_height": null,
            "align_content": null,
            "visibility": null,
            "align_self": null,
            "height": null,
            "min_height": null,
            "padding": null,
            "grid_auto_rows": null,
            "grid_gap": null,
            "max_width": null,
            "order": null,
            "_view_module_version": "1.2.0",
            "grid_template_areas": null,
            "object_position": null,
            "object_fit": null,
            "grid_auto_columns": null,
            "margin": null,
            "display": null,
            "left": null
          }
        },
        "9c3b2693b99545f7b198d9dd7b849d9f": {
          "model_module": "@jupyter-widgets/controls",
          "model_name": "DescriptionStyleModel",
          "model_module_version": "1.5.0",
          "state": {
            "_view_name": "StyleView",
            "_model_name": "DescriptionStyleModel",
            "description_width": "",
            "_view_module": "@jupyter-widgets/base",
            "_model_module_version": "1.5.0",
            "_view_count": null,
            "_view_module_version": "1.2.0",
            "_model_module": "@jupyter-widgets/controls"
          }
        },
        "65c616d2271144f8bafed76cd3e45960": {
          "model_module": "@jupyter-widgets/base",
          "model_name": "LayoutModel",
          "model_module_version": "1.2.0",
          "state": {
            "_view_name": "LayoutView",
            "grid_template_rows": null,
            "right": null,
            "justify_content": null,
            "_view_module": "@jupyter-widgets/base",
            "overflow": null,
            "_model_module_version": "1.2.0",
            "_view_count": null,
            "flex_flow": null,
            "width": null,
            "min_width": null,
            "border": null,
            "align_items": null,
            "bottom": null,
            "_model_module": "@jupyter-widgets/base",
            "top": null,
            "grid_column": null,
            "overflow_y": null,
            "overflow_x": null,
            "grid_auto_flow": null,
            "grid_area": null,
            "grid_template_columns": null,
            "flex": null,
            "_model_name": "LayoutModel",
            "justify_items": null,
            "grid_row": null,
            "max_height": null,
            "align_content": null,
            "visibility": null,
            "align_self": null,
            "height": null,
            "min_height": null,
            "padding": null,
            "grid_auto_rows": null,
            "grid_gap": null,
            "max_width": null,
            "order": null,
            "_view_module_version": "1.2.0",
            "grid_template_areas": null,
            "object_position": null,
            "object_fit": null,
            "grid_auto_columns": null,
            "margin": null,
            "display": null,
            "left": null
          }
        }
      }
    }
  },
  "cells": [
    {
      "cell_type": "markdown",
      "metadata": {
        "id": "view-in-github",
        "colab_type": "text"
      },
      "source": [
        "<a href=\"https://colab.research.google.com/github/sayanbanerjee32/lang_detect/blob/main/pytorch_133_langs.ipynb\" target=\"_parent\"><img src=\"https://colab.research.google.com/assets/colab-badge.svg\" alt=\"Open In Colab\"/></a>"
      ]
    },
    {
      "cell_type": "code",
      "metadata": {
        "colab": {
          "base_uri": "https://localhost:8080/"
        },
        "id": "STXPZNU_tkPi",
        "outputId": "2ba3609f-fbb3-49a4-c2b7-e3a77becfbb1"
      },
      "source": [
        "# mount gdrive for data\n",
        "from google.colab import drive\n",
        "drive.mount('/content/drive')"
      ],
      "execution_count": null,
      "outputs": [
        {
          "output_type": "stream",
          "name": "stdout",
          "text": [
            "Mounted at /content/drive\n"
          ]
        }
      ]
    },
    {
      "cell_type": "code",
      "metadata": {
        "id": "UP0V7xWIw3K1"
      },
      "source": [
        "# file locations\n",
        "tar_file_loc = '/content/drive/MyDrive/lang_detection/data/sentences.tar.bz2'\n",
        "dest_loc = '/tmp'\n",
        "file_name = 'sentences.csv'\n",
        "num_languages = 133\n",
        "model_save_path = '/content/drive/MyDrive/lang_detection/models/'"
      ],
      "execution_count": null,
      "outputs": []
    },
    {
      "cell_type": "code",
      "metadata": {
        "id": "C87Q1eLF7tJI"
      },
      "source": [
        "import pandas as pd\n",
        "import tarfile\n",
        "import numpy as np\n",
        "from sklearn.model_selection import StratifiedKFold"
      ],
      "execution_count": null,
      "outputs": []
    },
    {
      "cell_type": "code",
      "metadata": {
        "id": "XuIFu8erusqb"
      },
      "source": [
        "# extrtract tar file\n",
        "tar = tarfile.open(tar_file_loc, \"r:bz2\")  \n",
        "tar.extractall(path = dest_loc)\n",
        "tar.close()"
      ],
      "execution_count": null,
      "outputs": []
    },
    {
      "cell_type": "code",
      "metadata": {
        "id": "i_RR2MaKw1aJ"
      },
      "source": [
        "# read lines to understand structure\n",
        "with open(dest_loc +'/' + file_name) as file:\n",
        "    lines = file.readlines()\n",
        "    lines = [line.strip() for line in lines]"
      ],
      "execution_count": null,
      "outputs": []
    },
    {
      "cell_type": "code",
      "metadata": {
        "colab": {
          "base_uri": "https://localhost:8080/"
        },
        "id": "2hA2fiKxxbO6",
        "outputId": "3f98d4ed-5f1d-4111-f21f-6023ddd0af2b"
      },
      "source": [
        "# see few samples\n",
        "lines[0:10]"
      ],
      "execution_count": null,
      "outputs": [
        {
          "output_type": "execute_result",
          "data": {
            "text/plain": [
              "['1\\tcmn\\t我們試試看！',\n",
              " '2\\tcmn\\t我该去睡觉了。',\n",
              " '3\\tcmn\\t你在干什麼啊？',\n",
              " '4\\tcmn\\t這是什麼啊？',\n",
              " '5\\tcmn\\t今天是６月１８号，也是Muiriel的生日！',\n",
              " '6\\tcmn\\t生日快乐，Muiriel！',\n",
              " '7\\tcmn\\tMuiriel现在20岁了。',\n",
              " '8\\tcmn\\t密码是\"Muiriel\"。',\n",
              " '9\\tcmn\\t我很快就會回來。',\n",
              " '10\\tcmn\\t我不知道。']"
            ]
          },
          "metadata": {},
          "execution_count": 6
        }
      ]
    },
    {
      "cell_type": "code",
      "metadata": {
        "colab": {
          "base_uri": "https://localhost:8080/",
          "height": 206
        },
        "id": "4k5hqpW_zPew",
        "outputId": "55834c88-53bf-4ef2-d9db-5c6cc5d772eb"
      },
      "source": [
        "# read data in pandas\n",
        "sent_df = pd.read_csv(dest_loc +'/' + file_name, sep = '\\t', names = ['id','label','text'])\n",
        "sent_df.head()"
      ],
      "execution_count": null,
      "outputs": [
        {
          "output_type": "execute_result",
          "data": {
            "text/html": [
              "<div>\n",
              "<style scoped>\n",
              "    .dataframe tbody tr th:only-of-type {\n",
              "        vertical-align: middle;\n",
              "    }\n",
              "\n",
              "    .dataframe tbody tr th {\n",
              "        vertical-align: top;\n",
              "    }\n",
              "\n",
              "    .dataframe thead th {\n",
              "        text-align: right;\n",
              "    }\n",
              "</style>\n",
              "<table border=\"1\" class=\"dataframe\">\n",
              "  <thead>\n",
              "    <tr style=\"text-align: right;\">\n",
              "      <th></th>\n",
              "      <th>id</th>\n",
              "      <th>label</th>\n",
              "      <th>text</th>\n",
              "    </tr>\n",
              "  </thead>\n",
              "  <tbody>\n",
              "    <tr>\n",
              "      <th>0</th>\n",
              "      <td>1</td>\n",
              "      <td>cmn</td>\n",
              "      <td>我們試試看！</td>\n",
              "    </tr>\n",
              "    <tr>\n",
              "      <th>1</th>\n",
              "      <td>2</td>\n",
              "      <td>cmn</td>\n",
              "      <td>我该去睡觉了。</td>\n",
              "    </tr>\n",
              "    <tr>\n",
              "      <th>2</th>\n",
              "      <td>3</td>\n",
              "      <td>cmn</td>\n",
              "      <td>你在干什麼啊？</td>\n",
              "    </tr>\n",
              "    <tr>\n",
              "      <th>3</th>\n",
              "      <td>4</td>\n",
              "      <td>cmn</td>\n",
              "      <td>這是什麼啊？</td>\n",
              "    </tr>\n",
              "    <tr>\n",
              "      <th>4</th>\n",
              "      <td>5</td>\n",
              "      <td>cmn</td>\n",
              "      <td>今天是６月１８号，也是Muiriel的生日！</td>\n",
              "    </tr>\n",
              "  </tbody>\n",
              "</table>\n",
              "</div>"
            ],
            "text/plain": [
              "   id label                    text\n",
              "0   1   cmn                  我們試試看！\n",
              "1   2   cmn                 我该去睡觉了。\n",
              "2   3   cmn                 你在干什麼啊？\n",
              "3   4   cmn                  這是什麼啊？\n",
              "4   5   cmn  今天是６月１８号，也是Muiriel的生日！"
            ]
          },
          "metadata": {},
          "execution_count": 7
        }
      ]
    },
    {
      "cell_type": "code",
      "metadata": {
        "colab": {
          "base_uri": "https://localhost:8080/",
          "height": 519
        },
        "id": "3wQOsH8YuDkW",
        "outputId": "b5884ecc-ca60-4473-e34a-d501ec5033b6"
      },
      "source": [
        "# is there blank label\n",
        "sent_df['label'].fillna('unk',inplace  = True)\n",
        "sent_df.loc[sent_df['label'] == 'unk',:]"
      ],
      "execution_count": null,
      "outputs": [
        {
          "output_type": "execute_result",
          "data": {
            "text/html": [
              "<div>\n",
              "<style scoped>\n",
              "    .dataframe tbody tr th:only-of-type {\n",
              "        vertical-align: middle;\n",
              "    }\n",
              "\n",
              "    .dataframe tbody tr th {\n",
              "        vertical-align: top;\n",
              "    }\n",
              "\n",
              "    .dataframe thead th {\n",
              "        text-align: right;\n",
              "    }\n",
              "</style>\n",
              "<table border=\"1\" class=\"dataframe\">\n",
              "  <thead>\n",
              "    <tr style=\"text-align: right;\">\n",
              "      <th></th>\n",
              "      <th>id</th>\n",
              "      <th>label</th>\n",
              "      <th>text</th>\n",
              "    </tr>\n",
              "  </thead>\n",
              "  <tbody>\n",
              "    <tr>\n",
              "      <th>387366</th>\n",
              "      <td>404564</td>\n",
              "      <td>unk</td>\n",
              "      <td>Lèu gāi dịdiang?</td>\n",
              "    </tr>\n",
              "    <tr>\n",
              "      <th>387368</th>\n",
              "      <td>404566</td>\n",
              "      <td>unk</td>\n",
              "      <td>Kuăilāk sí mitgāi?</td>\n",
              "    </tr>\n",
              "    <tr>\n",
              "      <th>387372</th>\n",
              "      <td>404570</td>\n",
              "      <td>unk</td>\n",
              "      <td>Dó Hānggok nạng dăn mitgāi uẹ?</td>\n",
              "    </tr>\n",
              "    <tr>\n",
              "      <th>388306</th>\n",
              "      <td>405522</td>\n",
              "      <td>unk</td>\n",
              "      <td>Lèu kiá dịgŏ?</td>\n",
              "    </tr>\n",
              "    <tr>\n",
              "      <th>388307</th>\n",
              "      <td>405523</td>\n",
              "      <td>unk</td>\n",
              "      <td>Lèu miān mitgāi?</td>\n",
              "    </tr>\n",
              "    <tr>\n",
              "      <th>388308</th>\n",
              "      <td>405524</td>\n",
              "      <td>unk</td>\n",
              "      <td>Uà sí Diōjiunāng.</td>\n",
              "    </tr>\n",
              "    <tr>\n",
              "      <th>4655179</th>\n",
              "      <td>4962310</td>\n",
              "      <td>unk</td>\n",
              "      <td>厝漏閣抵著透暝雨。</td>\n",
              "    </tr>\n",
              "    <tr>\n",
              "      <th>5786464</th>\n",
              "      <td>6142175</td>\n",
              "      <td>unk</td>\n",
              "      <td>我昨暗睏十一點鐘久。</td>\n",
              "    </tr>\n",
              "    <tr>\n",
              "      <th>5786465</th>\n",
              "      <td>6142176</td>\n",
              "      <td>unk</td>\n",
              "      <td>阮阿叔有去過芬蘭。</td>\n",
              "    </tr>\n",
              "    <tr>\n",
              "      <th>5786466</th>\n",
              "      <td>6142177</td>\n",
              "      <td>unk</td>\n",
              "      <td>阮佇厝裡攏講台語。</td>\n",
              "    </tr>\n",
              "    <tr>\n",
              "      <th>5786467</th>\n",
              "      <td>6142178</td>\n",
              "      <td>unk</td>\n",
              "      <td>歇熱時，我拍算⼀⾯上課⼀⾯⾷頭路。</td>\n",
              "    </tr>\n",
              "    <tr>\n",
              "      <th>5786469</th>\n",
              "      <td>6142180</td>\n",
              "      <td>unk</td>\n",
              "      <td>恁阿媽佮阿⺟做好遐爾濟菜。</td>\n",
              "    </tr>\n",
              "    <tr>\n",
              "      <th>6023168</th>\n",
              "      <td>6401580</td>\n",
              "      <td>unk</td>\n",
              "      <td>阮昨昏共文章寫完。</td>\n",
              "    </tr>\n",
              "    <tr>\n",
              "      <th>6023171</th>\n",
              "      <td>6401584</td>\n",
              "      <td>unk</td>\n",
              "      <td>你有食飯無？</td>\n",
              "    </tr>\n",
              "    <tr>\n",
              "      <th>6023173</th>\n",
              "      <td>6401586</td>\n",
              "      <td>unk</td>\n",
              "      <td>伊有來。</td>\n",
              "    </tr>\n",
              "  </tbody>\n",
              "</table>\n",
              "</div>"
            ],
            "text/plain": [
              "              id label                            text\n",
              "387366    404564   unk                Lèu gāi dịdiang?\n",
              "387368    404566   unk              Kuăilāk sí mitgāi?\n",
              "387372    404570   unk  Dó Hānggok nạng dăn mitgāi uẹ?\n",
              "388306    405522   unk                   Lèu kiá dịgŏ?\n",
              "388307    405523   unk                Lèu miān mitgāi?\n",
              "388308    405524   unk               Uà sí Diōjiunāng.\n",
              "4655179  4962310   unk                       厝漏閣抵著透暝雨。\n",
              "5786464  6142175   unk                      我昨暗睏十一點鐘久。\n",
              "5786465  6142176   unk                       阮阿叔有去過芬蘭。\n",
              "5786466  6142177   unk                       阮佇厝裡攏講台語。\n",
              "5786467  6142178   unk               歇熱時，我拍算⼀⾯上課⼀⾯⾷頭路。\n",
              "5786469  6142180   unk                   恁阿媽佮阿⺟做好遐爾濟菜。\n",
              "6023168  6401580   unk                       阮昨昏共文章寫完。\n",
              "6023171  6401584   unk                          你有食飯無？\n",
              "6023173  6401586   unk                            伊有來。"
            ]
          },
          "metadata": {},
          "execution_count": 8
        }
      ]
    },
    {
      "cell_type": "code",
      "metadata": {
        "colab": {
          "base_uri": "https://localhost:8080/"
        },
        "id": "yGIAp5nKuhnV",
        "outputId": "f0f7294e-56d1-4b7b-bedb-1656c9f0dabd"
      },
      "source": [
        "# is there blank texts\n",
        "sent_df.loc[sent_df['text'].isnull(),:].shape, sent_df.loc[sent_df['text'] == '',:].shape"
      ],
      "execution_count": null,
      "outputs": [
        {
          "output_type": "execute_result",
          "data": {
            "text/plain": [
              "((0, 3), (0, 3))"
            ]
          },
          "metadata": {},
          "execution_count": 9
        }
      ]
    },
    {
      "cell_type": "code",
      "metadata": {
        "colab": {
          "base_uri": "https://localhost:8080/"
        },
        "id": "8Qc85kcAu4yd",
        "outputId": "e2829f0f-808f-4d59-baab-e7634b396193"
      },
      "source": [
        "# remove records where label not known\n",
        "sent_df = sent_df.loc[sent_df['label'] != 'unk',:]\n",
        "len(sent_df['label'].unique())"
      ],
      "execution_count": null,
      "outputs": [
        {
          "output_type": "execute_result",
          "data": {
            "text/plain": [
              "402"
            ]
          },
          "metadata": {},
          "execution_count": 10
        }
      ]
    },
    {
      "cell_type": "code",
      "metadata": {
        "id": "G5nO6YnV_GSG"
      },
      "source": [
        "# create test split\n",
        "def get_train_test_split(df):\n",
        "    train_ids, test_ids = next(StratifiedKFold(n_splits=5,random_state=1).split(df.id, df.label))\n",
        "    print(f\"Test: {len(test_ids)}, Train: {len(train_ids)}, Total: {len(df)}\")\n",
        "    dummy = [False] * len(df)\n",
        "    com_list = dummy[:]\n",
        "    for index in test_ids: com_list[index] = True\n",
        "    return com_list"
      ],
      "execution_count": null,
      "outputs": []
    },
    {
      "cell_type": "code",
      "metadata": {
        "colab": {
          "base_uri": "https://localhost:8080/"
        },
        "id": "tWjZc0Yitt_l",
        "outputId": "8049244f-a7e8-4e7c-8d4a-bd79ce714e40"
      },
      "source": [
        "train_test_bool = get_train_test_split(sent_df)\n",
        "sum(train_test_bool)"
      ],
      "execution_count": null,
      "outputs": [
        {
          "output_type": "stream",
          "name": "stderr",
          "text": [
            "/usr/local/lib/python3.7/dist-packages/sklearn/model_selection/_split.py:296: FutureWarning: Setting a random_state has no effect since shuffle is False. This will raise an error in 0.24. You should leave random_state to its default (None), or set shuffle=True.\n",
            "  FutureWarning\n",
            "/usr/local/lib/python3.7/dist-packages/sklearn/model_selection/_split.py:667: UserWarning: The least populated class in y has only 1 members, which is less than n_splits=5.\n",
            "  % (min_groups, self.n_splits)), UserWarning)\n"
          ]
        },
        {
          "output_type": "stream",
          "name": "stdout",
          "text": [
            "Test: 1977424, Train: 7909695, Total: 9887119\n"
          ]
        },
        {
          "output_type": "execute_result",
          "data": {
            "text/plain": [
              "1977424"
            ]
          },
          "metadata": {},
          "execution_count": 12
        }
      ]
    },
    {
      "cell_type": "code",
      "metadata": {
        "colab": {
          "base_uri": "https://localhost:8080/"
        },
        "id": "N1pp9F5mt4_i",
        "outputId": "1c0397c3-c791-44d1-b93b-5d8972990bfe"
      },
      "source": [
        "# keep test separate\n",
        "test_df = sent_df.loc[train_test_bool,:]\n",
        "test_df.shape"
      ],
      "execution_count": null,
      "outputs": [
        {
          "output_type": "execute_result",
          "data": {
            "text/plain": [
              "(1977424, 3)"
            ]
          },
          "metadata": {},
          "execution_count": 13
        }
      ]
    },
    {
      "cell_type": "code",
      "metadata": {
        "colab": {
          "base_uri": "https://localhost:8080/"
        },
        "id": "T2XQ68_xyStw",
        "outputId": "fb76209e-fc38-45af-811d-cb0003475c40"
      },
      "source": [
        "# Training df\n",
        "train_df = sent_df.loc[list(~np.array(train_test_bool)),:]\n",
        "train_df.shape"
      ],
      "execution_count": null,
      "outputs": [
        {
          "output_type": "execute_result",
          "data": {
            "text/plain": [
              "(7909695, 3)"
            ]
          },
          "metadata": {},
          "execution_count": 14
        }
      ]
    },
    {
      "cell_type": "code",
      "metadata": {
        "colab": {
          "base_uri": "https://localhost:8080/",
          "height": 417
        },
        "id": "T1-IpJiQyyGw",
        "outputId": "2750da6b-94da-44e6-b4fb-f381cba36b0c"
      },
      "source": [
        "# is validation identified\n",
        "train_df['is_valid'] = get_train_test_split(train_df)\n",
        "train_df.head()"
      ],
      "execution_count": null,
      "outputs": [
        {
          "output_type": "stream",
          "name": "stderr",
          "text": [
            "/usr/local/lib/python3.7/dist-packages/sklearn/model_selection/_split.py:296: FutureWarning: Setting a random_state has no effect since shuffle is False. This will raise an error in 0.24. You should leave random_state to its default (None), or set shuffle=True.\n",
            "  FutureWarning\n",
            "/usr/local/lib/python3.7/dist-packages/sklearn/model_selection/_split.py:667: UserWarning: The least populated class in y has only 1 members, which is less than n_splits=5.\n",
            "  % (min_groups, self.n_splits)), UserWarning)\n"
          ]
        },
        {
          "output_type": "stream",
          "name": "stdout",
          "text": [
            "Test: 1581939, Train: 6327756, Total: 7909695\n"
          ]
        },
        {
          "output_type": "stream",
          "name": "stderr",
          "text": [
            "/usr/local/lib/python3.7/dist-packages/ipykernel_launcher.py:2: SettingWithCopyWarning: \n",
            "A value is trying to be set on a copy of a slice from a DataFrame.\n",
            "Try using .loc[row_indexer,col_indexer] = value instead\n",
            "\n",
            "See the caveats in the documentation: https://pandas.pydata.org/pandas-docs/stable/user_guide/indexing.html#returning-a-view-versus-a-copy\n",
            "  \n"
          ]
        },
        {
          "output_type": "execute_result",
          "data": {
            "text/html": [
              "<div>\n",
              "<style scoped>\n",
              "    .dataframe tbody tr th:only-of-type {\n",
              "        vertical-align: middle;\n",
              "    }\n",
              "\n",
              "    .dataframe tbody tr th {\n",
              "        vertical-align: top;\n",
              "    }\n",
              "\n",
              "    .dataframe thead th {\n",
              "        text-align: right;\n",
              "    }\n",
              "</style>\n",
              "<table border=\"1\" class=\"dataframe\">\n",
              "  <thead>\n",
              "    <tr style=\"text-align: right;\">\n",
              "      <th></th>\n",
              "      <th>id</th>\n",
              "      <th>label</th>\n",
              "      <th>text</th>\n",
              "      <th>is_valid</th>\n",
              "    </tr>\n",
              "  </thead>\n",
              "  <tbody>\n",
              "    <tr>\n",
              "      <th>111285</th>\n",
              "      <td>116355</td>\n",
              "      <td>jpn</td>\n",
              "      <td>彼の発言で私の希望は失われた。</td>\n",
              "      <td>True</td>\n",
              "    </tr>\n",
              "    <tr>\n",
              "      <th>111286</th>\n",
              "      <td>116356</td>\n",
              "      <td>jpn</td>\n",
              "      <td>彼の発言が舌戦の火蓋を切った。</td>\n",
              "      <td>True</td>\n",
              "    </tr>\n",
              "    <tr>\n",
              "      <th>111287</th>\n",
              "      <td>116357</td>\n",
              "      <td>jpn</td>\n",
              "      <td>彼の発言がゴタゴタを起こした。</td>\n",
              "      <td>True</td>\n",
              "    </tr>\n",
              "    <tr>\n",
              "      <th>111288</th>\n",
              "      <td>116358</td>\n",
              "      <td>jpn</td>\n",
              "      <td>彼の発言が舌戦の火蓋をきったことになった。</td>\n",
              "      <td>True</td>\n",
              "    </tr>\n",
              "    <tr>\n",
              "      <th>111289</th>\n",
              "      <td>116359</td>\n",
              "      <td>jpn</td>\n",
              "      <td>彼の発見は輸送における革命をもたらした。</td>\n",
              "      <td>True</td>\n",
              "    </tr>\n",
              "  </tbody>\n",
              "</table>\n",
              "</div>"
            ],
            "text/plain": [
              "            id label                   text  is_valid\n",
              "111285  116355   jpn        彼の発言で私の希望は失われた。      True\n",
              "111286  116356   jpn        彼の発言が舌戦の火蓋を切った。      True\n",
              "111287  116357   jpn        彼の発言がゴタゴタを起こした。      True\n",
              "111288  116358   jpn  彼の発言が舌戦の火蓋をきったことになった。      True\n",
              "111289  116359   jpn   彼の発見は輸送における革命をもたらした。      True"
            ]
          },
          "metadata": {},
          "execution_count": 15
        }
      ]
    },
    {
      "cell_type": "code",
      "metadata": {
        "colab": {
          "base_uri": "https://localhost:8080/",
          "height": 361
        },
        "id": "LGTJ_Mlm7lAv",
        "outputId": "1998c750-6a21-4430-853e-33ca99070733"
      },
      "source": [
        "# create a subsample\n",
        "cound_df = train_df['label'].value_counts()\n",
        "sample_labels = cound_df[:num_languages].index.tolist()\n",
        "\n",
        "train_csv_sample = train_df.loc[train_df['label'].isin(sample_labels),:]\n",
        "train_csv_sample['label'].value_counts().plot.bar(figsize = [20,5])\n",
        "len(train_df), len(train_csv_sample)"
      ],
      "execution_count": null,
      "outputs": [
        {
          "output_type": "execute_result",
          "data": {
            "text/plain": [
              "(7909695, 7890587)"
            ]
          },
          "metadata": {},
          "execution_count": 16
        },
        {
          "output_type": "display_data",
          "data": {
            "image/png": "[encoded data removed]",
            "text/plain": [
              "<Figure size 1440x360 with 1 Axes>"
            ]
          },
          "metadata": {
            "needs_background": "light"
          }
        }
      ]
    },
    {
      "cell_type": "code",
      "metadata": {
        "id": "LQ9XYR9KObL-",
        "colab": {
          "base_uri": "https://localhost:8080/"
        },
        "outputId": "40b2c6a4-27f2-41b3-f016-f6b38134f10f"
      },
      "source": [
        "# to get an idea how many observations should be kept to deal with the large volume\n",
        "train_csv_sample['label'].value_counts().median()"
      ],
      "execution_count": null,
      "outputs": [
        {
          "output_type": "execute_result",
          "data": {
            "text/plain": [
              "3743.0"
            ]
          },
          "metadata": {},
          "execution_count": 17
        }
      ]
    },
    {
      "cell_type": "code",
      "metadata": {
        "id": "KfuzddI__3DV",
        "colab": {
          "base_uri": "https://localhost:8080/",
          "height": 349
        },
        "outputId": "3926add9-679d-4d7b-cf3e-3f94c2f4cf70"
      },
      "source": [
        "# downsample where number of observations for a language is more than 10000\n",
        "size = 10000        # sample size\n",
        "replace = False  # with replacement\n",
        "dn_smpl_lang = list(train_csv_sample['label'].value_counts()[train_csv_sample['label'].value_counts() > size].index)\n",
        "train_sub_sample_lg = train_csv_sample.loc[train_csv_sample.label.isin(dn_smpl_lang),:].copy()\n",
        "np.random.seed(1)\n",
        "fn = lambda obj: obj.loc[np.random.choice(obj.index, size, replace),:]\n",
        "train_sub_sample_lg = train_sub_sample_lg.groupby('label', as_index=False).apply(fn)\n",
        "train_sub_sample_lg['label'].value_counts().plot.bar(figsize = [10,5])"
      ],
      "execution_count": null,
      "outputs": [
        {
          "output_type": "execute_result",
          "data": {
            "text/plain": [
              "<matplotlib.axes._subplots.AxesSubplot at 0x7f17a469d5d0>"
            ]
          },
          "metadata": {},
          "execution_count": 18
        },
        {
          "output_type": "display_data",
          "data": {
            "image/png": "[encoded data removed]",
            "text/plain": [
              "<Figure size 720x360 with 1 Axes>"
            ]
          },
          "metadata": {
            "needs_background": "light"
          }
        }
      ]
    },
    {
      "cell_type": "code",
      "metadata": {
        "colab": {
          "base_uri": "https://localhost:8080/",
          "height": 349
        },
        "id": "iYoqomm2XBa4",
        "outputId": "90fdefb0-f0ce-45ca-ed5f-80d24bcc53bb"
      },
      "source": [
        "# distribution where number of observation for each language is less than 10000\n",
        "train_sub_sample_sh = train_csv_sample.loc[~train_csv_sample.label.isin(dn_smpl_lang),:].copy()\n",
        "train_sub_sample_sh['label'].value_counts().plot.bar(figsize = [20,5])"
      ],
      "execution_count": null,
      "outputs": [
        {
          "output_type": "execute_result",
          "data": {
            "text/plain": [
              "<matplotlib.axes._subplots.AxesSubplot at 0x7f17a44a3d50>"
            ]
          },
          "metadata": {},
          "execution_count": 19
        },
        {
          "output_type": "display_data",
          "data": {
            "image/png": "[encoded data removed]",
            "text/plain": [
              "<Figure size 1440x360 with 1 Axes>"
            ]
          },
          "metadata": {
            "needs_background": "light"
          }
        }
      ]
    },
    {
      "cell_type": "code",
      "metadata": {
        "colab": {
          "base_uri": "https://localhost:8080/",
          "height": 347
        },
        "id": "VhqtU4sIfmSl",
        "outputId": "62e00185-b622-470b-84fd-d8a4a99f332d"
      },
      "source": [
        "train_sub_sample = pd.concat([train_sub_sample_lg,train_sub_sample_sh],axis = 0)\n",
        "train_sub_sample['label'].value_counts().plot.bar(figsize = [20,5])"
      ],
      "execution_count": null,
      "outputs": [
        {
          "output_type": "execute_result",
          "data": {
            "text/plain": [
              "<matplotlib.axes._subplots.AxesSubplot at 0x7f17a44e4250>"
            ]
          },
          "metadata": {},
          "execution_count": 20
        },
        {
          "output_type": "display_data",
          "data": {
            "image/png": "[encoded data removed]",
            "text/plain": [
              "<Figure size 1440x360 with 1 Axes>"
            ]
          },
          "metadata": {
            "needs_background": "light"
          }
        }
      ]
    },
    {
      "cell_type": "code",
      "metadata": {
        "colab": {
          "base_uri": "https://localhost:8080/"
        },
        "id": "zTMTL69Tfygk",
        "outputId": "9623ef96-3952-4e91-d0a5-3732eee422b9"
      },
      "source": [
        "# language list for test sub sample and inference\n",
        "lang_labels = train_sub_sample['label'].unique().tolist()\n",
        "test_sub_sample = test_df.loc[test_df['label'].isin(lang_labels)]\n",
        "test_sub_sample.shape,test_df.shape"
      ],
      "execution_count": null,
      "outputs": [
        {
          "output_type": "execute_result",
          "data": {
            "text/plain": [
              "((1972648, 3), (1977424, 3))"
            ]
          },
          "metadata": {},
          "execution_count": 21
        }
      ]
    },
    {
      "cell_type": "code",
      "metadata": {
        "id": "bRb6u3x6f1hU",
        "colab": {
          "base_uri": "https://localhost:8080/"
        },
        "outputId": "faa957ca-24e6-48bd-a3ef-4bf077e9ce0c"
      },
      "source": [
        "# Save the list of 133 languages for model building and inference\n",
        "from sklearn.externals import joblib\n",
        "joblib.dump(lang_labels, model_save_path + 'pt_supported_languages.pkl')"
      ],
      "execution_count": null,
      "outputs": [
        {
          "output_type": "stream",
          "name": "stderr",
          "text": [
            "/usr/local/lib/python3.7/dist-packages/sklearn/externals/joblib/__init__.py:15: FutureWarning: sklearn.externals.joblib is deprecated in 0.21 and will be removed in 0.23. Please import this functionality directly from joblib, which can be installed with: pip install joblib. If this warning is raised when loading pickled models, you may need to re-serialize those models with scikit-learn 0.21+.\n",
            "  warnings.warn(msg, category=FutureWarning)\n"
          ]
        },
        {
          "output_type": "execute_result",
          "data": {
            "text/plain": [
              "['/content/drive/MyDrive/lang_detection/models/pt_supported_languages.pkl']"
            ]
          },
          "metadata": {},
          "execution_count": 23
        }
      ]
    },
    {
      "cell_type": "markdown",
      "metadata": {
        "id": "rlFy9DDkEBxm"
      },
      "source": [
        "## Torch Model"
      ]
    },
    {
      "cell_type": "code",
      "metadata": {
        "id": "nXRe3zpjsdfP"
      },
      "source": [
        "%%capture\n",
        "!pip install datasets"
      ],
      "execution_count": null,
      "outputs": []
    },
    {
      "cell_type": "code",
      "metadata": {
        "id": "e2Bwr1KecELl"
      },
      "source": [
        "import functools\n",
        "import tqdm\n",
        "import sys\n",
        "import matplotlib.pyplot as plt\n",
        "\n",
        "#deal with tensors\n",
        "import torch\n",
        "import torchtext\n",
        "from datasets import Dataset\n",
        "#handling text data\n",
        "from torchtext.vocab import build_vocab_from_iterator\n",
        "\n",
        "import torch.nn as nn\n",
        "import torch.optim as optim\n",
        "\n",
        "from sklearn.metrics import f1_score"
      ],
      "execution_count": null,
      "outputs": []
    },
    {
      "cell_type": "code",
      "metadata": {
        "id": "FYvlYVXwtK2V"
      },
      "source": [
        "# dataset for traing, validation and test\n",
        "train_data = Dataset.from_pandas(train_sub_sample.loc[train_sub_sample.is_valid == False,['label','text']].reset_index(drop=True))\n",
        "valid_data = Dataset.from_pandas(train_sub_sample.loc[train_sub_sample.is_valid == True,['label','text']].reset_index(drop=True))\n",
        "test_data = Dataset.from_pandas(test_sub_sample.loc[:,['label','text']])"
      ],
      "execution_count": null,
      "outputs": []
    },
    {
      "cell_type": "code",
      "metadata": {
        "id": "enBrh5AGcFFh"
      },
      "source": [
        "# character tokenizer\n",
        "tokenizer = lambda x:list(x)\n",
        "def tokenize_data(example, tokenizer, max_length):\n",
        "    tokens = tokenizer(example['text'])[:max_length]\n",
        "    length = len(tokens)\n",
        "    return {'tokens': tokens, 'length': length}"
      ],
      "execution_count": null,
      "outputs": []
    },
    {
      "cell_type": "code",
      "metadata": {
        "colab": {
          "base_uri": "https://localhost:8080/",
          "height": 113,
          "referenced_widgets": [
            "a459eda8dfd645b4a31c51fd9389cae8",
            "74f62009b8a84f43a1a655edae5a8187",
            "45b42bfac35f49e88f449cd371d1bddf",
            "ef2bdf3e077948438413d19d3d70938f",
            "7196cb9e99064db0a352fdeacd90ffc8",
            "786739f81bbd48c5a685798af1267aae",
            "d82eaa2e468942cca993a8d7fb9ab1b8",
            "9ff0ef4b64db436ea8b3ee1e1f853e79",
            "2a87d48542a64eb18436d4d6654367d1",
            "c4689aa581834a148f4f434b378e4333",
            "b3c32bc257b946d8adc0c37ef7a73e9e",
            "abef9fc06aa241bfbcea428e3bb576a6",
            "ead0707881514cd8a08564fdcf294865",
            "8bd0313f4c984ee38e375f32c3335f3c",
            "7f69cfb6cfc144c3a9a9cf22038f6365",
            "47e8d9d0b8bf46b4bcd10ee332a00ca4",
            "726985e1538f44f88752d7a6ffde9868",
            "50aec60235884d86aa1b0cd8140cb4c1",
            "241b1974995c4acea5656d3f423a5912",
            "0dbd23c8bf904efda57cc42d8df7939d",
            "635112cbd73d4710938fdf1ca2d81e8a",
            "94062d7f34844e5aa65ee1d31194763b",
            "b304fc5e12a3497eaed255145ba4ae2b",
            "50a9677d24244eacbfffbfaabc059dc5",
            "a4b5f9ef6ec3402eb05273f6f251cf07",
            "60607c7c971941999c07a439da1d9412",
            "7e777ad145bf4409bdab5a40c8c2e0a2",
            "7289e28b6a87413083fc788379fa7ca9",
            "1538d0d9fc9b42f891b4e23f0289ca1d",
            "1ef348823f7941c0b15e172c5b35c1e8",
            "60afd5ddde44488fb19c77bf253c075d",
            "85d8f4de6ece4f06a93f6ab888354922",
            "af4f371772cc4d87b0a456c637d0433d"
          ]
        },
        "id": "38NPKNJkidhr",
        "outputId": "741f7cd8-b2d9-4ebe-96b1-6254a2af4ac7"
      },
      "source": [
        "# tokenize sentences with max_length restrictions for number of tokens\n",
        "max_length = 256\n",
        "train_data = train_data.map(tokenize_data, fn_kwargs={'tokenizer': tokenizer, 'max_length': max_length})\n",
        "valid_data = valid_data.map(tokenize_data, fn_kwargs={'tokenizer': tokenizer, 'max_length': max_length})\n",
        "test_data = test_data.map(tokenize_data, fn_kwargs={'tokenizer': tokenizer, 'max_length': max_length})"
      ],
      "execution_count": null,
      "outputs": [
        {
          "output_type": "display_data",
          "data": {
            "application/vnd.jupyter.widget-view+json": {
              "model_id": "a459eda8dfd645b4a31c51fd9389cae8",
              "version_minor": 0,
              "version_major": 2
            },
            "text/plain": [
              "  0%|          | 0/540515 [00:00<?, ?ex/s]"
            ]
          },
          "metadata": {}
        },
        {
          "output_type": "display_data",
          "data": {
            "application/vnd.jupyter.widget-view+json": {
              "model_id": "abef9fc06aa241bfbcea428e3bb576a6",
              "version_minor": 0,
              "version_major": 2
            },
            "text/plain": [
              "  0%|          | 0/134996 [00:00<?, ?ex/s]"
            ]
          },
          "metadata": {}
        },
        {
          "output_type": "display_data",
          "data": {
            "application/vnd.jupyter.widget-view+json": {
              "model_id": "b304fc5e12a3497eaed255145ba4ae2b",
              "version_minor": 0,
              "version_major": 2
            },
            "text/plain": [
              "  0%|          | 0/1972648 [00:00<?, ?ex/s]"
            ]
          },
          "metadata": {}
        }
      ]
    },
    {
      "cell_type": "code",
      "metadata": {
        "id": "ug2hLbs5kyIm"
      },
      "source": [
        "# create vocabulary from character tokens generated from training data\n",
        "min_freq = 5\n",
        "special_tokens = ['<unk>', '<pad>']\n",
        "\n",
        "vocab = torchtext.vocab.build_vocab_from_iterator(train_data['tokens'],\n",
        "                                                  min_freq=min_freq,\n",
        "                                                  specials=special_tokens)\n",
        "# add special tokens for unknown character and padding\n",
        "unk_index = vocab['<unk>']\n",
        "pad_index = vocab['<pad>']\n",
        "vocab.set_default_index(unk_index)"
      ],
      "execution_count": null,
      "outputs": []
    },
    {
      "cell_type": "code",
      "metadata": {
        "id": "I4_P1BmY4Fo7",
        "colab": {
          "base_uri": "https://localhost:8080/"
        },
        "outputId": "f39aa720-e6c6-4cc0-8d12-b5438a9f06c0"
      },
      "source": [
        "# save vocab for inference\n",
        "from sklearn.externals import joblib\n",
        "joblib.dump(vocab, model_save_path + 'pytorch_133_langs_vocab')"
      ],
      "execution_count": null,
      "outputs": [
        {
          "output_type": "stream",
          "name": "stderr",
          "text": [
            "/usr/local/lib/python3.7/dist-packages/sklearn/externals/joblib/__init__.py:15: FutureWarning: sklearn.externals.joblib is deprecated in 0.21 and will be removed in 0.23. Please import this functionality directly from joblib, which can be installed with: pip install joblib. If this warning is raised when loading pickled models, you may need to re-serialize those models with scikit-learn 0.21+.\n",
            "  warnings.warn(msg, category=FutureWarning)\n"
          ]
        },
        {
          "output_type": "execute_result",
          "data": {
            "text/plain": [
              "['/content/drive/MyDrive/lang_detection/models/pytorch_133_langs_vocab']"
            ]
          },
          "metadata": {},
          "execution_count": 28
        }
      ]
    },
    {
      "cell_type": "code",
      "metadata": {
        "id": "St10LHsvuFDc"
      },
      "source": [
        "# util function for token to id\n",
        "def numericalize_data(example, vocab):\n",
        "    ids = [vocab[token] for token in example['tokens']]\n",
        "    return {'ids': ids}\n",
        "# util function for label to id\n",
        "def label_to_idx(example, lang_labels):\n",
        "    return {'label':lang_labels.index(example['label'])}"
      ],
      "execution_count": null,
      "outputs": []
    },
    {
      "cell_type": "code",
      "metadata": {
        "colab": {
          "base_uri": "https://localhost:8080/",
          "height": 113,
          "referenced_widgets": [
            "8caa113464054c83ac5b6eaa9e277329",
            "376af07c981d4f609ef2adf267eb3ce5",
            "3eb8d8de81dd43ccb16f9743e7b02d05",
            "dcfcfdf9ec864ccebebbaf18b19e84b8",
            "c3d07971fe364b4f8c372cd0e05988be",
            "7678aca9fa9a4001af17b7ee5abc1582",
            "6362b7313e4f4afa95fd877df6f4893f",
            "cb9e98c4c4d04562a317b4add138e4c9",
            "fddcefc8d793435d9aed61779b04f768",
            "428cbd2e0756497a9b078e05a2bd4bba",
            "c57b578a4010435bbbbcf0fa7431f9b5",
            "86f7911f6fc94974ae306d13ab9ae2fb",
            "25086c277c84419d8a60e46a7d5771cf",
            "3c94066b12d84edd9bd89547ae11dd27",
            "a29f5f99412446aabfb72ca54da853b3",
            "e9c7de02a7294fb1bd03e4fe1a1d5b30",
            "3aa359b6f4614ae586bf98ecd4b989cf",
            "ee9b3641e8924e82bf6d821b13306b48",
            "c397547901f44ae09e96e3762cf06bef",
            "63cc6c38b321489eb4db9a3a145e30ec",
            "58f4c79d5cc14b36bb59c9c260db0c28",
            "8a17c1a490134618b1a57a3eb75722f7",
            "772e21dc985d42d8bbf1a444dd3c21c6",
            "8a3ee30f1dcc4b778415dd1c12ee821b",
            "64386419523e495b9291f5198a309aff",
            "171f8ccf2068444cafa436c1a352ecad",
            "dcd91e9a92474970b7f8376ffbb0be84",
            "71b79ed4421d4b348fbcfeaa0bca0ca1",
            "c5c22cc2cbdc4055b9c53a0301016f73",
            "f60b39676eed4faa8dc56058339e9cc5",
            "f2cf3e2bf6594f2296835b91ceefac80",
            "266bffc6b203449f8083fa08d729686f",
            "8938bd9c00a84c0fa9858cb1dc65cfbf"
          ]
        },
        "id": "nfbaFXXluGn3",
        "outputId": "82702264-2ee7-4bdb-8ffa-c307404ba3c4"
      },
      "source": [
        "# token to id mapping for all 3 data sets\n",
        "train_data = train_data.map(numericalize_data, fn_kwargs={'vocab': vocab})\n",
        "valid_data = valid_data.map(numericalize_data, fn_kwargs={'vocab': vocab})\n",
        "test_data = test_data.map(numericalize_data, fn_kwargs={'vocab': vocab})"
      ],
      "execution_count": null,
      "outputs": [
        {
          "output_type": "display_data",
          "data": {
            "application/vnd.jupyter.widget-view+json": {
              "model_id": "8caa113464054c83ac5b6eaa9e277329",
              "version_minor": 0,
              "version_major": 2
            },
            "text/plain": [
              "  0%|          | 0/540515 [00:00<?, ?ex/s]"
            ]
          },
          "metadata": {}
        },
        {
          "output_type": "display_data",
          "data": {
            "application/vnd.jupyter.widget-view+json": {
              "model_id": "86f7911f6fc94974ae306d13ab9ae2fb",
              "version_minor": 0,
              "version_major": 2
            },
            "text/plain": [
              "  0%|          | 0/134996 [00:00<?, ?ex/s]"
            ]
          },
          "metadata": {}
        },
        {
          "output_type": "display_data",
          "data": {
            "application/vnd.jupyter.widget-view+json": {
              "model_id": "772e21dc985d42d8bbf1a444dd3c21c6",
              "version_minor": 0,
              "version_major": 2
            },
            "text/plain": [
              "  0%|          | 0/1972648 [00:00<?, ?ex/s]"
            ]
          },
          "metadata": {}
        }
      ]
    },
    {
      "cell_type": "code",
      "metadata": {
        "colab": {
          "base_uri": "https://localhost:8080/",
          "height": 113,
          "referenced_widgets": [
            "55389f182da94a57b7761b306c3e3a4b",
            "9e589cdb710a40019b88656bf80075a8",
            "1c4247c1057741a9a39977f9eb1dfd83",
            "68d5d16a7a8d4242af0f31f1caf5404a",
            "91e4599a7e03460facfe74d0272bec5c",
            "8eafeb19798b44c0a1692ce32e9286f5",
            "bcf9c63ee66a461aafae1bedc96fe9a9",
            "ce474d598c3f4d56a62361b6adf5e668",
            "4b0a22ea431c46229d34c5907fb58d67",
            "4baf615ddaa0428895b769c028340074",
            "61f6c65a4e6248f5bf2d3721f968aedf",
            "a0252139106c4febaed17e40028e9a4b",
            "521ef1878b6b4b68a0b22539a416b803",
            "63abe3c4afb74116bc894c8cf7ea919f",
            "9b52f82bc67844a6b9b11dbcb97096bb",
            "a86000da3b7647bdbc8bc0ca921997e1",
            "d13a6a0ee09945bc8054fc636d971499",
            "7dd48e6ed61e42019f081d82fde90d8d",
            "2b2137bdd67646519479a2d28ef06ea4",
            "59fe4a2c501c4b2fb33eb70cd32acd3e",
            "08682ab679e84d428ed1f0918e01bc3c",
            "dfc969b117e04934927c425b3b38f01f",
            "59f83bf6df684973a8a8e4db80556119",
            "29a8714723bc42879bf0e6ce03cee93b",
            "bb7a25e3d5504fdbbc5ad413c8279ed5",
            "e872792673b24641b7f2e4cb79a217f0",
            "71f088ac99a244a381da2724caf955a7",
            "ed6bf42ac74141698130f5fd289d5a45",
            "289ed35aba0d4a3c886e70980dae2d9f",
            "fee8ff7e363e4f899f7bf27fdf96dcf8",
            "10a8114c46714edb848bfa78dd9d0448",
            "9c3b2693b99545f7b198d9dd7b849d9f",
            "65c616d2271144f8bafed76cd3e45960"
          ]
        },
        "id": "DJKwLyggyHG_",
        "outputId": "044b3b90-2486-4cae-e3e8-8d340bcc8cb9"
      },
      "source": [
        "# label to id for 3 data sets\n",
        "train_data = train_data.map(label_to_idx, fn_kwargs={'lang_labels': lang_labels})\n",
        "valid_data = valid_data.map(label_to_idx, fn_kwargs={'lang_labels': lang_labels})\n",
        "test_data = test_data.map(label_to_idx, fn_kwargs={'lang_labels': lang_labels})"
      ],
      "execution_count": null,
      "outputs": [
        {
          "output_type": "display_data",
          "data": {
            "application/vnd.jupyter.widget-view+json": {
              "model_id": "55389f182da94a57b7761b306c3e3a4b",
              "version_minor": 0,
              "version_major": 2
            },
            "text/plain": [
              "  0%|          | 0/540515 [00:00<?, ?ex/s]"
            ]
          },
          "metadata": {}
        },
        {
          "output_type": "display_data",
          "data": {
            "application/vnd.jupyter.widget-view+json": {
              "model_id": "a0252139106c4febaed17e40028e9a4b",
              "version_minor": 0,
              "version_major": 2
            },
            "text/plain": [
              "  0%|          | 0/134996 [00:00<?, ?ex/s]"
            ]
          },
          "metadata": {}
        },
        {
          "output_type": "display_data",
          "data": {
            "application/vnd.jupyter.widget-view+json": {
              "model_id": "59f83bf6df684973a8a8e4db80556119",
              "version_minor": 0,
              "version_major": 2
            },
            "text/plain": [
              "  0%|          | 0/1972648 [00:00<?, ?ex/s]"
            ]
          },
          "metadata": {}
        }
      ]
    },
    {
      "cell_type": "code",
      "metadata": {
        "id": "YHg06aQ0uJKE"
      },
      "source": [
        "# convert to torch tensors\n",
        "train_data = train_data.with_format(type='torch', columns=['ids', 'label', 'length'])\n",
        "valid_data = valid_data.with_format(type='torch', columns=['ids', 'label', 'length'])\n",
        "test_data = test_data.with_format(type='torch', columns=['ids', 'label', 'length'])"
      ],
      "execution_count": null,
      "outputs": []
    },
    {
      "cell_type": "code",
      "metadata": {
        "colab": {
          "base_uri": "https://localhost:8080/"
        },
        "id": "a9kA3OYFuK8w",
        "outputId": "3675a419-7c21-47f0-f374-c3ff3da18cef"
      },
      "source": [
        "# see example data\n",
        "train_data[0]"
      ],
      "execution_count": null,
      "outputs": [
        {
          "output_type": "execute_result",
          "data": {
            "text/plain": [
              "{'ids': tensor([ 55,  31,   2,  80,  48,  75, 286,  80,   2, 220,  48,   2,  57,  57,\n",
              "          51, 140,  90,   2,  80, 374,  90,  75,   2,  75,  90, 374,  90,   2,\n",
              "          31,  55,  87, 266,  90,  65,  55, 256,  12]),\n",
              " 'label': tensor(0),\n",
              " 'length': tensor(37)}"
            ]
          },
          "metadata": {},
          "execution_count": 34
        }
      ]
    },
    {
      "cell_type": "code",
      "metadata": {
        "id": "AeBJJIVw0unH"
      },
      "source": [
        "# Model class\n",
        "class LangDetect(nn.Module):\n",
        "    def __init__(self, vocab_size, embedding_dim, hidden_dim, output_dim, n_layers, bidirectional,\n",
        "                 dropout_rate, pad_index):\n",
        "        super().__init__()\n",
        "        self.embedding = nn.Embedding(vocab_size, embedding_dim, padding_idx=pad_index)\n",
        "        self.lstm = nn.LSTM(embedding_dim, hidden_dim, n_layers, bidirectional=bidirectional,\n",
        "                            dropout=dropout_rate, batch_first=True)\n",
        "        self.fc = nn.Linear(hidden_dim * 2 if bidirectional else hidden_dim, output_dim)\n",
        "        self.dropout = nn.Dropout(dropout_rate)\n",
        "        \n",
        "    def forward(self, ids, length):\n",
        "        # ids = [batch size, seq len]\n",
        "        # length = [batch size]\n",
        "        embedded = self.dropout(self.embedding(ids))\n",
        "        # embedded = [batch size, seq len, embedding dim]\n",
        "        packed_embedded = nn.utils.rnn.pack_padded_sequence(embedded, length, batch_first=True, \n",
        "                                                            enforce_sorted=False)\n",
        "        packed_output, (hidden, cell) = self.lstm(packed_embedded)\n",
        "        # hidden = [n layers * n directions, batch size, hidden dim]\n",
        "        # cell = [n layers * n directions, batch size, hidden dim]\n",
        "        output, output_length = nn.utils.rnn.pad_packed_sequence(packed_output)\n",
        "        # output = [batch size, seq len, hidden dim * n directions]\n",
        "        if self.lstm.bidirectional:\n",
        "            hidden = self.dropout(torch.cat([hidden[-1], hidden[-2]], dim=-1))\n",
        "            # hidden = [batch size, hidden dim * 2]\n",
        "        else:\n",
        "            hidden = self.dropout(hidden[-1])\n",
        "            # hidden = [batch size, hidden dim]\n",
        "        prediction = self.fc(hidden)\n",
        "        # prediction = [batch size, output dim]\n",
        "        return prediction"
      ],
      "execution_count": null,
      "outputs": []
    },
    {
      "cell_type": "code",
      "metadata": {
        "colab": {
          "base_uri": "https://localhost:8080/"
        },
        "id": "xgOVflakuSYd",
        "outputId": "e022bb3f-edff-4220-e65c-dd0ba228c8a5"
      },
      "source": [
        "# model hyper parameters\n",
        "vocab_size = len(vocab)\n",
        "embedding_dim = 150\n",
        "hidden_dim = 150\n",
        "output_dim = len(train_data.unique('label'))\n",
        "n_layers = 1\n",
        "bidirectional = True\n",
        "dropout_rate = 0.5\n",
        "# instantiate model\n",
        "model = LangDetect(vocab_size, embedding_dim, hidden_dim, output_dim, \n",
        "                   n_layers, bidirectional, dropout_rate, pad_index)"
      ],
      "execution_count": null,
      "outputs": [
        {
          "output_type": "stream",
          "name": "stderr",
          "text": [
            "/usr/local/lib/python3.7/dist-packages/torch/nn/modules/rnn.py:65: UserWarning: dropout option adds dropout after all but last recurrent layer, so non-zero dropout expects num_layers greater than 1, but got dropout=0.5 and num_layers=1\n",
            "  \"num_layers={}\".format(dropout, num_layers))\n"
          ]
        }
      ]
    },
    {
      "cell_type": "code",
      "metadata": {
        "colab": {
          "base_uri": "https://localhost:8080/"
        },
        "id": "-jjn4MVa1Uuw",
        "outputId": "4e75252b-f8b0-47bd-db05-58ca9e1298b4"
      },
      "source": [
        "def count_parameters(model):\n",
        "    return sum(p.numel() for p in model.parameters() if p.requires_grad)\n",
        "\n",
        "print(f'The model has {count_parameters(model):,} trainable parameters')"
      ],
      "execution_count": null,
      "outputs": [
        {
          "output_type": "stream",
          "name": "stdout",
          "text": [
            "The model has 1,097,533 trainable parameters\n"
          ]
        }
      ]
    },
    {
      "cell_type": "code",
      "metadata": {
        "colab": {
          "base_uri": "https://localhost:8080/"
        },
        "id": "nHBUBqC81VSN",
        "outputId": "36b8363d-b76c-440a-a1ca-cff39ca40949"
      },
      "source": [
        "# initialize model weights for LSTM and Linear layer\n",
        "def initialize_weights(m):\n",
        "    if isinstance(m, nn.Linear):\n",
        "        nn.init.xavier_normal_(m.weight)\n",
        "        nn.init.zeros_(m.bias)\n",
        "    elif isinstance(m, nn.LSTM):\n",
        "        for name, param in m.named_parameters():\n",
        "            if 'bias' in name:\n",
        "                nn.init.zeros_(param)\n",
        "            elif 'weight' in name:\n",
        "                nn.init.orthogonal_(param)\n",
        "\n",
        "model.apply(initialize_weights)"
      ],
      "execution_count": null,
      "outputs": [
        {
          "output_type": "execute_result",
          "data": {
            "text/plain": [
              "LangDetect(\n",
              "  (embedding): Embedding(4634, 150, padding_idx=1)\n",
              "  (lstm): LSTM(150, 150, batch_first=True, dropout=0.5, bidirectional=True)\n",
              "  (fc): Linear(in_features=300, out_features=133, bias=True)\n",
              "  (dropout): Dropout(p=0.5, inplace=False)\n",
              ")"
            ]
          },
          "metadata": {},
          "execution_count": 38
        }
      ]
    },
    {
      "cell_type": "code",
      "metadata": {
        "id": "-jyGSem81vpD"
      },
      "source": [
        "# model configurations\n",
        "lr = 5e-4\n",
        "optimizer = optim.Adam(model.parameters(), lr=lr)\n",
        "criterion = nn.CrossEntropyLoss()\n",
        "device = torch.device('cuda' if torch.cuda.is_available() else 'cpu')\n",
        "model = model.to(device)\n",
        "criterion = criterion.to(device)"
      ],
      "execution_count": null,
      "outputs": []
    },
    {
      "cell_type": "code",
      "metadata": {
        "id": "8ymsSjqZ1ycw"
      },
      "source": [
        "# collate function for data loaders\n",
        "def collate(batch, pad_index):\n",
        "    batch_ids = [i['ids'] for i in batch]\n",
        "    batch_ids = nn.utils.rnn.pad_sequence(batch_ids, padding_value=pad_index, batch_first=True)\n",
        "    batch_length = [i['length'] for i in batch]\n",
        "    batch_length = torch.stack(batch_length)\n",
        "    batch_label = [i['label'] for i in batch]\n",
        "    batch_label = torch.stack(batch_label)\n",
        "    batch = {'ids': batch_ids,\n",
        "             'length': batch_length,\n",
        "             'label': batch_label}\n",
        "    return batch"
      ],
      "execution_count": null,
      "outputs": []
    },
    {
      "cell_type": "code",
      "metadata": {
        "id": "msD0nTRb11_k"
      },
      "source": [
        "# create data loaders for all 3 data sets\n",
        "batch_size = 512\n",
        "collate = functools.partial(collate, pad_index=pad_index)\n",
        "\n",
        "train_dataloader = torch.utils.data.DataLoader(train_data, \n",
        "                                               batch_size=batch_size, \n",
        "                                               collate_fn=collate, \n",
        "                                               shuffle=True)\n",
        "\n",
        "valid_dataloader = torch.utils.data.DataLoader(valid_data, batch_size=batch_size, collate_fn=collate)\n",
        "test_dataloader = torch.utils.data.DataLoader(test_data, batch_size=batch_size, collate_fn=collate)"
      ],
      "execution_count": null,
      "outputs": []
    },
    {
      "cell_type": "code",
      "metadata": {
        "id": "fZ1eGRTg15bl"
      },
      "source": [
        "# training loop for mini batchs\n",
        "def train(dataloader, model, criterion, optimizer, device):\n",
        "\n",
        "    model.train()\n",
        "    epoch_losses = []\n",
        "    epoch_accs = []\n",
        "    epoch_label = []\n",
        "    epoch_predicted = []\n",
        "\n",
        "    for batch in tqdm.tqdm(dataloader, desc='training...', file=sys.stdout):\n",
        "        ids = batch['ids'].to(device)\n",
        "        length = batch['length']\n",
        "        label = batch['label'].to(device)\n",
        "        prediction = model(ids, length)\n",
        "        loss = criterion(prediction, label)\n",
        "        accuracy,label_np, predicted_classes_np = get_performance(prediction, label)\n",
        "        optimizer.zero_grad()\n",
        "        loss.backward()\n",
        "        optimizer.step()\n",
        "        epoch_losses.append(loss.item())\n",
        "        epoch_accs.append(accuracy.item())\n",
        "        epoch_label.extend(label_np)\n",
        "        epoch_predicted.extend(predicted_classes_np)\n",
        "\n",
        "    return epoch_losses, epoch_accs, epoch_label, epoch_predicted\n",
        "# evaluate function to calculate performance metrics after each epoch\n",
        "def evaluate(dataloader, model, criterion, device):\n",
        "    \n",
        "    model.eval()\n",
        "    epoch_losses = []\n",
        "    epoch_accs = []\n",
        "    epoch_label = []\n",
        "    epoch_predicted = []\n",
        "\n",
        "\n",
        "    with torch.no_grad():\n",
        "        for batch in tqdm.tqdm(dataloader, desc='evaluating...', file=sys.stdout):\n",
        "            ids = batch['ids'].to(device)\n",
        "            length = batch['length']\n",
        "            label = batch['label'].to(device)\n",
        "            prediction = model(ids, length)\n",
        "            loss = criterion(prediction, label)\n",
        "            accuracy,label_np, predicted_classes_np = get_performance(prediction, label)\n",
        "            epoch_losses.append(loss.item())\n",
        "            epoch_accs.append(accuracy.item())\n",
        "            epoch_label.extend(label_np)\n",
        "            epoch_predicted.extend(predicted_classes_np)\n",
        "\n",
        "    return epoch_losses, epoch_accs, epoch_label, epoch_predicted\n",
        "\n",
        "def get_performance(prediction, label):\n",
        "    batch_size, _ = prediction.shape\n",
        "    predicted_classes = prediction.argmax(dim=-1)\n",
        "    correct_predictions = predicted_classes.eq(label).sum()\n",
        "    accuracy = correct_predictions / batch_size\n",
        "    predicted_classes_np = predicted_classes.detach().cpu().numpy()\n",
        "    label_np = label.detach().cpu().numpy()\n",
        "    return accuracy, label_np, predicted_classes_np"
      ],
      "execution_count": null,
      "outputs": []
    },
    {
      "cell_type": "code",
      "metadata": {
        "colab": {
          "base_uri": "https://localhost:8080/"
        },
        "id": "VwAvJWvi2DGf",
        "outputId": "1926adc6-85a6-42cc-92dd-c42de1f060ef"
      },
      "source": [
        "# main training loop\n",
        "n_epochs = 20\n",
        "best_valid_loss = float('inf')\n",
        "\n",
        "train_losses = []\n",
        "train_accs = []\n",
        "train_labels = []\n",
        "train_predicteds = []\n",
        "\n",
        "valid_losses = []\n",
        "valid_accs = []\n",
        "valid_labels = []\n",
        "valid_predicteds = []\n",
        "\n",
        "for epoch in range(n_epochs):\n",
        "\n",
        "    train_loss, train_acc, train_label, train_predicted = train(train_dataloader, model, criterion, optimizer, device)\n",
        "    valid_loss, valid_acc, valid_label, valid_predicted = evaluate(valid_dataloader, model, criterion, device)\n",
        "\n",
        "    # gather training perf metrics\n",
        "    train_losses.extend(train_loss)\n",
        "    train_accs.extend(train_acc)\n",
        "    train_labels.extend(train_label)\n",
        "    train_predicteds.extend(train_predicted)\n",
        "\n",
        "    # gather validation perf metrics\n",
        "    valid_losses.extend(valid_loss)\n",
        "    valid_accs.extend(valid_acc)\n",
        "    valid_labels.extend(valid_label)\n",
        "    valid_predicteds.extend(valid_predicted)\n",
        "    \n",
        "    epoch_train_loss = np.mean(train_loss)\n",
        "    epoch_train_acc = np.mean(train_acc)\n",
        "    epoch_train_micro_f1 = f1_score(train_labels, train_predicteds, average = 'micro')\n",
        "    epoch_train_macro_f1 = f1_score(train_labels, train_predicteds, average = 'macro')\n",
        "    epoch_train_weighted_f1 = f1_score(train_labels, train_predicteds, average = 'weighted')\n",
        "    \n",
        "    epoch_valid_loss = np.mean(valid_loss)\n",
        "    epoch_valid_acc = np.mean(valid_acc)\n",
        "    epoch_valid_micro_f1 = f1_score(valid_labels, valid_predicteds, average = 'micro')\n",
        "    epoch_valid_macro_f1 = f1_score(valid_labels, valid_predicteds, average = 'macro')\n",
        "    epoch_valid_weighted_f1 = f1_score(valid_labels, valid_predicteds, average = 'weighted')\n",
        "    \n",
        "    # save model if validation loss is better than erlier best\n",
        "    if epoch_valid_loss < best_valid_loss:\n",
        "        best_valid_loss = epoch_valid_loss\n",
        "        torch.save(model.state_dict(), model_save_path + 'pytorch_133_langs.pt')\n",
        "    \n",
        "    print(f'epoch: {epoch+1}')\n",
        "    print(f'train_loss: {epoch_train_loss:.3f}, train_acc: {epoch_train_acc:.3f},\\\n",
        "            train_micro_f1: {epoch_train_micro_f1:.3f}, train_macro_f1:{epoch_train_macro_f1:.3f}, \\\n",
        "            train_weighted_f1: {epoch_train_weighted_f1:.3f}')\n",
        "    print(f'valid_loss: {epoch_valid_loss:.3f}, valid_acc: {epoch_valid_acc:.3f},\\\n",
        "            valid_micro_f1: {epoch_valid_micro_f1:.3f}, valid_macro_f1:{epoch_valid_macro_f1:.3f}, \\\n",
        "            valid_weighted_f1: {epoch_valid_weighted_f1:.3f}')"
      ],
      "execution_count": null,
      "outputs": [
        {
          "output_type": "stream",
          "name": "stdout",
          "text": [
            "training...: 100%|██████████| 1056/1056 [03:02<00:00,  5.80it/s]\n",
            "evaluating...: 100%|██████████| 264/264 [00:37<00:00,  7.08it/s]\n",
            "epoch: 1\n",
            "train_loss: 1.819, train_acc: 0.532,            train_micro_f1: 0.532, train_macro_f1:0.400,             train_weighted_f1: 0.513\n",
            "valid_loss: 0.799, valid_acc: 0.750,            valid_micro_f1: 0.750, valid_macro_f1:0.611,             valid_weighted_f1: 0.732\n",
            "training...: 100%|██████████| 1056/1056 [03:02<00:00,  5.77it/s]\n",
            "evaluating...: 100%|██████████| 264/264 [00:37<00:00,  7.08it/s]\n",
            "epoch: 2\n",
            "train_loss: 0.858, train_acc: 0.739,            train_micro_f1: 0.635, train_macro_f1:0.523,             train_weighted_f1: 0.622\n",
            "valid_loss: 0.592, valid_acc: 0.806,            valid_micro_f1: 0.778, valid_macro_f1:0.658,             valid_weighted_f1: 0.765\n",
            "training...: 100%|██████████| 1056/1056 [03:02<00:00,  5.77it/s]\n",
            "evaluating...: 100%|██████████| 264/264 [00:37<00:00,  7.06it/s]\n",
            "epoch: 3\n",
            "train_loss: 0.683, train_acc: 0.787,            train_micro_f1: 0.686, train_macro_f1:0.585,             train_weighted_f1: 0.675\n",
            "valid_loss: 0.489, valid_acc: 0.835,            valid_micro_f1: 0.797, valid_macro_f1:0.692,             valid_weighted_f1: 0.786\n",
            "training...: 100%|██████████| 1056/1056 [03:01<00:00,  5.82it/s]\n",
            "evaluating...: 100%|██████████| 264/264 [00:37<00:00,  7.01it/s]\n",
            "epoch: 4\n",
            "train_loss: 0.591, train_acc: 0.814,            train_micro_f1: 0.718, train_macro_f1:0.626,             train_weighted_f1: 0.709\n",
            "valid_loss: 0.438, valid_acc: 0.853,            valid_micro_f1: 0.811, valid_macro_f1:0.715,             valid_weighted_f1: 0.802\n",
            "training...: 100%|██████████| 1056/1056 [03:01<00:00,  5.81it/s]\n",
            "evaluating...: 100%|██████████| 264/264 [00:37<00:00,  7.06it/s]\n",
            "epoch: 5\n",
            "train_loss: 0.532, train_acc: 0.830,            train_micro_f1: 0.741, train_macro_f1:0.654,             train_weighted_f1: 0.732\n",
            "valid_loss: 0.403, valid_acc: 0.864,            valid_micro_f1: 0.822, valid_macro_f1:0.731,             valid_weighted_f1: 0.813\n",
            "training...: 100%|██████████| 1056/1056 [03:01<00:00,  5.81it/s]\n",
            "evaluating...: 100%|██████████| 264/264 [00:37<00:00,  7.09it/s]\n",
            "epoch: 6\n",
            "train_loss: 0.491, train_acc: 0.843,            train_micro_f1: 0.758, train_macro_f1:0.675,             train_weighted_f1: 0.750\n",
            "valid_loss: 0.377, valid_acc: 0.872,            valid_micro_f1: 0.830, valid_macro_f1:0.744,             valid_weighted_f1: 0.822\n",
            "training...: 100%|██████████| 1056/1056 [03:01<00:00,  5.81it/s]\n",
            "evaluating...: 100%|██████████| 264/264 [00:37<00:00,  7.04it/s]\n",
            "epoch: 7\n",
            "train_loss: 0.459, train_acc: 0.852,            train_micro_f1: 0.771, train_macro_f1:0.692,             train_weighted_f1: 0.764\n",
            "valid_loss: 0.354, valid_acc: 0.879,            valid_micro_f1: 0.837, valid_macro_f1:0.755,             valid_weighted_f1: 0.830\n",
            "training...: 100%|██████████| 1056/1056 [03:01<00:00,  5.83it/s]\n",
            "evaluating...: 100%|██████████| 264/264 [00:37<00:00,  7.08it/s]\n",
            "epoch: 8\n",
            "train_loss: 0.434, train_acc: 0.860,            train_micro_f1: 0.782, train_macro_f1:0.706,             train_weighted_f1: 0.776\n",
            "valid_loss: 0.336, valid_acc: 0.885,            valid_micro_f1: 0.843, valid_macro_f1:0.764,             valid_weighted_f1: 0.836\n",
            "training...: 100%|██████████| 1056/1056 [03:00<00:00,  5.84it/s]\n",
            "evaluating...: 100%|██████████| 264/264 [00:37<00:00,  7.05it/s]\n",
            "epoch: 9\n",
            "train_loss: 0.414, train_acc: 0.866,            train_micro_f1: 0.791, train_macro_f1:0.718,             train_weighted_f1: 0.786\n",
            "valid_loss: 0.328, valid_acc: 0.886,            valid_micro_f1: 0.848, valid_macro_f1:0.772,             valid_weighted_f1: 0.842\n",
            "training...: 100%|██████████| 1056/1056 [03:01<00:00,  5.83it/s]\n",
            "evaluating...: 100%|██████████| 264/264 [00:37<00:00,  7.06it/s]\n",
            "epoch: 10\n",
            "train_loss: 0.395, train_acc: 0.872,            train_micro_f1: 0.799, train_macro_f1:0.728,             train_weighted_f1: 0.794\n",
            "valid_loss: 0.311, valid_acc: 0.892,            valid_micro_f1: 0.852, valid_macro_f1:0.778,             valid_weighted_f1: 0.846\n",
            "training...: 100%|██████████| 1056/1056 [03:02<00:00,  5.80it/s]\n",
            "evaluating...: 100%|██████████| 264/264 [00:36<00:00,  7.17it/s]\n",
            "epoch: 11\n",
            "train_loss: 0.382, train_acc: 0.875,            train_micro_f1: 0.806, train_macro_f1:0.737,             train_weighted_f1: 0.801\n",
            "valid_loss: 0.312, valid_acc: 0.892,            valid_micro_f1: 0.856, valid_macro_f1:0.784,             valid_weighted_f1: 0.850\n",
            "training...: 100%|██████████| 1056/1056 [03:02<00:00,  5.79it/s]\n",
            "evaluating...: 100%|██████████| 264/264 [00:37<00:00,  7.06it/s]\n",
            "epoch: 12\n",
            "train_loss: 0.368, train_acc: 0.879,            train_micro_f1: 0.812, train_macro_f1:0.744,             train_weighted_f1: 0.808\n",
            "valid_loss: 0.298, valid_acc: 0.896,            valid_micro_f1: 0.859, valid_macro_f1:0.789,             valid_weighted_f1: 0.854\n",
            "training...: 100%|██████████| 1056/1056 [03:01<00:00,  5.81it/s]\n",
            "evaluating...: 100%|██████████| 264/264 [00:37<00:00,  7.07it/s]\n",
            "epoch: 13\n",
            "train_loss: 0.358, train_acc: 0.882,            train_micro_f1: 0.818, train_macro_f1:0.751,             train_weighted_f1: 0.813\n",
            "valid_loss: 0.292, valid_acc: 0.899,            valid_micro_f1: 0.862, valid_macro_f1:0.793,             valid_weighted_f1: 0.857\n",
            "training...: 100%|██████████| 1056/1056 [03:02<00:00,  5.79it/s]\n",
            "evaluating...: 100%|██████████| 264/264 [00:37<00:00,  7.07it/s]\n",
            "epoch: 14\n",
            "train_loss: 0.346, train_acc: 0.886,            train_micro_f1: 0.823, train_macro_f1:0.757,             train_weighted_f1: 0.818\n",
            "valid_loss: 0.289, valid_acc: 0.900,            valid_micro_f1: 0.865, valid_macro_f1:0.797,             valid_weighted_f1: 0.860\n",
            "training...: 100%|██████████| 1056/1056 [03:02<00:00,  5.78it/s]\n",
            "evaluating...: 100%|██████████| 264/264 [00:37<00:00,  7.02it/s]\n",
            "epoch: 15\n",
            "train_loss: 0.338, train_acc: 0.889,            train_micro_f1: 0.827, train_macro_f1:0.763,             train_weighted_f1: 0.823\n",
            "valid_loss: 0.285, valid_acc: 0.900,            valid_micro_f1: 0.867, valid_macro_f1:0.801,             valid_weighted_f1: 0.862\n",
            "training...: 100%|██████████| 1056/1056 [03:02<00:00,  5.78it/s]\n",
            "evaluating...: 100%|██████████| 264/264 [00:37<00:00,  7.05it/s]\n",
            "epoch: 16\n",
            "train_loss: 0.329, train_acc: 0.892,            train_micro_f1: 0.831, train_macro_f1:0.768,             train_weighted_f1: 0.827\n",
            "valid_loss: 0.279, valid_acc: 0.903,            valid_micro_f1: 0.870, valid_macro_f1:0.804,             valid_weighted_f1: 0.865\n",
            "training...: 100%|██████████| 1056/1056 [03:02<00:00,  5.78it/s]\n",
            "evaluating...: 100%|██████████| 264/264 [00:37<00:00,  7.05it/s]\n",
            "epoch: 17\n",
            "train_loss: 0.322, train_acc: 0.894,            train_micro_f1: 0.835, train_macro_f1:0.773,             train_weighted_f1: 0.831\n",
            "valid_loss: 0.274, valid_acc: 0.904,            valid_micro_f1: 0.872, valid_macro_f1:0.807,             valid_weighted_f1: 0.867\n",
            "training...: 100%|██████████| 1056/1056 [03:03<00:00,  5.77it/s]\n",
            "evaluating...: 100%|██████████| 264/264 [00:37<00:00,  7.04it/s]\n",
            "epoch: 18\n",
            "train_loss: 0.315, train_acc: 0.896,            train_micro_f1: 0.838, train_macro_f1:0.777,             train_weighted_f1: 0.834\n",
            "valid_loss: 0.266, valid_acc: 0.906,            valid_micro_f1: 0.874, valid_macro_f1:0.810,             valid_weighted_f1: 0.869\n",
            "training...: 100%|██████████| 1056/1056 [03:02<00:00,  5.78it/s]\n",
            "evaluating...: 100%|██████████| 264/264 [00:37<00:00,  7.02it/s]\n",
            "epoch: 19\n",
            "train_loss: 0.308, train_acc: 0.898,            train_micro_f1: 0.841, train_macro_f1:0.781,             train_weighted_f1: 0.838\n",
            "valid_loss: 0.265, valid_acc: 0.908,            valid_micro_f1: 0.875, valid_macro_f1:0.813,             valid_weighted_f1: 0.871\n",
            "training...: 100%|██████████| 1056/1056 [03:02<00:00,  5.77it/s]\n",
            "evaluating...: 100%|██████████| 264/264 [00:37<00:00,  7.03it/s]\n",
            "epoch: 20\n",
            "train_loss: 0.304, train_acc: 0.900,            train_micro_f1: 0.844, train_macro_f1:0.785,             train_weighted_f1: 0.841\n",
            "valid_loss: 0.260, valid_acc: 0.908,            valid_micro_f1: 0.877, valid_macro_f1:0.816,             valid_weighted_f1: 0.873\n"
          ]
        }
      ]
    },
    {
      "cell_type": "code",
      "metadata": {
        "colab": {
          "base_uri": "https://localhost:8080/",
          "height": 388
        },
        "id": "2li3S7wE2Hhp",
        "outputId": "191abdf7-c04c-4bc9-deb8-752f17b1849a"
      },
      "source": [
        "# training vs validation loss \n",
        "fig = plt.figure(figsize=(10,6))\n",
        "ax = fig.add_subplot(1,1,1)\n",
        "ax.plot(train_losses, label='train loss')\n",
        "ax.plot(valid_losses, label='valid loss')\n",
        "plt.legend()\n",
        "ax.set_xlabel('updates')\n",
        "ax.set_ylabel('loss');"
      ],
      "execution_count": null,
      "outputs": [
        {
          "output_type": "display_data",
          "data": {
            "image/png": "[encoded data removed]",
            "text/plain": [
              "<Figure size 720x432 with 1 Axes>"
            ]
          },
          "metadata": {
            "needs_background": "light"
          }
        }
      ]
    },
    {
      "cell_type": "code",
      "metadata": {
        "colab": {
          "base_uri": "https://localhost:8080/",
          "height": 388
        },
        "id": "I9Y3rxmy2INo",
        "outputId": "b778aab6-2ea6-4560-a0d6-567ff950b383"
      },
      "source": [
        "# training vs validation accuracy\n",
        "fig = plt.figure(figsize=(10,6))\n",
        "ax = fig.add_subplot(1,1,1)\n",
        "ax.plot(train_accs, label='train accuracy')\n",
        "ax.plot(valid_accs, label='valid accuracy')\n",
        "plt.legend()\n",
        "ax.set_xlabel('updates')\n",
        "ax.set_ylabel('accuracy');"
      ],
      "execution_count": null,
      "outputs": [
        {
          "output_type": "display_data",
          "data": {
            "image/png": "[encoded data removed]",
            "text/plain": [
              "<Figure size 720x432 with 1 Axes>"
            ]
          },
          "metadata": {
            "needs_background": "light"
          }
        }
      ]
    },
    {
      "cell_type": "markdown",
      "metadata": {
        "id": "7_K9m5MQBAYA"
      },
      "source": [
        "## Performance on Test data"
      ]
    },
    {
      "cell_type": "code",
      "metadata": {
        "colab": {
          "base_uri": "https://localhost:8080/"
        },
        "id": "H2oaDB3x4tje",
        "outputId": "4060cfac-a189-4932-b284-b57dd3bbf504"
      },
      "source": [
        "# load model parameters\n",
        "model.load_state_dict(torch.load(model_save_path + 'pytorch_133_langs.pt'))\n",
        "\n",
        "test_loss, test_acc, test_label, test_predicted = evaluate(test_dataloader,\n",
        "                                                           model, criterion, device)\n",
        "\n",
        "epoch_test_loss = np.mean(test_loss)\n",
        "epoch_test_acc = np.mean(test_acc)\n",
        "\n",
        "epoch_test_micro_f1 = f1_score(test_label, test_predicted, average = 'micro')\n",
        "epoch_test_macro_f1 = f1_score(test_label, test_predicted, average = 'macro')\n",
        "epoch_test_weighted_f1 = f1_score(test_label, test_predicted, average = 'weighted')\n",
        "\n",
        "print(f'test_loss: {epoch_test_loss:.3f}, test_acc: {epoch_test_acc:.3f},\\\n",
        "        test_micro_f1: {epoch_test_micro_f1:.3f}, test_macro_f1:{epoch_test_macro_f1:.3f}, \\\n",
        "        test_weighted_f1: {epoch_test_weighted_f1:.3f}')"
      ],
      "execution_count": null,
      "outputs": [
        {
          "output_type": "stream",
          "name": "stdout",
          "text": [
            "evaluating...: 100%|██████████| 3853/3853 [09:24<00:00,  6.83it/s]\n",
            "test_loss: 0.219, test_acc: 0.918,        test_micro_f1: 0.918, test_macro_f1:0.759,         test_weighted_f1: 0.922\n"
          ]
        }
      ]
    },
    {
      "cell_type": "code",
      "metadata": {
        "colab": {
          "base_uri": "https://localhost:8080/"
        },
        "id": "SlRsuXxMaXW4",
        "outputId": "60044384-3d30-4695-cdb5-9bdaee915958"
      },
      "source": [
        "# classification report\n",
        "from sklearn.metrics import classification_report\n",
        "print(classification_report(test_label, test_predicted))"
      ],
      "execution_count": null,
      "outputs": [
        {
          "output_type": "stream",
          "name": "stdout",
          "text": [
            "              precision    recall  f1-score   support\n",
            "\n",
            "           0       0.95      0.98      0.96      7597\n",
            "           1       0.56      0.96      0.71      2528\n",
            "           2       0.62      0.82      0.71    100757\n",
            "           3       0.43      0.87      0.58      4900\n",
            "           4       0.95      0.91      0.93     11993\n",
            "           5       0.99      0.96      0.98     13974\n",
            "           6       0.82      0.79      0.80     10138\n",
            "           7       0.99      0.98      0.99    113629\n",
            "           8       1.00      1.00      1.00      6861\n",
            "           9       1.00      0.97      0.98    305809\n",
            "          10       1.00      0.95      0.97    133500\n",
            "          11       0.99      0.98      0.98     26797\n",
            "          12       0.99      0.96      0.98     94763\n",
            "          13       1.00      0.99      1.00     39562\n",
            "          14       0.98      1.00      0.99      2880\n",
            "          15       0.99      0.98      0.98     66264\n",
            "          16       0.43      0.95      0.59      5448\n",
            "          17       0.51      0.79      0.62      2989\n",
            "          18       0.99      0.95      0.97    158993\n",
            "          19       0.99      1.00      0.99      3191\n",
            "          20       1.00      1.00      1.00     42663\n",
            "          21       0.73      0.45      0.55     95837\n",
            "          22       0.74      0.94      0.83      8102\n",
            "          23       0.51      0.90      0.65      3678\n",
            "          24       0.98      0.97      0.97     13097\n",
            "          25       1.00      1.00      1.00     13077\n",
            "          26       0.75      0.93      0.83     15587\n",
            "          27       0.52      0.96      0.67      3595\n",
            "          28       0.92      0.96      0.94     29487\n",
            "          29       0.46      0.77      0.58      2853\n",
            "          30       0.95      0.99      0.97      4847\n",
            "          31       0.99      0.98      0.99     22079\n",
            "          32       0.99      0.92      0.95     77772\n",
            "          33       0.83      0.95      0.89      5122\n",
            "          34       0.99      0.92      0.95    175372\n",
            "          35       0.66      0.85      0.75      3232\n",
            "          36       0.96      0.92      0.94     71015\n",
            "          37       0.80      0.56      0.66      9035\n",
            "          38       0.90      0.95      0.92      8542\n",
            "          39       0.94      0.95      0.95      2735\n",
            "          40       0.81      0.98      0.89      3445\n",
            "          41       0.97      1.00      0.98      4060\n",
            "          42       1.00      1.00      1.00      9154\n",
            "          43       1.00      0.96      0.98    142611\n",
            "          44       0.88      0.92      0.90     35122\n",
            "          45       1.00      1.00      1.00      4075\n",
            "          46       0.92      0.99      0.95      2231\n",
            "          47       0.71      0.90      0.80       936\n",
            "          48       0.98      0.99      0.99      1560\n",
            "          49       0.92      0.97      0.95      1228\n",
            "          50       0.91      0.95      0.93       261\n",
            "          51       0.38      0.04      0.07       160\n",
            "          52       1.00      1.00      1.00       165\n",
            "          53       0.37      0.89      0.53      1596\n",
            "          54       0.61      0.96      0.75       207\n",
            "          55       0.58      0.93      0.71      1234\n",
            "          56       0.20      0.81      0.32      1045\n",
            "          57       0.17      0.63      0.27       923\n",
            "          58       0.23      0.95      0.36      1570\n",
            "          59       0.76      0.88      0.81       365\n",
            "          60       0.46      0.90      0.61      1139\n",
            "          61       0.82      0.88      0.85       174\n",
            "          62       0.70      0.64      0.67       219\n",
            "          63       1.00      0.97      0.99       401\n",
            "          64       0.95      0.93      0.94       767\n",
            "          65       0.61      0.66      0.63       302\n",
            "          66       0.35      0.91      0.50       806\n",
            "          67       0.80      0.33      0.47       315\n",
            "          68       0.16      0.19      0.18       172\n",
            "          69       0.50      0.93      0.65       820\n",
            "          70       0.94      0.94      0.94       200\n",
            "          71       0.90      0.85      0.87       564\n",
            "          72       0.63      0.50      0.56       462\n",
            "          73       0.47      0.06      0.11       219\n",
            "          74       0.55      0.92      0.69       733\n",
            "          75       0.58      0.96      0.72       860\n",
            "          76       0.99      1.00      1.00      1521\n",
            "          77       0.65      0.91      0.76       307\n",
            "          78       0.70      0.96      0.81       526\n",
            "          79       0.37      0.89      0.52      1487\n",
            "          80       0.91      0.99      0.95       946\n",
            "          81       0.35      0.35      0.35       991\n",
            "          82       0.77      0.89      0.83       785\n",
            "          83       0.60      0.76      0.67       164\n",
            "          84       0.26      0.80      0.39       525\n",
            "          85       0.96      0.98      0.97       325\n",
            "          86       0.62      0.97      0.76       848\n",
            "          87       1.00      1.00      1.00       302\n",
            "          88       0.48      0.88      0.62      1081\n",
            "          89       0.57      0.76      0.66       354\n",
            "          90       0.91      0.57      0.70       132\n",
            "          91       0.61      0.74      0.67       339\n",
            "          92       0.87      0.84      0.85       190\n",
            "          93       0.67      0.78      0.72       562\n",
            "          94       0.78      0.81      0.80       296\n",
            "          95       0.67      0.90      0.77       491\n",
            "          96       0.59      0.69      0.64       131\n",
            "          97       0.61      0.14      0.22       295\n",
            "          98       0.98      0.89      0.94       189\n",
            "          99       0.90      0.88      0.89       506\n",
            "         100       1.00      1.00      1.00       450\n",
            "         101       1.00      0.89      0.94       159\n",
            "         102       0.99      0.95      0.97       232\n",
            "         103       0.76      0.83      0.80       405\n",
            "         104       0.54      0.88      0.67      1454\n",
            "         105       0.82      0.79      0.80       797\n",
            "         106       0.17      0.35      0.23       383\n",
            "         107       0.86      0.91      0.88       596\n",
            "         108       0.37      0.32      0.34       174\n",
            "         109       0.73      0.60      0.66       388\n",
            "         110       0.76      0.65      0.70       181\n",
            "         111       0.69      0.96      0.81      1056\n",
            "         112       1.00      1.00      1.00       800\n",
            "         113       0.74      0.92      0.82       417\n",
            "         114       0.25      0.37      0.29       172\n",
            "         115       0.83      0.93      0.88       556\n",
            "         116       0.66      0.93      0.77      1347\n",
            "         117       0.51      0.77      0.61      1127\n",
            "         118       0.15      0.18      0.17       233\n",
            "         119       1.00      1.00      1.00      1164\n",
            "         120       0.89      0.96      0.92      1553\n",
            "         121       0.66      0.49      0.56       138\n",
            "         122       0.55      0.51      0.53       164\n",
            "         123       0.97      0.84      0.90       639\n",
            "         124       0.24      0.30      0.27       269\n",
            "         125       0.82      0.91      0.86      1727\n",
            "         126       0.76      0.85      0.80       571\n",
            "         127       0.75      0.79      0.77       185\n",
            "         128       0.71      0.17      0.28       129\n",
            "         129       0.95      0.91      0.93       755\n",
            "         130       0.88      0.97      0.92       275\n",
            "         131       0.94      0.93      0.94       196\n",
            "         132       0.14      0.81      0.24       262\n",
            "\n",
            "    accuracy                           0.92   1972648\n",
            "   macro avg       0.74      0.83      0.76   1972648\n",
            "weighted avg       0.94      0.92      0.92   1972648\n",
            "\n"
          ]
        }
      ]
    },
    {
      "cell_type": "code",
      "metadata": {
        "id": "pUFGwIuhTfeq"
      },
      "source": [
        "# prediction function\n",
        "def detect_lang(text, model, tokenizer, vocab, device,lang_labels):\n",
        "    tokens = tokenizer(text)\n",
        "    ids = [vocab[t] for t in tokens]\n",
        "    length = torch.LongTensor([len(ids)])\n",
        "    tensor = torch.LongTensor(ids).unsqueeze(dim=0).to(device)\n",
        "    prediction = model(tensor, length).squeeze(dim=0)\n",
        "    probability = torch.softmax(prediction, dim=-1)\n",
        "    predicted_class = prediction.argmax(dim=-1).item()\n",
        "    predicted_probability = probability[predicted_class].item()\n",
        "    return lang_labels[predicted_class], predicted_probability"
      ],
      "execution_count": null,
      "outputs": []
    },
    {
      "cell_type": "code",
      "metadata": {
        "colab": {
          "base_uri": "https://localhost:8080/"
        },
        "id": "9RmylgZgToXH",
        "outputId": "b9f30b9a-38da-4d0c-815e-b627a7041b07"
      },
      "source": [
        "# try one sentence\n",
        "text = \"彼の発言で私の希望は失われた。\"\n",
        "detect_lang(text, model, tokenizer, vocab, device,lang_labels)"
      ],
      "execution_count": null,
      "outputs": [
        {
          "output_type": "execute_result",
          "data": {
            "text/plain": [
              "('jpn', 1.0)"
            ]
          },
          "metadata": {},
          "execution_count": 49
        }
      ]
    },
    {
      "cell_type": "code",
      "metadata": {
        "id": "S1mBzNAofhmC"
      },
      "source": [
        ""
      ],
      "execution_count": null,
      "outputs": []
    }
  ]
}